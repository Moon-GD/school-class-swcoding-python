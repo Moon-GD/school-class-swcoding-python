{
 "cells": [
  {
   "cell_type": "markdown",
   "metadata": {},
   "source": [
    "# Lab 10.1 일반 함수와 람다 함수의 정의와 호출"
   ]
  },
  {
   "cell_type": "code",
   "execution_count": 4,
   "metadata": {},
   "outputs": [
    {
     "name": "stdout",
     "output_type": "stream",
     "text": [
      "100\n"
     ]
    }
   ],
   "source": [
    "# 1.\n",
    "def sub(a, b) : return a - b\n",
    "\n",
    "print(sub(200, 100))"
   ]
  },
  {
   "cell_type": "code",
   "execution_count": 5,
   "metadata": {},
   "outputs": [
    {
     "name": "stdout",
     "output_type": "stream",
     "text": [
      "100\n"
     ]
    }
   ],
   "source": [
    "# 2.\n",
    "sub = lambda a, b : a - b\n",
    "print(sub(200, 100))"
   ]
  },
  {
   "cell_type": "markdown",
   "metadata": {},
   "source": [
    "# Lab 10.2 람다 함수의 응용"
   ]
  },
  {
   "cell_type": "code",
   "execution_count": 8,
   "metadata": {},
   "outputs": [],
   "source": [
    "n_list = [1, 2, 3, 4, 5, 6, 7, 8, 9, 10]"
   ]
  },
  {
   "cell_type": "code",
   "execution_count": 18,
   "metadata": {},
   "outputs": [
    {
     "name": "stdout",
     "output_type": "stream",
     "text": [
      "[2, 4, 6, 8, 10]\n",
      "[2, 4, 6, 8, 10]\n"
     ]
    }
   ],
   "source": [
    "# 1. 1)\n",
    "even_list = []\n",
    "for a in filter(lambda x : x % 2 == 0, n_list):\n",
    "    even_list.append(a)\n",
    "print(even_list)\n",
    "\n",
    "# 1. 2)\n",
    "even_list = list(filter(lambda x : x % 2 == 0 , n_list))\n",
    "print(even_list)"
   ]
  },
  {
   "cell_type": "code",
   "execution_count": 19,
   "metadata": {},
   "outputs": [
    {
     "name": "stdout",
     "output_type": "stream",
     "text": [
      "[1, 3, 5, 7, 9]\n",
      "[1, 3, 5, 7, 9]\n"
     ]
    }
   ],
   "source": [
    "# 2. 1)\n",
    "odd_list = []\n",
    "for a in filter(lambda x : x % 2, n_list):\n",
    "    odd_list.append(a)\n",
    "print(odd_list)\n",
    "    \n",
    "# 2. 2)\n",
    "odd_list = list(filter(lambda x : x % 2, n_list))\n",
    "print(odd_list)"
   ]
  },
  {
   "cell_type": "markdown",
   "metadata": {},
   "source": [
    "# Lab 10.3 map() 함수의 응용"
   ]
  },
  {
   "cell_type": "code",
   "execution_count": 23,
   "metadata": {},
   "outputs": [],
   "source": [
    "a_list = ['a', 'b', 'c', 'd']"
   ]
  },
  {
   "cell_type": "code",
   "execution_count": 29,
   "metadata": {},
   "outputs": [
    {
     "name": "stdout",
     "output_type": "stream",
     "text": [
      "['A', 'B', 'C', 'D']\n",
      "['A', 'B', 'C', 'D']\n"
     ]
    }
   ],
   "source": [
    "# 1. 1)\n",
    "def to_upper(a):\n",
    "    return a.upper()\n",
    "\n",
    "upper_a_list = []\n",
    "for alpha in a_list:\n",
    "    upper_a_list.append(to_upper(alpha))\n",
    "print(upper_a_list)\n",
    "\n",
    "# 1. 2)\n",
    "upper_a_list = list(map(lambda x : x.upper(), a_list))\n",
    "print(upper_a_list)"
   ]
  },
  {
   "cell_type": "code",
   "execution_count": 32,
   "metadata": {},
   "outputs": [
    {
     "name": "stdout",
     "output_type": "stream",
     "text": [
      "입력 값의 두 배 : [20, 40, 60]\n",
      "입력 값의 세 배 : [30, 60, 90]\n",
      "입력 값의 두 배 : [20, 40, 60]\n",
      "입력 값의 세 배 : [30, 60, 90]\n"
     ]
    }
   ],
   "source": [
    "n_list = [10, 20, 30]\n",
    "\n",
    "# 2. 1)\n",
    "def twice(number): return number * 2    \n",
    "def triple(number): return number * 3\n",
    "\n",
    "# 결과 출력\n",
    "print(f'입력 값의 두 배 : {list(map(lambda x : twice(x), n_list))}')\n",
    "print(f'입력 값의 세 배 : {list(map(lambda x : triple(x), n_list))}')\n",
    "\n",
    "# 2. 2)\n",
    "twice = lambda x : 2 * x\n",
    "triple = lambda x : 3 * x\n",
    "\n",
    "# 결과 출력\n",
    "print(f'입력 값의 두 배 : {list(map(lambda x : twice(x), n_list))}')\n",
    "print(f'입력 값의 세 배 : {list(map(lambda x : triple(x), n_list))}')"
   ]
  },
  {
   "cell_type": "markdown",
   "metadata": {},
   "source": [
    "# Lab 10.4 reduce() 함수의 응용"
   ]
  },
  {
   "cell_type": "code",
   "execution_count": 37,
   "metadata": {},
   "outputs": [
    {
     "name": "stdout",
     "output_type": "stream",
     "text": [
      "1에서 100까지의 합 : 5050\n"
     ]
    }
   ],
   "source": [
    "from functools import reduce\n",
    "\n",
    "# 1.\n",
    "print(f'1에서 100까지의 합 : {reduce(lambda x, y : x + y, [i for i in range(1, 101)])}')"
   ]
  },
  {
   "cell_type": "code",
   "execution_count": 38,
   "metadata": {},
   "outputs": [
    {
     "name": "stdout",
     "output_type": "stream",
     "text": [
      "10! = 3628800\n"
     ]
    }
   ],
   "source": [
    "# 2.\n",
    "print(f'10! = {reduce(lambda x, y : x * y, [i for i in range(1, 11)])}')"
   ]
  },
  {
   "cell_type": "markdown",
   "metadata": {},
   "source": [
    "# Lab 10.5 리스트의 축약 기능"
   ]
  },
  {
   "cell_type": "code",
   "execution_count": 40,
   "metadata": {},
   "outputs": [
    {
     "name": "stdout",
     "output_type": "stream",
     "text": [
      "cubic = [1, 8, 27, 64, 125, 216, 343, 512, 729, 1000]\n",
      "first_a = ['w', 't', 't', 'p', 'w']\n"
     ]
    }
   ],
   "source": [
    "# 1.\n",
    "cubic = [i ** 3 for i in range(1, 11)]\n",
    "print(f'cubic = {cubic}')\n",
    "\n",
    "# 2. \n",
    "a = ['welcome', 'to', 'the', 'python', 'world']\n",
    "first_a = [c[0:1] for c in a]\n",
    "print(f'first_a = {first_a}')"
   ]
  },
  {
   "cell_type": "markdown",
   "metadata": {},
   "source": [
    "# Lab 10.6 리스트의 축약 기능과 조건식"
   ]
  },
  {
   "cell_type": "code",
   "execution_count": 1,
   "metadata": {},
   "outputs": [
    {
     "name": "stdout",
     "output_type": "stream",
     "text": [
      "cubic = [1, 8, 27, 64, 125, 216, 343]\n",
      "['1', '2', '3', '4']\n"
     ]
    }
   ],
   "source": [
    "# 1.\n",
    "cubic = [i ** 3 for i in range(1, 11) if i ** 3 <= 500]\n",
    "print(f'cubic = {cubic}')\n",
    "\n",
    "# 2.\n",
    "st = 'Hello 1234 Python'\n",
    "number = [c for c in st if c.isdigit()]\n",
    "print(number)"
   ]
  },
  {
   "cell_type": "markdown",
   "metadata": {},
   "source": [
    "# Lab 10.7 반복자 객체 만들기"
   ]
  },
  {
   "cell_type": "code",
   "execution_count": 8,
   "metadata": {},
   "outputs": [
    {
     "name": "stdout",
     "output_type": "stream",
     "text": [
      "0 2 4 6 8 \n",
      "0 2 4 6 8 10 12 14 16 18 20 "
     ]
    }
   ],
   "source": [
    "# 1.\n",
    "\n",
    "class EvenCounter:\n",
    "    def __init__(self, n = 0):\n",
    "        self.n = 0\n",
    "        \n",
    "    def __iter__(self):\n",
    "        return self\n",
    "    \n",
    "    def __next__(self):\n",
    "        t = self.n\n",
    "        self.n += 2\n",
    "            \n",
    "        return t\n",
    "        \n",
    "my_even = EvenCounter()\n",
    "\n",
    "for x in my_even:\n",
    "    if x >= 10:\n",
    "        break\n",
    "    print(x, end=' ')\n",
    "    \n",
    "# 2. \n",
    "print()\n",
    "my_even = EvenCounter()\n",
    "for x in my_even:\n",
    "    if x > 20:\n",
    "        break\n",
    "    else:\n",
    "        print(x, end=' ')"
   ]
  },
  {
   "cell_type": "markdown",
   "metadata": {},
   "source": [
    "# Lab 10.8 split()과 join()"
   ]
  },
  {
   "cell_type": "code",
   "execution_count": 9,
   "metadata": {},
   "outputs": [
    {
     "data": {
      "text/plain": [
       "['Welcome', 'to', 'Busan', 'Metropolitan', 'City.']"
      ]
     },
     "execution_count": 9,
     "metadata": {},
     "output_type": "execute_result"
    }
   ],
   "source": [
    "# 1.\n",
    "txt = \"Welcome to Busan Metropolitan City.\"\n",
    "txt.split()"
   ]
  },
  {
   "cell_type": "code",
   "execution_count": 12,
   "metadata": {},
   "outputs": [
    {
     "data": {
      "text/plain": [
       "['Hello', 'My name is DongMin', 'Good to see you again']"
      ]
     },
     "execution_count": 12,
     "metadata": {},
     "output_type": "execute_result"
    }
   ],
   "source": [
    "# 2.\n",
    "greet = \"Hello,My name is DongMin,Good to see you again\"\n",
    "greet.split(',')"
   ]
  },
  {
   "cell_type": "code",
   "execution_count": 17,
   "metadata": {},
   "outputs": [
    {
     "name": "stdout",
     "output_type": "stream",
     "text": [
      "['Apple', 'Banana', 'Melon', 'Orange']\n"
     ]
    }
   ],
   "source": [
    "# 3.\n",
    "fruits = 'Apple\\Banana\\Melon\\Orange'\n",
    "fruits_list = fruits.split('\\\\')\n",
    "print(fruits_list)"
   ]
  }
 ],
 "metadata": {
  "kernelspec": {
   "display_name": "Python 3",
   "language": "python",
   "name": "python3"
  },
  "language_info": {
   "codemirror_mode": {
    "name": "ipython",
    "version": 3
   },
   "file_extension": ".py",
   "mimetype": "text/x-python",
   "name": "python",
   "nbconvert_exporter": "python",
   "pygments_lexer": "ipython3",
   "version": "3.8.5"
  }
 },
 "nbformat": 4,
 "nbformat_minor": 4
}
