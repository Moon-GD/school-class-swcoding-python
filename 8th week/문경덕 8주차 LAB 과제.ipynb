{
 "cells": [
  {
   "cell_type": "markdown",
   "metadata": {},
   "source": [
    "# Lab 8.1 다음 코드는 어떤 예외를 발생시키는가?"
   ]
  },
  {
   "cell_type": "code",
   "execution_count": 1,
   "metadata": {},
   "outputs": [
    {
     "name": "stdout",
     "output_type": "stream",
     "text": [
      "error name : list index out of range\n"
     ]
    }
   ],
   "source": [
    "# 1.\n",
    "\n",
    "try:\n",
    "    a = [10, 20, 30]\n",
    "    a[3]\n",
    "except Exception as e:\n",
    "    print(f'error name : {e}')"
   ]
  },
  {
   "cell_type": "code",
   "execution_count": 2,
   "metadata": {},
   "outputs": [
    {
     "name": "stdout",
     "output_type": "stream",
     "text": [
      "error name : invalid literal for int() with base 10: '20%'\n"
     ]
    }
   ],
   "source": [
    "# 2.\n",
    "\n",
    "try:\n",
    "    n = int('20%')\n",
    "except Exception as e:\n",
    "    print(f'error name : {e}')"
   ]
  },
  {
   "cell_type": "code",
   "execution_count": 3,
   "metadata": {},
   "outputs": [
    {
     "name": "stdout",
     "output_type": "stream",
     "text": [
      "error name : unsupported operand type(s) for +: 'int' and 'str'\n"
     ]
    }
   ],
   "source": [
    "# 3.\n",
    "\n",
    "try:\n",
    "    a = 100 + '200'\n",
    "except Exception as e:\n",
    "    print(f'error name : {e}')"
   ]
  },
  {
   "cell_type": "markdown",
   "metadata": {},
   "source": [
    "# Lab 8.2 다음 코드는 어떤 예외를 발생시키는가?"
   ]
  },
  {
   "cell_type": "code",
   "execution_count": 5,
   "metadata": {},
   "outputs": [
    {
     "name": "stdout",
     "output_type": "stream",
     "text": [
      "0으로 나누기를 시도하였습니다\n"
     ]
    }
   ],
   "source": [
    "# 1.\n",
    "\n",
    "try:\n",
    "    10 * (30 / 0)\n",
    "except ZeroDivisionError:\n",
    "    print('0으로 나누기를 시도하였습니다')"
   ]
  },
  {
   "cell_type": "code",
   "execution_count": 8,
   "metadata": {},
   "outputs": [
    {
     "name": "stdout",
     "output_type": "stream",
     "text": [
      "정수 x를 입력하세요ㅌ\n",
      "지원되지 않는 연산자를 사용하였습니다.\n"
     ]
    }
   ],
   "source": [
    "# 2.\n",
    "\n",
    "try:\n",
    "    x = int(input('정수 x를 입력하세요'))\n",
    "except ValueError:\n",
    "    print('지원되지 않는 연산자를 사용하였습니다.')"
   ]
  },
  {
   "cell_type": "code",
   "execution_count": 10,
   "metadata": {},
   "outputs": [
    {
     "name": "stdout",
     "output_type": "stream",
     "text": [
      "myfile.txt가 존재하지 않습니다\n"
     ]
    }
   ],
   "source": [
    "# 3.\n",
    "\n",
    "import sys\n",
    "\n",
    "try:\n",
    "    f = open('myfile.txt')\n",
    "    s = f.readline()\n",
    "except:\n",
    "    print('myfile.txt가 존재하지 않습니다')"
   ]
  },
  {
   "cell_type": "markdown",
   "metadata": {},
   "source": [
    "# Lab 8.3 예외의 생성과 처리"
   ]
  },
  {
   "cell_type": "code",
   "execution_count": 21,
   "metadata": {},
   "outputs": [
    {
     "name": "stdout",
     "output_type": "stream",
     "text": [
      "[1, 2, 3, 4, 5]\n",
      "a의 요소를 하나 선택하시오 : 2\n",
      "2은(는) 2 번째 요소입니다.\n"
     ]
    }
   ],
   "source": [
    "# 1 - 1.\n",
    "a = [1, 2, 3, 4, 5]\n",
    "print(a)\n",
    "element = int(input('a의 요소를 하나 선택하시오 : '))\n",
    "print(f'{element}은(는) {a.index(element) + 1} 번째 요소입니다.')"
   ]
  },
  {
   "cell_type": "code",
   "execution_count": 22,
   "metadata": {},
   "outputs": [
    {
     "name": "stdout",
     "output_type": "stream",
     "text": [
      "[1, 2, 3, 4, 5]\n",
      "a의 요소를 하나 선택하시오 : 1\n",
      "1은(는) 1 번째 요소입니다.\n"
     ]
    }
   ],
   "source": [
    "# 1 - 2.\n",
    "a = [1, 2, 3, 4, 5]\n",
    "print(a)\n",
    "element = int(input('a의 요소를 하나 선택하시오 : '))\n",
    "print(f'{element}은(는) {a.index(element) + 1} 번째 요소입니다.')"
   ]
  },
  {
   "cell_type": "code",
   "execution_count": 24,
   "metadata": {},
   "outputs": [
    {
     "name": "stdout",
     "output_type": "stream",
     "text": [
      "[1, 2, 3, 4, 5]\n",
      "a의 요소를 하나 선택하시오 : 삼\n",
      "오류 : 입력 값이 실수나 정수가 아님\n"
     ]
    }
   ],
   "source": [
    "# 2.\n",
    "a = [1, 2, 3, 4, 5]\n",
    "print(a)\n",
    "\n",
    "try:\n",
    "    element = int(input('a의 요소를 하나 선택하시오 : '))\n",
    "    print(f'{element}은(는) {a.index(element) + 1} 번째 요소입니다.')\n",
    "except:\n",
    "    print('오류 : 입력 값이 실수나 정수가 아님')"
   ]
  },
  {
   "cell_type": "code",
   "execution_count": 39,
   "metadata": {},
   "outputs": [
    {
     "name": "stdout",
     "output_type": "stream",
     "text": [
      "b'hi'\n"
     ]
    }
   ],
   "source": [
    "f = open('test.txt', \"wb\")\n",
    "text = 'hi'\n",
    "f.write(text.encode('utf-8'))\n",
    "f.close()\n",
    "\n",
    "f = open('test.txt', 'rb')\n",
    "print(f.readline())\n",
    "f.close()"
   ]
  },
  {
   "cell_type": "markdown",
   "metadata": {},
   "source": [
    "# Lab 8.4 파일 저장하기"
   ]
  },
  {
   "cell_type": "code",
   "execution_count": 43,
   "metadata": {},
   "outputs": [],
   "source": [
    "# 1.\n",
    "\n",
    "numbers_file = open('numbers.txt', \"w\")\n",
    "numbers_file.write('''100\n",
    "200\n",
    "300\n",
    "400\n",
    "''')\n",
    "numbers_file.close()"
   ]
  },
  {
   "cell_type": "code",
   "execution_count": 44,
   "metadata": {},
   "outputs": [],
   "source": [
    "# 2. \n",
    "\n",
    "song_file = open('we_will_rock.txt', \"w\")\n",
    "text_content = \"\"\"Buddy, you're a boy, make a big noise\n",
    "Playing in the street, gonna be a big man someday\n",
    "You got mud on your face, you big disgrace\n",
    "Kicking your can all over the place, singin'\n",
    "We will, we will rock you\n",
    "We will, we will rock you\"\"\"\n",
    "song_file.write(text_content)\n",
    "song_file.close()"
   ]
  },
  {
   "cell_type": "markdown",
   "metadata": {},
   "source": [
    "# Lab 8.5 파일 읽어오기"
   ]
  },
  {
   "cell_type": "code",
   "execution_count": 53,
   "metadata": {},
   "outputs": [
    {
     "name": "stdout",
     "output_type": "stream",
     "text": [
      "100\n",
      "200\n",
      "300\n",
      "400\n"
     ]
    }
   ],
   "source": [
    "# 1.\n",
    "\n",
    "numbers_file = open('numbers.txt', \"r\")\n",
    "\n",
    "one_line = numbers_file.readline().rstrip()\n",
    "while one_line != '':\n",
    "    print(one_line)\n",
    "    one_line = numbers_file.readline().rstrip()\n",
    "\n",
    "numbers_file.close()"
   ]
  },
  {
   "cell_type": "code",
   "execution_count": 58,
   "metadata": {},
   "outputs": [
    {
     "name": "stdout",
     "output_type": "stream",
     "text": [
      "Buddy, you're a boy, make a big noise\n",
      "Playing in the street, gonna be a big man someday\n",
      "You got mud on your face, you big disgrace\n",
      "Kicking your can all over the place, singin'\n",
      "We will, we will rock you\n",
      "We will, we will rock you\n"
     ]
    }
   ],
   "source": [
    "# 2.\n",
    "\n",
    "song_file = open('we_will_rock.txt', \"r\")\n",
    "\n",
    "one_line = song_file.readline().rstrip()\n",
    "while one_line != '':\n",
    "    print(one_line)\n",
    "    one_line = song_file.readline().rstrip()\n",
    "\n",
    "song_file.close()"
   ]
  },
  {
   "cell_type": "markdown",
   "metadata": {},
   "source": [
    "# Lab 8.6 파일 저장하기"
   ]
  },
  {
   "cell_type": "code",
   "execution_count": 59,
   "metadata": {},
   "outputs": [
    {
     "name": "stdout",
     "output_type": "stream",
     "text": [
      "BUDDY, YOU'RE A BOY, MAKE A BIG NOISE\n",
      "PLAYING IN THE STREET, GONNA BE A BIG MAN SOMEDAY\n",
      "YOU GOT MUD ON YOUR FACE, YOU BIG DISGRACE\n",
      "KICKING YOUR CAN ALL OVER THE PLACE, SINGIN'\n",
      "WE WILL, WE WILL ROCK YOU\n",
      "WE WILL, WE WILL ROCK YOU\n"
     ]
    }
   ],
   "source": [
    "# 1.\n",
    "\n",
    "song_file = open('we_will_rock.txt', \"r\")\n",
    "\n",
    "one_line = song_file.readline().rstrip().upper()\n",
    "while one_line != '':\n",
    "    print(one_line)\n",
    "    one_line = song_file.readline().rstrip().upper()\n",
    "\n",
    "song_file.close()"
   ]
  },
  {
   "cell_type": "code",
   "execution_count": 60,
   "metadata": {},
   "outputs": [
    {
     "name": "stdout",
     "output_type": "stream",
     "text": [
      "WE WILL, WE WILL ROCK YOU\n",
      "WE WILL, WE WILL ROCK YOU\n",
      "KICKING YOUR CAN ALL OVER THE PLACE, SINGIN'\n",
      "YOU GOT MUD ON YOUR FACE, YOU BIG DISGRACE\n",
      "PLAYING IN THE STREET, GONNA BE A BIG MAN SOMEDAY\n",
      "BUDDY, YOU'RE A BOY, MAKE A BIG NOISE\n"
     ]
    }
   ],
   "source": [
    "# 2.\n",
    "\n",
    "song_file = open('we_will_rock.txt', \"r\")\n",
    "\n",
    "one_line = song_file.readline().rstrip().upper()  # 한 줄 읽기\n",
    "line_list = []\n",
    "\n",
    "while one_line != '':\n",
    "    line_list.append(one_line)\n",
    "    one_line = song_file.readline().rstrip().upper()\n",
    "\n",
    "song_file.close()\n",
    "\n",
    "for line in line_list[::-1]:\n",
    "    print(line)"
   ]
  },
  {
   "cell_type": "code",
   "execution_count": null,
   "metadata": {},
   "outputs": [],
   "source": []
  }
 ],
 "metadata": {
  "kernelspec": {
   "display_name": "Python 3",
   "language": "python",
   "name": "python3"
  },
  "language_info": {
   "codemirror_mode": {
    "name": "ipython",
    "version": 3
   },
   "file_extension": ".py",
   "mimetype": "text/x-python",
   "name": "python",
   "nbconvert_exporter": "python",
   "pygments_lexer": "ipython3",
   "version": "3.8.5"
  }
 },
 "nbformat": 4,
 "nbformat_minor": 4
}
