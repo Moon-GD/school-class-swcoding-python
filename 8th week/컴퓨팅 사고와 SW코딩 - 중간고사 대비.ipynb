{
 "cells": [
  {
   "cell_type": "markdown",
   "metadata": {},
   "source": [
    "# Lab 5.1"
   ]
  },
  {
   "cell_type": "code",
   "execution_count": 7,
   "metadata": {},
   "outputs": [
    {
     "name": "stdout",
     "output_type": "stream",
     "text": [
      "even_lsit = [2, 4, 6, 8, 10]\n",
      "Nations = ['Korea', 'China', 'India', 'Nepal']\n",
      "frineds = ['길동', '철수', '은지', '지은', '영민']\n",
      "string = ['X', 'Y', 'Z']\n"
     ]
    }
   ],
   "source": [
    "# 1, 2.\n",
    "even_list = [i for i in range(2, 11, 2)]\n",
    "\n",
    "print(f'even_lsit = {even_list}')\n",
    "\n",
    "# 3. \n",
    "nations = ['Korea', 'China', 'India', 'Nepal']\n",
    "print(f'Nations = {nations}')\n",
    "\n",
    "# 4.\n",
    "friends = ['길동', '철수', '은지', '지은', '영민']\n",
    "print(f'frineds = {friends}')\n",
    "\n",
    "# 5.\n",
    "string = 'XYZ'\n",
    "string = [s for s in string]\n",
    "print(f'string = {string}')"
   ]
  },
  {
   "cell_type": "markdown",
   "metadata": {},
   "source": [
    "# Lab 5.2"
   ]
  },
  {
   "cell_type": "code",
   "execution_count": 17,
   "metadata": {},
   "outputs": [
    {
     "name": "stdout",
     "output_type": "stream",
     "text": [
      "prime_list 첫 원소 : 2\n",
      "prime_list 마지막 원소 : 7\n",
      "prime_list 마지막 원소 : 7\n",
      "nations의 첫 원소 : Korea\n",
      "nations의 마지막 원소 : Malaysia\n",
      "nations의 마지막 원소 : Malaysia\n"
     ]
    }
   ],
   "source": [
    "# 1.\n",
    "def isPrime(n):\n",
    "    for i in range(2, n-1):\n",
    "        if n % i == 0:\n",
    "            return False\n",
    "        \n",
    "    return True\n",
    "\n",
    "\n",
    "prime_list = [i for i in range(2, 11) if isPrime(i) ]\n",
    "print(f'prime_list 첫 원소 : {prime_list[0]}')\n",
    "\n",
    "# 2.\n",
    "print(f'prime_list 마지막 원소 : {prime_list[len(prime_list) - 1]}')\n",
    "\n",
    "# 3.\n",
    "print(f'prime_list 마지막 원소 : {prime_list[- 1]}')\n",
    "\n",
    "# 4.\n",
    "nations = ['Korea', 'China', 'Russia', 'Malaysia']\n",
    "print(f'nations의 첫 원소 : {nations[0]}')\n",
    "\n",
    "# 5.\n",
    "print(f'nations의 마지막 원소 : {nations[-1]}')\n",
    "\n",
    "# 6. \n",
    "print(f'nations의 마지막 원소 : {nations[len(nations)-1]}')"
   ]
  },
  {
   "cell_type": "markdown",
   "metadata": {},
   "source": [
    "# Lab 5.3"
   ]
  },
  {
   "cell_type": "code",
   "execution_count": 24,
   "metadata": {},
   "outputs": [
    {
     "name": "stdout",
     "output_type": "stream",
     "text": [
      "소수 목록 : [2, 3, 5, 7]\n",
      "추가 후 소수 목록 : [2, 3, 5, 7, 11]\n",
      "삭제 전 소수 목록 : [2, 3, 5, 7, 11]\n",
      "삭제 후 소수 목록 : [2, 5, 7, 11]\n",
      "국가 목록 : ['Korea', 'China', 'Russia', 'Malaysia']\n",
      "추가 후 국가 목록 : ['Korea', 'China', 'Russia', 'Malaysia', 'Nepal']\n",
      "Japan는(은) 국가 목록에 없습니다.\n",
      "Russia는(은) 국가 목록에 있습니다.\n"
     ]
    }
   ],
   "source": [
    "# 1.\n",
    "prime_list = [i for i in range(2, 11) if isPrime(i)]\n",
    "print(f'소수 목록 : {prime_list}')\n",
    "prime_list.append(11)\n",
    "print(f'추가 후 소수 목록 : {prime_list}')\n",
    "\n",
    "# 2. \n",
    "print(f'삭제 전 소수 목록 : {prime_list}')\n",
    "prime_list.remove(3)\n",
    "print(f'삭제 후 소수 목록 : {prime_list}')\n",
    "\n",
    "# 3.\n",
    "nations = ['Korea', 'China', 'Russia', 'Malaysia']\n",
    "print(f'국가 목록 : {nations}')\n",
    "nations.append('Nepal')\n",
    "print(f'추가 후 국가 목록 : {nations}')\n",
    "\n",
    "# 4.\n",
    "def print_nations(country, flag):\n",
    "    if flag:\n",
    "        print(f'{country}는(은) 국가 목록에 있습니다.')\n",
    "    else:\n",
    "        print(f'{country}는(은) 국가 목록에 없습니다.')\n",
    "\n",
    "              \n",
    "isJapan = 'Japan' in nations\n",
    "isRussia = 'Russia' in nations\n",
    "              \n",
    "print_nations('Japan', isJapan)\n",
    "print_nations('Russia', isRussia)"
   ]
  },
  {
   "cell_type": "markdown",
   "metadata": {},
   "source": [
    "# Lab 5.4"
   ]
  },
  {
   "cell_type": "code",
   "execution_count": 28,
   "metadata": {},
   "outputs": [
    {
     "name": "stdout",
     "output_type": "stream",
     "text": [
      "1에서 10까지의 소수 : [2, 3, 5, 7]\n",
      "최솟값 : 2\n",
      "최댓값 : 7\n",
      "합계 : 17\n",
      "평균 : 4.25\n",
      "국가 목록 : ['Korea', 'China', 'Russia', 'Malaysia']\n",
      "사전에 가장 먼저 나오는 나라 : China\n",
      "사전에 가장 먼저 나오는 나라 : Russia\n"
     ]
    }
   ],
   "source": [
    "# 1.\n",
    "prime_list = [i for i in range(2, 11) if isPrime(i)]\n",
    "print(f'1에서 10까지의 소수 : {prime_list}')\n",
    "print(f'최솟값 : {min(prime_list)}')\n",
    "print(f'최댓값 : {max(prime_list)}')\n",
    "print(f'합계 : {sum(prime_list)}')\n",
    "print(f'평균 : {sum(prime_list) / len(prime_list)}')\n",
    "\n",
    "# 2.\n",
    "nations = ['Korea', 'China', 'Russia', 'Malaysia']\n",
    "print(f'국가 목록 : {nations}')\n",
    "print(f'사전에 가장 먼저 나오는 나라 : {min(nations)}')\n",
    "print(f'사전에 가장 먼저 나오는 나라 : {max(nations)}')"
   ]
  },
  {
   "cell_type": "markdown",
   "metadata": {},
   "source": [
    "# Lab 5.5"
   ]
  },
  {
   "cell_type": "code",
   "execution_count": 33,
   "metadata": {},
   "outputs": [
    {
     "name": "stdout",
     "output_type": "stream",
     "text": [
      "[1, 2, 3, [10, 20, 30]]\n",
      "[1, 2, 3, 10, 20, 30]\n",
      "nlist = [1, 2, 3, 4, 5, 6, 7, 8, 9, 10]\n",
      "nlist = [0, 1, 2, 3, 4, 5, 6, 7, 8, 9, 10]\n",
      "nlist = [10, 9, 8, 7, 6, 5, 4, 3, 2, 1, 0]\n",
      "마지막 원소 = 0\n",
      "nlist = [10, 9, 8, 7, 6, 5, 4, 3, 2, 1]\n"
     ]
    }
   ],
   "source": [
    "# 1.\n",
    "a = [1, 2, 3]\n",
    "b= [10, 20, 30]\n",
    "a.append(b)\n",
    "print(a)\n",
    "\n",
    "a = [1, 2, 3]\n",
    "a.extend(b)\n",
    "print(a)\n",
    "\n",
    "# 2. \n",
    "nlist = [i for i in range(1, 11)]\n",
    "print(f'nlist = {nlist}')\n",
    "\n",
    "# 3.\n",
    "nlist.insert(0, 0)\n",
    "print(f'nlist = {nlist}')\n",
    "\n",
    "# 4.\n",
    "nlist.reverse()\n",
    "print(f'nlist = {nlist}')\n",
    "\n",
    "# 5.\n",
    "pop_n = nlist.pop(-1)\n",
    "print(f'마지막 원소 = {pop_n}')\n",
    "print(f'nlist = {nlist}')"
   ]
  },
  {
   "cell_type": "markdown",
   "metadata": {},
   "source": [
    "# Lab 5.6"
   ]
  },
  {
   "cell_type": "code",
   "execution_count": 35,
   "metadata": {},
   "outputs": [
    {
     "name": "stdout",
     "output_type": "stream",
     "text": [
      "반복할 정수를 입력하시오 : 2\n",
      "[1, 2, 3, 1, 2, 3]\n"
     ]
    }
   ],
   "source": [
    "# 1.\n",
    "n = int(input('반복할 정수를 입력하시오 : '))\n",
    "print(n * [1, 2, 3])"
   ]
  },
  {
   "cell_type": "markdown",
   "metadata": {},
   "source": [
    "# Lab 5.7"
   ]
  },
  {
   "cell_type": "code",
   "execution_count": 41,
   "metadata": {},
   "outputs": [
    {
     "name": "stdout",
     "output_type": "stream",
     "text": [
      "nlist = [0, 1, 2, 3, 4, 5, 6, 7, 8, 9, 10, 11, 12, 13, 14]\n",
      "s_list4 = [2, 4, 6, 8, 10]\n",
      "s_list5 = [10, 9, 8, 7, 6]\n",
      "s_list6 = [10, 8, 6, 4, 2]\n"
     ]
    }
   ],
   "source": [
    "# 1. \n",
    "n_list = [i for i in range(15)]\n",
    "print(f'nlist = {n_list}')\n",
    "\n",
    "# 2.\n",
    "s_list4 = n_list[2:11:2]\n",
    "print(f's_list4 = {s_list4}')\n",
    "\n",
    "s_list5 = n_list[-5:-10:-1]\n",
    "print(f's_list5 = {s_list5}')\n",
    "\n",
    "s_list6 = n_list[-5:0:-2]\n",
    "print(f's_list6 = {s_list6}')"
   ]
  },
  {
   "cell_type": "markdown",
   "metadata": {},
   "source": [
    "# Lab 6.1"
   ]
  },
  {
   "cell_type": "code",
   "execution_count": 44,
   "metadata": {},
   "outputs": [
    {
     "name": "stdout",
     "output_type": "stream",
     "text": [
      "{'Korea': 'Seoul', 'China': 'Beijing', 'USA': 'Washington DC'}\n"
     ]
    }
   ],
   "source": [
    "# 1.\n",
    "capital_dic = {\n",
    "    'Korea': 'Seoul',\n",
    "    'China': 'Beijing',\n",
    "    'USA': 'Washington DC'\n",
    "}"
   ]
  },
  {
   "cell_type": "markdown",
   "metadata": {},
   "source": [
    "# Lab 6.2"
   ]
  },
  {
   "cell_type": "code",
   "execution_count": 46,
   "metadata": {},
   "outputs": [
    {
     "name": "stdout",
     "output_type": "stream",
     "text": [
      "{'이름': '홍길동', '나이': 26, '몸무게': 82, '특기': '분신술', '아버지': '홍판서'}\n",
      "{'이름': '홍길동', '몸무게': 82, '특기': '분신술', '아버지': '홍판서'}\n"
     ]
    }
   ],
   "source": [
    "# 1, 2.\n",
    "person = {\n",
    "    '이름': '홍길동',\n",
    "    '나이': 26,\n",
    "    '몸무게': 82,\n",
    "    '특기' : '분신술'\n",
    "}\n",
    "person['아버지'] = '홍판서'\n",
    "print(person)\n",
    "\n",
    "# 3.\n",
    "del person['나이']\n",
    "print(person)"
   ]
  },
  {
   "cell_type": "markdown",
   "metadata": {},
   "source": [
    "# Lab 6.3"
   ]
  },
  {
   "cell_type": "code",
   "execution_count": 51,
   "metadata": {},
   "outputs": [
    {
     "name": "stdout",
     "output_type": "stream",
     "text": [
      "Korea in dic True\n",
      "Beijing in dic False\n",
      "Indonesia in dic False\n"
     ]
    }
   ],
   "source": [
    "# 1.\n",
    "capital_dic = {\n",
    "    'Korea':'Seoul',\n",
    "    'China':'Beijing',\n",
    "    'USA':'Washington DC'\n",
    "}\n",
    "\n",
    "print('Korea in dic', 'Korea' in capital_dic)\n",
    "print('Beijing in dic', 'Beijing' in capital_dic)\n",
    "print('Indonesia in dic', 'Indonesia' in capital_dic)"
   ]
  },
  {
   "cell_type": "markdown",
   "metadata": {},
   "source": [
    "# Lab 6.4"
   ]
  },
  {
   "cell_type": "code",
   "execution_count": 57,
   "metadata": {},
   "outputs": [
    {
     "name": "stdout",
     "output_type": "stream",
     "text": [
      "dict_keys(['apple', 'melon', 'banana', 'orange'])\n",
      "dict_values([6000, 3000, 5000, 7000])\n",
      "{'melon': 3000, 'banana': 5000, 'orange': 7000}\n",
      "{}\n"
     ]
    }
   ],
   "source": [
    "# 1.\n",
    "fruits_dic = {\n",
    "    'apple': 6000,\n",
    "    'melon': 3000,\n",
    "    'banana': 5000,\n",
    "    'orange': 7000\n",
    "}\n",
    "\n",
    "# 2.\n",
    "print(fruits_dic.keys())\n",
    "\n",
    "# 3.\n",
    "print(fruits_dic.values())\n",
    "\n",
    "# 4.\n",
    "fruits_dic.pop('apple')\n",
    "print(fruits_dic)\n",
    "\n",
    "# 5.\n",
    "fruits_dic.clear()\n",
    "print(fruits_dic)"
   ]
  },
  {
   "cell_type": "markdown",
   "metadata": {},
   "source": [
    "# Lab 6.5"
   ]
  },
  {
   "cell_type": "code",
   "execution_count": 60,
   "metadata": {},
   "outputs": [
    {
     "name": "stdout",
     "output_type": "stream",
     "text": [
      "['apple', 'melon', 'banana', 'orange']\n",
      "[6000, 3000, 5000, 7000]\n",
      "4\n",
      "True\n",
      "False\n"
     ]
    }
   ],
   "source": [
    "# 1.\n",
    "fruits_dic = {\n",
    "    'apple': 6000,\n",
    "    'melon': 3000,\n",
    "    'banana': 5000,\n",
    "    'orange': 7000\n",
    "}\n",
    "\n",
    "print(list(fruits_dic.keys()))\n",
    "\n",
    "# 2.\n",
    "print(list(fruits_dic.values()))\n",
    "\n",
    "# 3.\n",
    "print(len(fruits_dic))\n",
    "\n",
    "# 4.\n",
    "print('apple' in fruits_dic)\n",
    "print('mango' in fruits_dic)"
   ]
  },
  {
   "cell_type": "markdown",
   "metadata": {},
   "source": [
    "# Lab 6.7"
   ]
  },
  {
   "cell_type": "code",
   "execution_count": 63,
   "metadata": {},
   "outputs": [
    {
     "name": "stdout",
     "output_type": "stream",
     "text": [
      "person = ('홍길동', 2019001, 179)\n",
      "person = ['홍길동', 2019003, 179]\n"
     ]
    }
   ],
   "source": [
    "# 1.\n",
    "person = ('홍길동', 2019001, 179)\n",
    "print(f'person = {person}')\n",
    "\n",
    "# 2.\n",
    "# person[1] = 2019003 -> 오류\n",
    "\n",
    "# 3.\n",
    "person = list(person)\n",
    "person[1] = 2019003\n",
    "preson = tuple(person)\n",
    "print(f'person = {person}')"
   ]
  },
  {
   "cell_type": "markdown",
   "metadata": {},
   "source": [
    "# Lab 6.8"
   ]
  },
  {
   "cell_type": "code",
   "execution_count": 64,
   "metadata": {},
   "outputs": [
    {
     "name": "stdout",
     "output_type": "stream",
     "text": [
      "x = 1\n",
      "y = 2\n",
      "1 1 2 4\n"
     ]
    }
   ],
   "source": [
    "# 1.\n",
    "x = int(input('x = '))\n",
    "y = int(input('y = '))\n",
    "\n",
    "\n",
    "def square(a, b):\n",
    "    return a**2, b**2\n",
    "\n",
    "\n",
    "x2, y2 = square(x, y)\n",
    "print(x, x2, y, y2)"
   ]
  },
  {
   "cell_type": "code",
   "execution_count": 65,
   "metadata": {},
   "outputs": [
    {
     "name": "stdout",
     "output_type": "stream",
     "text": [
      "(10, 20, 30, 40, 50, 60)\n"
     ]
    }
   ],
   "source": [
    "# 2.\n",
    "print((10, 20, 30) + (40, 50, 60))"
   ]
  },
  {
   "cell_type": "code",
   "execution_count": 69,
   "metadata": {},
   "outputs": [
    {
     "name": "stdout",
     "output_type": "stream",
     "text": [
      "HelloHelloHello\n",
      "('Hello', 'Hello', 'Hello')\n"
     ]
    }
   ],
   "source": [
    "# 3.\n",
    "print('Hello' * 3)\n",
    "print(('Hello',) * 3)"
   ]
  },
  {
   "cell_type": "markdown",
   "metadata": {},
   "source": [
    "# Lab 6.9"
   ]
  },
  {
   "cell_type": "code",
   "execution_count": 70,
   "metadata": {},
   "outputs": [
    {
     "name": "stdout",
     "output_type": "stream",
     "text": [
      "{'e', 'o', 'f', 't', 'd', 'r', 'n', ' ', 'G', 'A'}\n"
     ]
    }
   ],
   "source": [
    "# 2.\n",
    "greet = 'Good Afternoon'\n",
    "s2 = set(greet)\n",
    "print(s2)"
   ]
  },
  {
   "cell_type": "markdown",
   "metadata": {},
   "source": [
    "# Lab 6.10"
   ]
  },
  {
   "cell_type": "code",
   "execution_count": 74,
   "metadata": {},
   "outputs": [
    {
     "name": "stdout",
     "output_type": "stream",
     "text": [
      "{70, 40, 10, 50, 20, 60, 30}\n",
      "{40, 30}\n",
      "{10, 20}\n",
      "{50, 20, 70, 10, 60}\n",
      "False\n",
      "False\n",
      "False\n"
     ]
    }
   ],
   "source": [
    "# 1.\n",
    "s1 = {10, 20, 30, 40}\n",
    "s2 = {30, 40, 50, 60, 70}\n",
    "\n",
    "print(s1|s2)\n",
    "print(s1&s2)\n",
    "print(s1 - s2)\n",
    "print(s1 ^ s2)\n",
    "print(s1.issubset(s2))\n",
    "print(s1.issuperset(s2))\n",
    "print(s1.isdisjoint(s2))"
   ]
  },
  {
   "cell_type": "markdown",
   "metadata": {},
   "source": [
    "# Lab 7.1"
   ]
  },
  {
   "cell_type": "code",
   "execution_count": 81,
   "metadata": {},
   "outputs": [
    {
     "name": "stdout",
     "output_type": "stream",
     "text": [
      "2022 10 26\n",
      "18 19 43\n"
     ]
    }
   ],
   "source": [
    "# 1.\n",
    "import datetime as dt\n",
    "today = dt.datetime.now()\n",
    "year = today.year\n",
    "month = today.month\n",
    "day = today.day\n",
    "hour = today.hour\n",
    "min = today.minute\n",
    "sec = today.second\n",
    "print(year, month, day)\n",
    "print(hour, min, sec)"
   ]
  },
  {
   "cell_type": "markdown",
   "metadata": {},
   "source": [
    "# Lab 7.2"
   ]
  },
  {
   "cell_type": "code",
   "execution_count": 88,
   "metadata": {},
   "outputs": [
    {
     "name": "stdout",
     "output_type": "stream",
     "text": [
      "오늘은 2022년 10월 26일입니다.\n",
      "2025년 크리스마스까지는 1155일 5시간 남았습니다.\n"
     ]
    }
   ],
   "source": [
    "# 1.\n",
    "today = dt.datetime.now()\n",
    "xMas = dt.datetime(year = 2025, month = 12, day = 25)\n",
    "print(f'오늘은 {today.year}년 {today.month}월 {today.day}일입니다.')\n",
    "gap = xMas - today\n",
    "print(f'2025년 크리스마스까지는 {gap.days}일 {gap.seconds // 3600}시간 남았습니다.')"
   ]
  },
  {
   "cell_type": "code",
   "execution_count": 92,
   "metadata": {},
   "outputs": [
    {
     "name": "stdout",
     "output_type": "stream",
     "text": [
      "오늘은 2022년 10월 26일입니다.\n",
      "2036년 새해까지는 4814일 5시간 남았습니다.\n"
     ]
    }
   ],
   "source": [
    "# 2.\n",
    "today = dt.datetime.now()\n",
    "D_day = dt.datetime(year = 2036, month = 1, day = 1)\n",
    "gap = D_day - today\n",
    "print(f'오늘은 {today.year}년 {today.month}월 {today.day}일입니다.')\n",
    "print(f'2036년 새해까지는 {gap.days}일 {gap.seconds // 3600}시간 남았습니다.')"
   ]
  },
  {
   "cell_type": "code",
   "execution_count": 93,
   "metadata": {},
   "outputs": [
    {
     "name": "stdout",
     "output_type": "stream",
     "text": [
      "오늘은 2022년 10월 26일입니다.\n",
      "내년 생일까지는 5054일 5시간 남았습니다.\n"
     ]
    }
   ],
   "source": [
    "# 3.\n",
    "today = dt.datetime.now()\n",
    "D_day = dt.datetime(year = 2036, month = 8, day = 28)\n",
    "print(f'오늘은 {today.year}년 {today.month}월 {today.day}일입니다.')\n",
    "gap = D_day - today\n",
    "print(f'내년 생일까지는 {gap.days}일 {gap.seconds // 3600}시간 남았습니다.')"
   ]
  },
  {
   "cell_type": "markdown",
   "metadata": {},
   "source": [
    "# Lab 7.3"
   ]
  },
  {
   "cell_type": "code",
   "execution_count": 95,
   "metadata": {},
   "outputs": [
    {
     "name": "stdout",
     "output_type": "stream",
     "text": [
      "오늘로부터 1,000일 되는 날은 2025년 7월 22일입니다.\n"
     ]
    }
   ],
   "source": [
    "# 1.\n",
    "today = dt.datetime.today()\n",
    "days1000 = dt.timedelta(days = 1000)\n",
    "D_day = today + days1000\n",
    "print(f'오늘로부터 1,000일 되는 날은 {D_day.year}년 {D_day.month}월 {D_day.day}일입니다.')"
   ]
  },
  {
   "cell_type": "code",
   "execution_count": 97,
   "metadata": {},
   "outputs": [
    {
     "name": "stdout",
     "output_type": "stream",
     "text": [
      "처음으로 사귄 날짜를 입력하시오 : 2019 3 30\n",
      "100일 기념일은 2019년 7월 7일입니다.\n"
     ]
    }
   ],
   "source": [
    "# 2.\n",
    "year, month , day = map(int, input('처음으로 사귄 날짜를 입력하시오 : ').split())\n",
    "start_day = dt.datetime(year = year, month = month, day = day)\n",
    "day100 = dt.timedelta(days = 99)\n",
    "target_day = start_day + day100\n",
    "\n",
    "print(f'100일 기념일은 {target_day.year}년 {target_day.month}월 {target_day.day}일입니다.')"
   ]
  },
  {
   "cell_type": "code",
   "execution_count": null,
   "metadata": {},
   "outputs": [],
   "source": []
  }
 ],
 "metadata": {
  "kernelspec": {
   "display_name": "Python 3",
   "language": "python",
   "name": "python3"
  },
  "language_info": {
   "codemirror_mode": {
    "name": "ipython",
    "version": 3
   },
   "file_extension": ".py",
   "mimetype": "text/x-python",
   "name": "python",
   "nbconvert_exporter": "python",
   "pygments_lexer": "ipython3",
   "version": "3.8.5"
  }
 },
 "nbformat": 4,
 "nbformat_minor": 4
}
