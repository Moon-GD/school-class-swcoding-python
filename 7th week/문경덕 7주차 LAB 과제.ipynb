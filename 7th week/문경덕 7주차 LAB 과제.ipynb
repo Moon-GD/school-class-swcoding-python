{
 "cells": [
  {
   "cell_type": "markdown",
   "metadata": {},
   "source": [
    "# Lab 7 - 1. 오늘의 날짜와 현재시간 출력하기"
   ]
  },
  {
   "cell_type": "code",
   "execution_count": 12,
   "metadata": {},
   "outputs": [
    {
     "name": "stdout",
     "output_type": "stream",
     "text": [
      "오늘의 날짜 : 2022년 10월 13일\n",
      "현재 시간 : 오후 2시 27분 48초\n"
     ]
    }
   ],
   "source": [
    "import datetime\n",
    "today = datetime.datetime.now()\n",
    "\n",
    "print(f'오늘의 날짜 : {today.year}년 {today.month}월 {today.day}일')\n",
    "if today.hour >= 12:\n",
    "    print(f'현재 시간 : 오후 {today.hour - 12}시 {today.minute}분 {today.second}초')\n",
    "else:\n",
    "    print(f'현재 시간 : 오전 {today.hour}시 {today.minute}분 {today.second}초')"
   ]
  },
  {
   "cell_type": "code",
   "execution_count": 22,
   "metadata": {},
   "outputs": [
    {
     "name": "stdout",
     "output_type": "stream",
     "text": [
      "<class 'datetime.datetime'>\n",
      "<class 'datetime.date'>\n"
     ]
    }
   ],
   "source": [
    "import datetime\n",
    "today = datetime.date.today()\n",
    "full_day = datetime.datetime.now()\n",
    "print(type(full_day))\n",
    "print(type(today))"
   ]
  },
  {
   "cell_type": "code",
   "execution_count": 16,
   "metadata": {},
   "outputs": [
    {
     "name": "stdout",
     "output_type": "stream",
     "text": [
      "['__add__', '__class__', '__delattr__', '__dir__', '__doc__', '__eq__', '__format__', '__ge__', '__getattribute__', '__gt__', '__hash__', '__init__', '__init_subclass__', '__le__', '__lt__', '__ne__', '__new__', '__radd__', '__reduce__', '__reduce_ex__', '__repr__', '__rsub__', '__setattr__', '__sizeof__', '__str__', '__sub__', '__subclasshook__', 'ctime', 'day', 'fromisocalendar', 'fromisoformat', 'fromordinal', 'fromtimestamp', 'isocalendar', 'isoformat', 'isoweekday', 'max', 'min', 'month', 'replace', 'resolution', 'strftime', 'timetuple', 'today', 'toordinal', 'weekday', 'year']\n"
     ]
    }
   ],
   "source": [
    "print(dir(today))"
   ]
  },
  {
   "cell_type": "code",
   "execution_count": 25,
   "metadata": {},
   "outputs": [
    {
     "name": "stdout",
     "output_type": "stream",
     "text": [
      "2022-08-28 14:32:17.642448\n"
     ]
    }
   ],
   "source": [
    "print(full_day.replace(month = 8, day = 28))"
   ]
  },
  {
   "cell_type": "markdown",
   "metadata": {},
   "source": [
    "# Lab 7 - 2. 남은 날짜 계산하기"
   ]
  },
  {
   "cell_type": "markdown",
   "metadata": {},
   "source": [
    "## 1. 앞서 배운 남은 날짜 계산 프로그램을 수정하여 오늘 날짜와 함께 2025년 크리스마스 까지의 남은 날짜와 시간을 구해서 출력해 보자."
   ]
  },
  {
   "cell_type": "code",
   "execution_count": 42,
   "metadata": {},
   "outputs": [
    {
     "name": "stdout",
     "output_type": "stream",
     "text": [
      "오늘은 2022년 10월 13일 입니다.\n",
      "2025년 크리스마스까지는 1168일 9시간 남았습니다.\n"
     ]
    }
   ],
   "source": [
    "from datetime import datetime\n",
    "today = datetime.now()\n",
    "print(f'오늘은 {today.year}년 {today.month}월 {today.day}일 입니다.')\n",
    "\n",
    "Xmas = datetime(2025, 12, 25)\n",
    "gap = Xmas - today\n",
    "\n",
    "print(f'2025년 크리스마스까지는 {gap.days}일 {gap.seconds // 3600}시간 남았습니다.')"
   ]
  },
  {
   "cell_type": "markdown",
   "metadata": {},
   "source": [
    "## 2. 앞서 배운 남은 날짜 계산 프로그램을 수정하여 2036년 1월 1일까지의 남은 날짜와 시간을 구해서 출력해 보자."
   ]
  },
  {
   "cell_type": "code",
   "execution_count": 47,
   "metadata": {},
   "outputs": [
    {
     "name": "stdout",
     "output_type": "stream",
     "text": [
      "오늘은 2022년 10월 13일 입니다.\n",
      "2036년 새해까지는 0일 0시간 남았습니다.\n"
     ]
    }
   ],
   "source": [
    "from datetime import datetime\n",
    "\n",
    "today = datetime.today()\n",
    "new_day = datetime(2036, 1, 1)\n",
    "time_gap = new_day - new_day\n",
    "\n",
    "print(f'오늘은 {today.year}년 {today.month}월 {today.day}일 입니다.')\n",
    "print(f'2036년 새해까지는 {time_gap.days}일 {time_gap.seconds // 3600}시간 남았습니다.')"
   ]
  },
  {
   "cell_type": "markdown",
   "metadata": {},
   "source": [
    "## 3. 다가오는 자신의 생일까지 남은 날짜와 시간을 출력해 보자."
   ]
  },
  {
   "cell_type": "code",
   "execution_count": 49,
   "metadata": {},
   "outputs": [
    {
     "name": "stdout",
     "output_type": "stream",
     "text": [
      "오늘은 2022년 10월 13일 입니다.\n",
      "2023년 생일까지는 318일 9시간 남았습니다.\n"
     ]
    }
   ],
   "source": [
    "from datetime import datetime\n",
    "\n",
    "today = datetime.today()\n",
    "next_birthday = datetime(2023, 8, 28)\n",
    "gap = next_birthday - today\n",
    "\n",
    "print(f'오늘은 {today.year}년 {today.month}월 {today.day}일 입니다.')\n",
    "print(f'2023년 생일까지는 {gap.days}일 {gap.seconds // 3600}시간 남았습니다.')"
   ]
  },
  {
   "cell_type": "markdown",
   "metadata": {},
   "source": [
    "# Lab 7.3 날짜 계산하기"
   ]
  },
  {
   "cell_type": "markdown",
   "metadata": {},
   "source": [
    "## 1. timedelta 클래스를 사용하여 오늘부터 1,000일 후의 날짜를 구하시오."
   ]
  },
  {
   "cell_type": "code",
   "execution_count": 51,
   "metadata": {},
   "outputs": [
    {
     "name": "stdout",
     "output_type": "stream",
     "text": [
      "2025년 7월 56일\n"
     ]
    }
   ],
   "source": [
    "from datetime import datetime\n",
    "import datetime as dt\n",
    "\n",
    "today = datetime.today()\n",
    "delta = dt.timedelta(days = 1000)\n",
    "\n",
    "target_day = today + delta\n",
    "\n",
    "print(f'{target_day.year}년 {target_day.month}월 {target_day.second}일')"
   ]
  },
  {
   "cell_type": "markdown",
   "metadata": {},
   "source": [
    "## 2. timedelta 클래스를 사용하여 커플들을 위한 프로그램을 작성하자."
   ]
  },
  {
   "cell_type": "code",
   "execution_count": 53,
   "metadata": {},
   "outputs": [
    {
     "name": "stdout",
     "output_type": "stream",
     "text": [
      "2019 3 30\n",
      "100일 기념일은 2019년 7월 7일입니다.\n"
     ]
    }
   ],
   "source": [
    "import datetime as dt\n",
    "\n",
    "year, month, day = map(int, input().split())\n",
    "start_day = dt.datetime(year, month, day)\n",
    "day100 = start_day + dt.timedelta(days = 99)\n",
    "\n",
    "print(f'100일 기념일은 {day100.year}년 {day100.month}월 {day100.day}일입니다.')"
   ]
  },
  {
   "cell_type": "markdown",
   "metadata": {},
   "source": [
    "# Lab 7 - 4. math 모듈을 이용한 계산"
   ]
  },
  {
   "cell_type": "markdown",
   "metadata": {},
   "source": [
    "## 1. math 모듈과 for - in range()를 사용하여 4의 2승부터 10승까지를 화면에 출력하여라."
   ]
  },
  {
   "cell_type": "code",
   "execution_count": 56,
   "metadata": {},
   "outputs": [
    {
     "name": "stdout",
     "output_type": "stream",
     "text": [
      "4 **  2 =       16.0\n",
      "4 **  3 =       64.0\n",
      "4 **  4 =      256.0\n",
      "4 **  5 =     1024.0\n",
      "4 **  6 =     4096.0\n",
      "4 **  7 =    16384.0\n",
      "4 **  8 =    65536.0\n",
      "4 **  9 =   262144.0\n",
      "4 ** 10 =  1048576.0\n"
     ]
    }
   ],
   "source": [
    "import math\n",
    "\n",
    "for i in range(2, 11):\n",
    "    print(f'4 ** {i:2} = {math.pow(4, i):10.1f}')"
   ]
  },
  {
   "cell_type": "markdown",
   "metadata": {},
   "source": [
    "## 2. 일반각도 0도에서 180도를 10도 단위로 출력하라. 이 때 일반각도에 대응되는 라디안 각도 값을 함께 출력하라."
   ]
  },
  {
   "cell_type": "code",
   "execution_count": 63,
   "metadata": {},
   "outputs": [
    {
     "name": "stdout",
     "output_type": "stream",
     "text": [
      "  0 = 0.000 radian\n",
      " 10 = 0.175 radian\n",
      " 20 = 0.349 radian\n",
      " 30 = 0.524 radian\n",
      " 40 = 0.698 radian\n",
      " 50 = 0.873 radian\n",
      " 60 = 1.047 radian\n",
      " 70 = 1.222 radian\n",
      " 80 = 1.396 radian\n",
      " 90 = 1.571 radian\n",
      "100 = 1.745 radian\n",
      "110 = 1.920 radian\n",
      "120 = 2.094 radian\n",
      "130 = 2.269 radian\n",
      "140 = 2.443 radian\n",
      "150 = 2.618 radian\n",
      "160 = 2.793 radian\n",
      "170 = 2.967 radian\n",
      "180 = 3.142 radian\n"
     ]
    }
   ],
   "source": [
    "import math\n",
    "\n",
    "for degree in range(0, 181, 10):\n",
    "    print(f'{degree:3} = {math.radians(degree):4.3f} radian')"
   ]
  },
  {
   "cell_type": "markdown",
   "metadata": {},
   "source": [
    "## 3. math 모듈과 for 문을 사용하여 일반 각도 sin 0도에서 180도까지의 값을 10도 단위로 출력하여라."
   ]
  },
  {
   "cell_type": "code",
   "execution_count": 141,
   "metadata": {},
   "outputs": [
    {
     "name": "stdout",
     "output_type": "stream",
     "text": [
      "sin(  0) = 0.00\n",
      "sin( 10) = 0.17\n",
      "sin( 20) = 0.34\n",
      "sin( 30) = 0.50\n",
      "sin( 40) = 0.64\n",
      "sin( 50) = 0.77\n",
      "sin( 60) = 0.87\n",
      "sin( 70) = 0.94\n",
      "sin( 80) = 0.98\n",
      "sin( 90) = 1.00\n",
      "sin(100) = 0.98\n",
      "sin(110) = 0.94\n",
      "sin(120) = 0.87\n",
      "sin(130) = 0.77\n",
      "sin(140) = 0.64\n",
      "sin(150) = 0.50\n",
      "sin(160) = 0.34\n",
      "sin(170) = 0.17\n",
      "sin(180) = 0.00\n"
     ]
    }
   ],
   "source": [
    "import math\n",
    "for degree in range(0, 181, 10):\n",
    "    \n",
    "    print(f'sin({degree:3d}) = {math.sin(math.radians(degree)) :3.2f}')"
   ]
  },
  {
   "cell_type": "markdown",
   "metadata": {},
   "source": [
    "# Lab 7 - 5. 랜덤 번호 생성기"
   ]
  },
  {
   "cell_type": "markdown",
   "metadata": {},
   "source": [
    "## 1. random 모듈의 randrange() 함수를 이용하여 0에서 100 이하의 정수 중에서 5 배수의 값을 임의로 3개 선택하여 리스트 형식으로 출력해보시오."
   ]
  },
  {
   "cell_type": "code",
   "execution_count": 334,
   "metadata": {},
   "outputs": [
    {
     "name": "stdout",
     "output_type": "stream",
     "text": [
      "0에서 100 이하의 정수 중에서 5의 배수\n",
      "[15, 55, 80]\n"
     ]
    }
   ],
   "source": [
    "import random as rd\n",
    "\n",
    "numlist = []\n",
    "\n",
    "while len(numlist) != 3:\n",
    "    number = rd.randrange(0, 101, 5)\n",
    "    if number not in numlist:\n",
    "        numlist.append(number)\n",
    "        \n",
    "numlist.sort()  # 오름차순 정렬\n",
    "print('0에서 100 이하의 정수 중에서 5의 배수')\n",
    "print(numlist)"
   ]
  },
  {
   "cell_type": "markdown",
   "metadata": {},
   "source": [
    "## 2. 1에서 10 사이의 정수 중 임의로 3개를 sample() 함수를 이용해서 출력하시오."
   ]
  },
  {
   "cell_type": "code",
   "execution_count": 325,
   "metadata": {},
   "outputs": [
    {
     "name": "stdout",
     "output_type": "stream",
     "text": [
      "1에서 10 사이의 임의의 정수 : [1, 6, 7]\n"
     ]
    }
   ],
   "source": [
    "import random as rd\n",
    "numlist = [i for i in range(1, 11)]\n",
    "\n",
    "print(f'1에서 10 사이의 임의의 정수 : {rd.sample(numlist, 3)}')"
   ]
  }
 ],
 "metadata": {
  "kernelspec": {
   "display_name": "Python 3",
   "language": "python",
   "name": "python3"
  },
  "language_info": {
   "codemirror_mode": {
    "name": "ipython",
    "version": 3
   },
   "file_extension": ".py",
   "mimetype": "text/x-python",
   "name": "python",
   "nbconvert_exporter": "python",
   "pygments_lexer": "ipython3",
   "version": "3.8.5"
  }
 },
 "nbformat": 4,
 "nbformat_minor": 4
}
