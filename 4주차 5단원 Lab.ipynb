{
 "cells": [
  {
   "cell_type": "markdown",
   "metadata": {},
   "source": [
    "# LAB 5.1 리스트의 생성"
   ]
  },
  {
   "cell_type": "markdown",
   "metadata": {},
   "source": [
    "## 1."
   ]
  },
  {
   "cell_type": "code",
   "execution_count": 7,
   "metadata": {},
   "outputs": [
    {
     "name": "stdout",
     "output_type": "stream",
     "text": [
      "even_list = [2, 4, 6, 8, 10]\n"
     ]
    }
   ],
   "source": [
    "even_list = [2, 4, 6, 8, 10]\n",
    "print(f'even_list = {even_list}')"
   ]
  },
  {
   "cell_type": "markdown",
   "metadata": {},
   "source": [
    "## 2."
   ]
  },
  {
   "cell_type": "code",
   "execution_count": 6,
   "metadata": {},
   "outputs": [
    {
     "name": "stdout",
     "output_type": "stream",
     "text": [
      "even_list = [2, 4, 6, 8, 10]\n"
     ]
    }
   ],
   "source": [
    "even_list = [i for i in range(2, 11, 2)]\n",
    "print(f'even_list = {even_list}')"
   ]
  },
  {
   "cell_type": "markdown",
   "metadata": {},
   "source": [
    "## 3."
   ]
  },
  {
   "cell_type": "code",
   "execution_count": 8,
   "metadata": {},
   "outputs": [
    {
     "name": "stdout",
     "output_type": "stream",
     "text": [
      "nations = ['Korea', 'China', 'India', 'Nepal']\n"
     ]
    }
   ],
   "source": [
    "nations = ['Korea', 'China', 'India' ,'Nepal']\n",
    "print(f'nations = {nations}')"
   ]
  },
  {
   "cell_type": "markdown",
   "metadata": {},
   "source": [
    "## 4."
   ]
  },
  {
   "cell_type": "code",
   "execution_count": 9,
   "metadata": {},
   "outputs": [
    {
     "name": "stdout",
     "output_type": "stream",
     "text": [
      "friends = ['길동', '철수', '은지', '지은', '영민']\n"
     ]
    }
   ],
   "source": [
    "friends = ['길동', '철수', '은지', '지은', '영민']\n",
    "print(f'friends = {friends}')"
   ]
  },
  {
   "cell_type": "markdown",
   "metadata": {},
   "source": [
    "## 5."
   ]
  },
  {
   "cell_type": "code",
   "execution_count": 10,
   "metadata": {},
   "outputs": [
    {
     "name": "stdout",
     "output_type": "stream",
     "text": [
      "string = ['X', 'Y', 'Z']\n"
     ]
    }
   ],
   "source": [
    "string = ['X', 'Y', 'Z']\n",
    "print(f'string = {string}')"
   ]
  },
  {
   "cell_type": "markdown",
   "metadata": {},
   "source": [
    "# LAB 5.2 리스트의 생성과 인덱싱"
   ]
  },
  {
   "cell_type": "code",
   "execution_count": 31,
   "metadata": {},
   "outputs": [],
   "source": [
    "prime_list = []\n",
    "\n",
    "def isPrime(number):\n",
    "    if number == 1:\n",
    "        return False\n",
    "    \n",
    "    for i in range(2, number):\n",
    "        if number % i == 0:\n",
    "            return False\n",
    "\n",
    "    return True\n",
    "\n",
    "\n",
    "for i in range(2, 11):\n",
    "    if isPrime(i):\n",
    "        prime_list.append(i)"
   ]
  },
  {
   "cell_type": "markdown",
   "metadata": {},
   "source": [
    "## 1."
   ]
  },
  {
   "cell_type": "code",
   "execution_count": 14,
   "metadata": {},
   "outputs": [
    {
     "name": "stdout",
     "output_type": "stream",
     "text": [
      "primes_list의 첫 원소 : 2\n"
     ]
    }
   ],
   "source": [
    "print(f'primes_list의 첫 원소 : {prime_list[0]}')"
   ]
  },
  {
   "cell_type": "markdown",
   "metadata": {},
   "source": [
    "## 2. "
   ]
  },
  {
   "cell_type": "code",
   "execution_count": 17,
   "metadata": {},
   "outputs": [
    {
     "name": "stdout",
     "output_type": "stream",
     "text": [
      "primes_list의 마지막 원소 : 7\n"
     ]
    }
   ],
   "source": [
    "print(f'primes_list의 마지막 원소 : {prime_list[3]}')"
   ]
  },
  {
   "cell_type": "markdown",
   "metadata": {},
   "source": [
    "## 3."
   ]
  },
  {
   "cell_type": "code",
   "execution_count": 18,
   "metadata": {},
   "outputs": [
    {
     "name": "stdout",
     "output_type": "stream",
     "text": [
      "primes_list의 마지막 원소 : 7\n"
     ]
    }
   ],
   "source": [
    "print(f'primes_list의 마지막 원소 : {prime_list[-1]}')"
   ]
  },
  {
   "cell_type": "markdown",
   "metadata": {},
   "source": [
    "## 4."
   ]
  },
  {
   "cell_type": "code",
   "execution_count": 20,
   "metadata": {},
   "outputs": [],
   "source": [
    "nations = ['Korea', 'China', 'Russia', 'Malaysia']"
   ]
  },
  {
   "cell_type": "code",
   "execution_count": 21,
   "metadata": {},
   "outputs": [
    {
     "name": "stdout",
     "output_type": "stream",
     "text": [
      "nations의 첫 원소 : Korea\n"
     ]
    }
   ],
   "source": [
    "print(f'nations의 첫 원소 : {nations[0]}')"
   ]
  },
  {
   "cell_type": "markdown",
   "metadata": {},
   "source": [
    "## 5."
   ]
  },
  {
   "cell_type": "code",
   "execution_count": 22,
   "metadata": {},
   "outputs": [
    {
     "name": "stdout",
     "output_type": "stream",
     "text": [
      "nations의 마지막 원소 : Malaysia\n"
     ]
    }
   ],
   "source": [
    "print(f'nations의 마지막 원소 : {nations[-1]}')"
   ]
  },
  {
   "cell_type": "markdown",
   "metadata": {},
   "source": [
    "## 6."
   ]
  },
  {
   "cell_type": "code",
   "execution_count": 23,
   "metadata": {},
   "outputs": [
    {
     "name": "stdout",
     "output_type": "stream",
     "text": [
      "nations의 마지막 원소 : Malaysia\n"
     ]
    }
   ],
   "source": [
    "print(f'nations의 마지막 원소 : {nations[len(nations) - 1]}')"
   ]
  },
  {
   "cell_type": "markdown",
   "metadata": {},
   "source": [
    "# LAB 5.3 리스트의 삽입과 삭제, in 연산자"
   ]
  },
  {
   "cell_type": "markdown",
   "metadata": {},
   "source": [
    "## 1."
   ]
  },
  {
   "cell_type": "code",
   "execution_count": 26,
   "metadata": {},
   "outputs": [
    {
     "name": "stdout",
     "output_type": "stream",
     "text": [
      "소수 목록 : [2, 3, 5, 7]\n",
      "추가 후 소수목록 : [2, 3, 5, 7, 11]\n"
     ]
    }
   ],
   "source": [
    "print(f'소수 목록 : {prime_list}')\n",
    "prime_list.append(11)\n",
    "print(f'추가 후 소수목록 : {prime_list}')"
   ]
  },
  {
   "cell_type": "markdown",
   "metadata": {},
   "source": [
    "## 2."
   ]
  },
  {
   "cell_type": "code",
   "execution_count": 27,
   "metadata": {},
   "outputs": [
    {
     "name": "stdout",
     "output_type": "stream",
     "text": [
      "삭제 전 소수 목록 : [2, 3, 5, 7, 11]\n",
      "삭제 후 소수 목록 : [2, 5, 7, 11]\n"
     ]
    }
   ],
   "source": [
    "print(f'삭제 전 소수 목록 : {prime_list}')\n",
    "prime_list.remove(3)\n",
    "print(f'삭제 후 소수 목록 : {prime_list}')"
   ]
  },
  {
   "cell_type": "markdown",
   "metadata": {},
   "source": [
    "## 3."
   ]
  },
  {
   "cell_type": "code",
   "execution_count": 28,
   "metadata": {},
   "outputs": [
    {
     "name": "stdout",
     "output_type": "stream",
     "text": [
      "국가 목록 : ['Korea', 'China', 'Russia', 'Malaysia']\n",
      "추가 후 국가 목록 : ['Korea', 'China', 'Russia', 'Malaysia', 'Nepal']\n"
     ]
    }
   ],
   "source": [
    "print(f'국가 목록 : {nations}')\n",
    "nations.append('Nepal')\n",
    "print(f'추가 후 국가 목록 : {nations}')"
   ]
  },
  {
   "cell_type": "markdown",
   "metadata": {},
   "source": [
    "## 4."
   ]
  },
  {
   "cell_type": "code",
   "execution_count": 30,
   "metadata": {},
   "outputs": [
    {
     "name": "stdout",
     "output_type": "stream",
     "text": [
      "Japan는(은) 국가 목록에 없습니다.\n",
      "Russia는(은) 국가 목록에 있습니다.\n"
     ]
    }
   ],
   "source": [
    "for nation in ['Japan', 'Russia']:\n",
    "    if nation in nations:\n",
    "        print(f'{nation}는(은) 국가 목록에 있습니다.')\n",
    "    else:\n",
    "        print(f'{nation}는(은) 국가 목록에 없습니다.')"
   ]
  },
  {
   "cell_type": "markdown",
   "metadata": {},
   "source": [
    "# LAB 5.4 리스트의 min()과 max(), sum(), len() 함수"
   ]
  },
  {
   "cell_type": "markdown",
   "metadata": {},
   "source": [
    "## 1."
   ]
  },
  {
   "cell_type": "code",
   "execution_count": 36,
   "metadata": {},
   "outputs": [
    {
     "name": "stdout",
     "output_type": "stream",
     "text": [
      "1에서 10까지의 소수 : [2, 3, 5, 7]\n",
      "최솟값 : 2\n",
      "최댓값 : 7\n",
      "합계 : 17\n",
      "평균 ; 4.25\n"
     ]
    }
   ],
   "source": [
    "prime_list = []\n",
    "\n",
    "for i in range(1, 11):\n",
    "    if isPrime(i):\n",
    "        prime_list.append(i)\n",
    "\n",
    "print(f'1에서 10까지의 소수 : {prime_list}')\n",
    "print(f'최솟값 : {min(prime_list)}')\n",
    "print(f'최댓값 : {max(prime_list)}')\n",
    "print(f'합계 : {sum(prime_list)}')\n",
    "print(f'평균 ; {sum(prime_list) / len(prime_list)}')"
   ]
  },
  {
   "cell_type": "markdown",
   "metadata": {},
   "source": [
    "## 2."
   ]
  },
  {
   "cell_type": "code",
   "execution_count": 37,
   "metadata": {},
   "outputs": [
    {
     "name": "stdout",
     "output_type": "stream",
     "text": [
      "국가 목록 : ['Korea', 'China', 'Russia', 'Malaysia']\n",
      "사전에 가장 먼저 나오는 나라 : China\n",
      "사전에 가장 뒤에 나오는 나라 : Russia\n"
     ]
    }
   ],
   "source": [
    "nations = ['Korea', 'China', 'Russia', 'Malaysia']\n",
    "\n",
    "print(f'국가 목록 : {nations}')\n",
    "print(f'사전에 가장 먼저 나오는 나라 : {min(nations)}')\n",
    "print(f'사전에 가장 뒤에 나오는 나라 : {max(nations)}')"
   ]
  },
  {
   "cell_type": "markdown",
   "metadata": {},
   "source": [
    "# LAB 5.5 리스트 메소드의 응용"
   ]
  },
  {
   "cell_type": "markdown",
   "metadata": {},
   "source": [
    "## 1."
   ]
  },
  {
   "cell_type": "code",
   "execution_count": 42,
   "metadata": {},
   "outputs": [
    {
     "name": "stdout",
     "output_type": "stream",
     "text": [
      "[1, 2, 3, [10, 20, 30]]\n",
      "[1, 2, 3, 10, 20, 30]\n"
     ]
    }
   ],
   "source": [
    "a = [1, 2, 3]\n",
    "b = [10, 20, 30]\n",
    "a.append(b)\n",
    "print(a)\n",
    "\n",
    "a = [1, 2, 3]\n",
    "b = [10, 20, 30]\n",
    "a.extend(b)\n",
    "print(a)"
   ]
  },
  {
   "cell_type": "markdown",
   "metadata": {},
   "source": [
    "## 2."
   ]
  },
  {
   "cell_type": "code",
   "execution_count": 43,
   "metadata": {},
   "outputs": [
    {
     "name": "stdout",
     "output_type": "stream",
     "text": [
      "n_list = [1, 2, 3, 4, 5, 6, 7, 8, 9, 10]\n"
     ]
    }
   ],
   "source": [
    "n_list = [i + 1 for i in range(10)]\n",
    "print(f'n_list = {n_list}')"
   ]
  },
  {
   "cell_type": "markdown",
   "metadata": {},
   "source": [
    "## 3."
   ]
  },
  {
   "cell_type": "code",
   "execution_count": 44,
   "metadata": {},
   "outputs": [
    {
     "name": "stdout",
     "output_type": "stream",
     "text": [
      "n_list = [0, 1, 2, 3, 4, 5, 6, 7, 8, 9, 10]\n"
     ]
    }
   ],
   "source": [
    "n_list.insert(0, 0)\n",
    "print(f'n_list = {n_list}')"
   ]
  },
  {
   "cell_type": "markdown",
   "metadata": {},
   "source": [
    "## 4."
   ]
  },
  {
   "cell_type": "code",
   "execution_count": 45,
   "metadata": {},
   "outputs": [
    {
     "name": "stdout",
     "output_type": "stream",
     "text": [
      "n_list = [10, 9, 8, 7, 6, 5, 4, 3, 2, 1, 0]\n"
     ]
    }
   ],
   "source": [
    "n_list.reverse()\n",
    "print(f'n_list = {n_list}')"
   ]
  },
  {
   "cell_type": "markdown",
   "metadata": {},
   "source": [
    "## 5."
   ]
  },
  {
   "cell_type": "code",
   "execution_count": 46,
   "metadata": {},
   "outputs": [
    {
     "name": "stdout",
     "output_type": "stream",
     "text": [
      "마지막 원소 = 0\n",
      "n_list = [10, 9, 8, 7, 6, 5, 4, 3, 2, 1]\n"
     ]
    }
   ],
   "source": [
    "pop_number = n_list.pop(-1)\n",
    "print(f'마지막 원소 = {pop_number}')\n",
    "print(f'n_list = {n_list}')"
   ]
  },
  {
   "cell_type": "markdown",
   "metadata": {},
   "source": [
    "# LAB 5.6 리스트 연산"
   ]
  },
  {
   "cell_type": "markdown",
   "metadata": {},
   "source": [
    "## 1."
   ]
  },
  {
   "cell_type": "code",
   "execution_count": 48,
   "metadata": {},
   "outputs": [
    {
     "name": "stdout",
     "output_type": "stream",
     "text": [
      "반복할 정수를 입력하시오 : 3\n",
      "[1, 2, 3, 1, 2, 3, 1, 2, 3]\n"
     ]
    }
   ],
   "source": [
    "repeat = int(input('반복할 정수를 입력하시오 : '))\n",
    "print([1, 2, 3] * repeat)"
   ]
  },
  {
   "cell_type": "code",
   "execution_count": 49,
   "metadata": {},
   "outputs": [
    {
     "name": "stdout",
     "output_type": "stream",
     "text": [
      "반복할 정수를 입력하시오 : 4\n",
      "[1, 2, 3, 1, 2, 3, 1, 2, 3, 1, 2, 3]\n"
     ]
    }
   ],
   "source": [
    "repeat = int(input('반복할 정수를 입력하시오 : '))\n",
    "print([1, 2, 3] * repeat)"
   ]
  },
  {
   "cell_type": "markdown",
   "metadata": {},
   "source": [
    "# LAB 5.7 리스트의 슬라이싱"
   ]
  },
  {
   "cell_type": "markdown",
   "metadata": {},
   "source": [
    "## 1."
   ]
  },
  {
   "cell_type": "code",
   "execution_count": 51,
   "metadata": {},
   "outputs": [
    {
     "name": "stdout",
     "output_type": "stream",
     "text": [
      "n_list = [0, 1, 2, 3, 4, 5, 6, 7, 8, 9, 10, 11, 12, 13, 14]\n"
     ]
    }
   ],
   "source": [
    "n_list = [i for i in range(15)]\n",
    "print(f'n_list = {n_list}')"
   ]
  },
  {
   "cell_type": "markdown",
   "metadata": {},
   "source": [
    "## 2."
   ]
  },
  {
   "cell_type": "code",
   "execution_count": 58,
   "metadata": {},
   "outputs": [
    {
     "name": "stdout",
     "output_type": "stream",
     "text": [
      "s_list1 = [0, 1, 2, 3, 4]\n",
      "s_list2 = [5, 6, 7, 8, 9, 10]\n",
      "s_list3 = [11, 12, 13, 14]\n",
      "s_list4 = [2, 4, 6, 8, 10]\n",
      "s_list5 = [10, 9, 8, 7, 6]\n",
      "s_list6 = [10, 8, 6, 4, 2]\n"
     ]
    }
   ],
   "source": [
    "s_list1 = n_list[:5]\n",
    "s_list2 = n_list[5:11]\n",
    "s_list3 = n_list[11:15]\n",
    "s_list4 = [num * 2 for num in n_list[1:6]]\n",
    "s_list5 = n_list[-5:-10:-1]\n",
    "s_list6 = n_list[-5:-14:-2]\n",
    "\n",
    "print(f's_list1 = {s_list1}')\n",
    "print(f's_list2 = {s_list2}')\n",
    "print(f's_list3 = {s_list3}')\n",
    "print(f's_list4 = {s_list4}')\n",
    "print(f's_list5 = {s_list5}')\n",
    "print(f's_list6 = {s_list6}')"
   ]
  }
 ],
 "metadata": {
  "kernelspec": {
   "display_name": "Python 3",
   "language": "python",
   "name": "python3"
  },
  "language_info": {
   "codemirror_mode": {
    "name": "ipython",
    "version": 3
   },
   "file_extension": ".py",
   "mimetype": "text/x-python",
   "name": "python",
   "nbconvert_exporter": "python",
   "pygments_lexer": "ipython3",
   "version": "3.8.5"
  }
 },
 "nbformat": 4,
 "nbformat_minor": 4
}
