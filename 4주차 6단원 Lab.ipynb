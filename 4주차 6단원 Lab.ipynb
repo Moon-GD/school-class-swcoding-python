{
 "cells": [
  {
   "cell_type": "markdown",
   "metadata": {},
   "source": [
    "# LAB 6.1 딕셔너리의 생성"
   ]
  },
  {
   "cell_type": "markdown",
   "metadata": {},
   "source": [
    "## 1."
   ]
  },
  {
   "cell_type": "code",
   "execution_count": 1,
   "metadata": {},
   "outputs": [],
   "source": [
    "capital_dic = {'Korea':'Seoul', 'China':'Beijing', 'USA':'Washington DC'}"
   ]
  },
  {
   "cell_type": "code",
   "execution_count": 4,
   "metadata": {},
   "outputs": [
    {
     "name": "stdout",
     "output_type": "stream",
     "text": [
      "Seoul\n",
      "Beijing\n",
      "Washington DC\n"
     ]
    }
   ],
   "source": [
    "print(capital_dic['Korea'])\n",
    "print(capital_dic['China'])\n",
    "print(capital_dic['USA'])"
   ]
  },
  {
   "cell_type": "markdown",
   "metadata": {},
   "source": [
    "## 2."
   ]
  },
  {
   "cell_type": "code",
   "execution_count": 9,
   "metadata": {},
   "outputs": [
    {
     "name": "stdout",
     "output_type": "stream",
     "text": [
      "apple의 가격은 5000원입니다.\n",
      "banana의 가격은 4000원입니다.\n",
      "grape의 가격은 5300원입니다.\n",
      "melon의 가격은 6500원입니다.\n"
     ]
    }
   ],
   "source": [
    "fruits_dic = {'apple':5000, 'banana':4000, 'grape':5300, 'melon':6500}\n",
    "\n",
    "for fruit in fruits_dic:\n",
    "    print(f'{fruit}의 가격은 {fruits_dic[fruit]}원입니다.')"
   ]
  },
  {
   "cell_type": "markdown",
   "metadata": {},
   "source": [
    "# LAB 6.2 딕셔너리의 항목 추가와 삭제"
   ]
  },
  {
   "cell_type": "markdown",
   "metadata": {},
   "source": [
    "## 1."
   ]
  },
  {
   "cell_type": "code",
   "execution_count": 10,
   "metadata": {},
   "outputs": [],
   "source": [
    "person = {'이름':'홍길동', '나이':26, '몸무게':82, '특기':'분신술'}"
   ]
  },
  {
   "cell_type": "markdown",
   "metadata": {},
   "source": [
    "## 2."
   ]
  },
  {
   "cell_type": "code",
   "execution_count": 12,
   "metadata": {},
   "outputs": [
    {
     "name": "stdout",
     "output_type": "stream",
     "text": [
      "{'이름': '홍길동', '나이': 26, '몸무게': 82, '특기': '분신술', '아버지': '홍판서'}\n"
     ]
    }
   ],
   "source": [
    "person['아버지'] = '홍판서'\n",
    "print(person)"
   ]
  },
  {
   "cell_type": "markdown",
   "metadata": {},
   "source": [
    "## 3."
   ]
  },
  {
   "cell_type": "code",
   "execution_count": 14,
   "metadata": {},
   "outputs": [
    {
     "name": "stdout",
     "output_type": "stream",
     "text": [
      "{'이름': '홍길동', '몸무게': 82, '특기': '분신술', '아버지': '홍판서'}\n"
     ]
    }
   ],
   "source": [
    "del person['나이']\n",
    "print(person)"
   ]
  },
  {
   "cell_type": "markdown",
   "metadata": {},
   "source": [
    "# LAB 6.3 딕셔너리와 연산"
   ]
  },
  {
   "cell_type": "code",
   "execution_count": 15,
   "metadata": {},
   "outputs": [],
   "source": [
    "capital_dic = {'Korea':'Seoul', 'China':'Beijing', 'USA':'Washington DC'}"
   ]
  },
  {
   "cell_type": "markdown",
   "metadata": {},
   "source": [
    "## 1."
   ]
  },
  {
   "cell_type": "code",
   "execution_count": 17,
   "metadata": {},
   "outputs": [
    {
     "name": "stdout",
     "output_type": "stream",
     "text": [
      "Korea in capital_dic\n",
      "True\n"
     ]
    }
   ],
   "source": [
    "print('Korea in capital_dic')\n",
    "print('Korea' in capital_dic)"
   ]
  },
  {
   "cell_type": "code",
   "execution_count": 18,
   "metadata": {},
   "outputs": [
    {
     "name": "stdout",
     "output_type": "stream",
     "text": [
      "China in capital_dic\n",
      "True\n"
     ]
    }
   ],
   "source": [
    "print('China in capital_dic')\n",
    "print('China' in capital_dic)"
   ]
  },
  {
   "cell_type": "code",
   "execution_count": 19,
   "metadata": {},
   "outputs": [
    {
     "name": "stdout",
     "output_type": "stream",
     "text": [
      "Indonesia in capital_dic\n",
      "False\n"
     ]
    }
   ],
   "source": [
    "print('Indonesia in capital_dic')\n",
    "print('Indonesia' in capital_dic)"
   ]
  },
  {
   "cell_type": "code",
   "execution_count": 20,
   "metadata": {},
   "outputs": [
    {
     "name": "stdout",
     "output_type": "stream",
     "text": [
      "Beijing in capital_dic\n",
      "False\n"
     ]
    }
   ],
   "source": [
    "print('Beijing in capital_dic')\n",
    "print('Beijing' in capital_dic)"
   ]
  },
  {
   "cell_type": "markdown",
   "metadata": {},
   "source": [
    "# LAB 6.4 딕셔너리의 활용"
   ]
  },
  {
   "cell_type": "markdown",
   "metadata": {},
   "source": [
    "## 1."
   ]
  },
  {
   "cell_type": "code",
   "execution_count": 27,
   "metadata": {},
   "outputs": [],
   "source": [
    "fruits_dic = {'apple':6000, 'banana':5000, 'orange':7000, 'melon':3000}"
   ]
  },
  {
   "cell_type": "markdown",
   "metadata": {},
   "source": [
    "## 2."
   ]
  },
  {
   "cell_type": "code",
   "execution_count": 28,
   "metadata": {},
   "outputs": [
    {
     "name": "stdout",
     "output_type": "stream",
     "text": [
      "dict_keys(['apple', 'banana', 'orange', 'melon'])\n"
     ]
    }
   ],
   "source": [
    "print(fruits_dic.keys())"
   ]
  },
  {
   "cell_type": "markdown",
   "metadata": {},
   "source": [
    "## 3."
   ]
  },
  {
   "cell_type": "code",
   "execution_count": 29,
   "metadata": {},
   "outputs": [
    {
     "name": "stdout",
     "output_type": "stream",
     "text": [
      "dict_values([6000, 5000, 7000, 3000])\n"
     ]
    }
   ],
   "source": [
    "print(fruits_dic.values())"
   ]
  },
  {
   "cell_type": "markdown",
   "metadata": {},
   "source": [
    "## 4."
   ]
  },
  {
   "cell_type": "code",
   "execution_count": 30,
   "metadata": {},
   "outputs": [
    {
     "name": "stdout",
     "output_type": "stream",
     "text": [
      "{'banana': 5000, 'orange': 7000, 'melon': 3000}\n"
     ]
    }
   ],
   "source": [
    "fruits_dic.pop('apple')\n",
    "print(fruits_dic)"
   ]
  },
  {
   "cell_type": "markdown",
   "metadata": {},
   "source": [
    "## 5."
   ]
  },
  {
   "cell_type": "code",
   "execution_count": 37,
   "metadata": {},
   "outputs": [
    {
     "name": "stdout",
     "output_type": "stream",
     "text": [
      "{}\n"
     ]
    }
   ],
   "source": [
    "fruits_dic.clear()\n",
    "print(fruits_dic)"
   ]
  },
  {
   "cell_type": "markdown",
   "metadata": {},
   "source": [
    "# LAB 6.5 딕셔너리의 활용"
   ]
  },
  {
   "cell_type": "markdown",
   "metadata": {},
   "source": [
    "## 1."
   ]
  },
  {
   "cell_type": "code",
   "execution_count": 39,
   "metadata": {},
   "outputs": [
    {
     "name": "stdout",
     "output_type": "stream",
     "text": [
      "['apple', 'melon', 'banana', 'oragne']\n"
     ]
    }
   ],
   "source": [
    "fruits_dic = {'apple':6000, 'melon':3000, 'banana':5000, 'oragne':4000}\n",
    "print(list(fruits_dic.keys()))"
   ]
  },
  {
   "cell_type": "markdown",
   "metadata": {},
   "source": [
    "## 2."
   ]
  },
  {
   "cell_type": "code",
   "execution_count": 40,
   "metadata": {},
   "outputs": [
    {
     "name": "stdout",
     "output_type": "stream",
     "text": [
      "[6000, 3000, 5000, 4000]\n"
     ]
    }
   ],
   "source": [
    "print(list(fruits_dic.values()))"
   ]
  },
  {
   "cell_type": "markdown",
   "metadata": {},
   "source": [
    "## 3."
   ]
  },
  {
   "cell_type": "code",
   "execution_count": 41,
   "metadata": {},
   "outputs": [
    {
     "name": "stdout",
     "output_type": "stream",
     "text": [
      "fruits_dic 딕셔너리 항목의 개수 : 4\n"
     ]
    }
   ],
   "source": [
    "print(f'fruits_dic 딕셔너리 항목의 개수 : {len(fruits_dic)}')"
   ]
  },
  {
   "cell_type": "markdown",
   "metadata": {},
   "source": [
    "## 4."
   ]
  },
  {
   "cell_type": "code",
   "execution_count": 42,
   "metadata": {},
   "outputs": [
    {
     "name": "stdout",
     "output_type": "stream",
     "text": [
      "apple is in fruits_dic.\n",
      "mango is not in fruits_dic.\n"
     ]
    }
   ],
   "source": [
    "for fruit in ['apple', 'mango']:\n",
    "    if fruit in fruits_dic:\n",
    "        print(f'{fruit} is in fruits_dic.')\n",
    "    else:\n",
    "        print(f'{fruit} is not in fruits_dic.')"
   ]
  },
  {
   "cell_type": "markdown",
   "metadata": {},
   "source": [
    "# LAB 6.6 튜플의 생성과 패킹, 언패킹"
   ]
  },
  {
   "cell_type": "markdown",
   "metadata": {},
   "source": [
    "## 1."
   ]
  },
  {
   "cell_type": "code",
   "execution_count": 43,
   "metadata": {},
   "outputs": [
    {
     "name": "stdout",
     "output_type": "stream",
     "text": [
      "1919년 3월 1일은 삼일절입니다.\n"
     ]
    }
   ],
   "source": [
    "the_day = (1919, 3, 1)\n",
    "year, month, day = the_day\n",
    "print(f'{year}년 {month}월 {day}일은 삼일절입니다.')"
   ]
  },
  {
   "cell_type": "markdown",
   "metadata": {},
   "source": [
    "## 2."
   ]
  },
  {
   "cell_type": "code",
   "execution_count": 46,
   "metadata": {},
   "outputs": [
    {
     "name": "stdout",
     "output_type": "stream",
     "text": [
      "a = 10\n",
      "b = 20\n",
      "c = 30\n"
     ]
    }
   ],
   "source": [
    "num_list = [10, 20, 30]\n",
    "a, b, c = tuple(num_list)\n",
    "\n",
    "print(f'a = {a}')\n",
    "print(f'b = {b}')\n",
    "print(f'c = {c}')"
   ]
  },
  {
   "cell_type": "markdown",
   "metadata": {},
   "source": [
    "# LAB 6.7 튜플의 활용"
   ]
  },
  {
   "cell_type": "markdown",
   "metadata": {},
   "source": [
    "## 1."
   ]
  },
  {
   "cell_type": "code",
   "execution_count": 47,
   "metadata": {},
   "outputs": [],
   "source": [
    "person = ('홍길동', 2019001, 179)"
   ]
  },
  {
   "cell_type": "markdown",
   "metadata": {},
   "source": [
    "## 2."
   ]
  },
  {
   "cell_type": "code",
   "execution_count": 48,
   "metadata": {},
   "outputs": [
    {
     "ename": "TypeError",
     "evalue": "'tuple' object does not support item assignment",
     "output_type": "error",
     "traceback": [
      "\u001b[1;31m---------------------------------------------------------------------------\u001b[0m",
      "\u001b[1;31mTypeError\u001b[0m                                 Traceback (most recent call last)",
      "\u001b[1;32m<ipython-input-48-4be21f748159>\u001b[0m in \u001b[0;36m<module>\u001b[1;34m\u001b[0m\n\u001b[1;32m----> 1\u001b[1;33m \u001b[0mperson\u001b[0m\u001b[1;33m[\u001b[0m\u001b[1;36m1\u001b[0m\u001b[1;33m]\u001b[0m \u001b[1;33m=\u001b[0m \u001b[1;36m2019003\u001b[0m\u001b[1;33m\u001b[0m\u001b[1;33m\u001b[0m\u001b[0m\n\u001b[0m",
      "\u001b[1;31mTypeError\u001b[0m: 'tuple' object does not support item assignment"
     ]
    }
   ],
   "source": [
    "person[1] = 2019003"
   ]
  },
  {
   "cell_type": "markdown",
   "metadata": {},
   "source": [
    "## 3."
   ]
  },
  {
   "cell_type": "code",
   "execution_count": 49,
   "metadata": {},
   "outputs": [
    {
     "name": "stdout",
     "output_type": "stream",
     "text": [
      "학번 변동 후 person = ('홍길동', 2020003, 179)\n"
     ]
    }
   ],
   "source": [
    "person = list(person)\n",
    "person[1] = 2020003\n",
    "person = tuple(person)\n",
    "print(f'학번 변동 후 person = {person}')"
   ]
  },
  {
   "cell_type": "markdown",
   "metadata": {},
   "source": [
    "# LAB 6.8 튜플의 변환"
   ]
  },
  {
   "cell_type": "markdown",
   "metadata": {},
   "source": [
    "## 1."
   ]
  },
  {
   "cell_type": "code",
   "execution_count": 52,
   "metadata": {},
   "outputs": [
    {
     "name": "stdout",
     "output_type": "stream",
     "text": [
      "x = 10\n",
      "y = 20\n",
      "10 제곱 = 100, 20 제곱 = 400\n"
     ]
    }
   ],
   "source": [
    "x = int(input('x = '))\n",
    "y = int(input('y = '))\n",
    "\n",
    "\n",
    "def square(x, y):\n",
    "    return x ** 2, y ** 2\n",
    "\n",
    "\n",
    "x_sq, y_sq = square(x, y)\n",
    "print(f'{x} 제곱 = {x_sq}, {y} 제곱 = {y_sq}')"
   ]
  },
  {
   "cell_type": "markdown",
   "metadata": {},
   "source": [
    "## 2."
   ]
  },
  {
   "cell_type": "code",
   "execution_count": 53,
   "metadata": {},
   "outputs": [
    {
     "name": "stdout",
     "output_type": "stream",
     "text": [
      "(10, 20, 30, 40, 50, 60)\n"
     ]
    }
   ],
   "source": [
    "print((10, 20, 30) + (40, 50, 60))"
   ]
  },
  {
   "cell_type": "markdown",
   "metadata": {},
   "source": [
    "## 3."
   ]
  },
  {
   "cell_type": "code",
   "execution_count": 54,
   "metadata": {},
   "outputs": [
    {
     "name": "stdout",
     "output_type": "stream",
     "text": [
      "HelloHelloHello\n",
      "('Hello', 'Hello', 'Hello')\n"
     ]
    }
   ],
   "source": [
    "print('Hello' * 3)\n",
    "print(('Hello', ) * 3)"
   ]
  },
  {
   "cell_type": "markdown",
   "metadata": {},
   "source": [
    "# LAB 6.9 집합의 생성"
   ]
  },
  {
   "cell_type": "markdown",
   "metadata": {},
   "source": [
    "## 1."
   ]
  },
  {
   "cell_type": "code",
   "execution_count": 58,
   "metadata": {},
   "outputs": [
    {
     "name": "stdout",
     "output_type": "stream",
     "text": [
      "lst = ['apple', 'magno', 'banana']\n",
      "s1 = {'banana', 'apple', 'magno'}\n"
     ]
    }
   ],
   "source": [
    "lst = ['apple', 'magno', 'banana']\n",
    "s1 = set(lst)\n",
    "\n",
    "print(f'lst = {lst}')\n",
    "print(f's1 = {s1}')"
   ]
  },
  {
   "cell_type": "markdown",
   "metadata": {},
   "source": [
    "## 2."
   ]
  },
  {
   "cell_type": "code",
   "execution_count": 60,
   "metadata": {},
   "outputs": [
    {
     "name": "stdout",
     "output_type": "stream",
     "text": [
      "greet = Good afternoon\n",
      "s2 = {'o', 'n', 't', 'e', 'G', 'a', 'f', 'd', 'r', ' '}\n"
     ]
    }
   ],
   "source": [
    "greet = 'Good afternoon'\n",
    "s2 = set(greet)\n",
    "\n",
    "print(f'greet = {greet}')\n",
    "print(f's2 = {s2}')"
   ]
  },
  {
   "cell_type": "markdown",
   "metadata": {},
   "source": [
    "# LAB 6.10 집합의 연산"
   ]
  },
  {
   "cell_type": "code",
   "execution_count": 61,
   "metadata": {},
   "outputs": [],
   "source": [
    "s1 = {10, 20, 30, 40}\n",
    "s2 = {30, 40, 50, 60, 70}"
   ]
  },
  {
   "cell_type": "markdown",
   "metadata": {},
   "source": [
    "## 1."
   ]
  },
  {
   "cell_type": "code",
   "execution_count": 62,
   "metadata": {},
   "outputs": [
    {
     "name": "stdout",
     "output_type": "stream",
     "text": [
      "{70, 40, 10, 50, 20, 60, 30}\n"
     ]
    }
   ],
   "source": [
    "print(s1 | s2)"
   ]
  },
  {
   "cell_type": "markdown",
   "metadata": {},
   "source": [
    "## 2."
   ]
  },
  {
   "cell_type": "code",
   "execution_count": 63,
   "metadata": {},
   "outputs": [
    {
     "name": "stdout",
     "output_type": "stream",
     "text": [
      "{40, 30}\n"
     ]
    }
   ],
   "source": [
    "print(s1 & s2)"
   ]
  },
  {
   "cell_type": "markdown",
   "metadata": {},
   "source": [
    "## 3."
   ]
  },
  {
   "cell_type": "code",
   "execution_count": 64,
   "metadata": {},
   "outputs": [
    {
     "name": "stdout",
     "output_type": "stream",
     "text": [
      "{10, 20}\n"
     ]
    }
   ],
   "source": [
    "print(s1 - s2)"
   ]
  },
  {
   "cell_type": "markdown",
   "metadata": {},
   "source": [
    "## 4."
   ]
  },
  {
   "cell_type": "code",
   "execution_count": 65,
   "metadata": {},
   "outputs": [
    {
     "name": "stdout",
     "output_type": "stream",
     "text": [
      "{50, 20, 70, 10, 60}\n"
     ]
    }
   ],
   "source": [
    "print(s1 ^ s2)"
   ]
  },
  {
   "cell_type": "markdown",
   "metadata": {},
   "source": [
    "## 5."
   ]
  },
  {
   "cell_type": "code",
   "execution_count": 66,
   "metadata": {},
   "outputs": [
    {
     "name": "stdout",
     "output_type": "stream",
     "text": [
      "False\n"
     ]
    }
   ],
   "source": [
    "print(s1.issubset(s2))"
   ]
  },
  {
   "cell_type": "markdown",
   "metadata": {},
   "source": [
    "## 6. "
   ]
  },
  {
   "cell_type": "code",
   "execution_count": 67,
   "metadata": {},
   "outputs": [
    {
     "name": "stdout",
     "output_type": "stream",
     "text": [
      "False\n"
     ]
    }
   ],
   "source": [
    "print(s1.issuperset(s2))"
   ]
  },
  {
   "cell_type": "markdown",
   "metadata": {},
   "source": [
    "## 7."
   ]
  },
  {
   "cell_type": "code",
   "execution_count": 68,
   "metadata": {},
   "outputs": [
    {
     "name": "stdout",
     "output_type": "stream",
     "text": [
      "False\n"
     ]
    }
   ],
   "source": [
    "print(s1.isdisjoint(s2))"
   ]
  },
  {
   "cell_type": "markdown",
   "metadata": {},
   "source": [
    "# LAB 6.11 곱 집합 연산"
   ]
  },
  {
   "cell_type": "code",
   "execution_count": 69,
   "metadata": {},
   "outputs": [],
   "source": [
    "A = {1, 2}\n",
    "B = {'A', 'B', 'C'}"
   ]
  },
  {
   "cell_type": "code",
   "execution_count": 72,
   "metadata": {},
   "outputs": [],
   "source": [
    "def product(set1, set2):\n",
    "    value = set()\n",
    "    for i in set1:\n",
    "        for j in set2:\n",
    "            value = value | {(i, j)}\n",
    "            \n",
    "    return value"
   ]
  },
  {
   "cell_type": "code",
   "execution_count": 73,
   "metadata": {},
   "outputs": [
    {
     "name": "stdout",
     "output_type": "stream",
     "text": [
      "A X B = {(2, 'A'), (1, 'B'), (1, 'A'), (2, 'C'), (2, 'B'), (1, 'C')}\n"
     ]
    }
   ],
   "source": [
    "print(f'A X B = {product(A, B)}')"
   ]
  },
  {
   "cell_type": "code",
   "execution_count": 74,
   "metadata": {},
   "outputs": [
    {
     "name": "stdout",
     "output_type": "stream",
     "text": [
      "B X A = {('C', 1), ('A', 2), ('B', 1), ('B', 2), ('C', 2), ('A', 1)}\n"
     ]
    }
   ],
   "source": [
    "print(f'B X A = {product(B, A)}')"
   ]
  },
  {
   "cell_type": "code",
   "execution_count": 77,
   "metadata": {},
   "outputs": [
    {
     "name": "stdout",
     "output_type": "stream",
     "text": [
      "A X A = {(1, 1), (1, 2), (2, 1), (2, 2)}\n"
     ]
    }
   ],
   "source": [
    "print(f'A X A = {product(A, A)}')"
   ]
  },
  {
   "cell_type": "code",
   "execution_count": 78,
   "metadata": {},
   "outputs": [
    {
     "name": "stdout",
     "output_type": "stream",
     "text": [
      "B X B = {('C', 'A'), ('C', 'C'), ('C', 'B'), ('A', 'A'), ('B', 'A'), ('A', 'C'), ('A', 'B'), ('B', 'C'), ('B', 'B')}\n"
     ]
    }
   ],
   "source": [
    "print(f'B X B = {product(B, B)}')"
   ]
  },
  {
   "cell_type": "markdown",
   "metadata": {},
   "source": [
    "# LAB 6.12 복수로 주사위를 던졌을 때 특정 값 이상을 얻을 확률 구하기"
   ]
  },
  {
   "cell_type": "code",
   "execution_count": 79,
   "metadata": {},
   "outputs": [],
   "source": [
    "def tuple_sum(tup):\n",
    "    if isinstance(tup, int):\n",
    "        return tup\n",
    "    else:\n",
    "        accum = 0\n",
    "        for element in tup:\n",
    "            accum += tuple_sum(element)\n",
    "    return accum\n",
    "\n",
    "\n",
    "def product_set(set1, set2):\n",
    "    res = set()\n",
    "    \n",
    "    for i in set1:\n",
    "        for j in set2:\n",
    "            res = res | {(i, j)}\n",
    "            \n",
    "    return res\n",
    "\n",
    "\n",
    "def exp(input_set, exponent):\n",
    "    res = input_set\n",
    "    \n",
    "    for _ in range(exponent - 1):\n",
    "        res = product_set(res, input_set)\n",
    "        \n",
    "    return res"
   ]
  },
  {
   "cell_type": "markdown",
   "metadata": {},
   "source": [
    "## 1."
   ]
  },
  {
   "cell_type": "code",
   "execution_count": 85,
   "metadata": {},
   "outputs": [
    {
     "name": "stdout",
     "output_type": "stream",
     "text": [
      "주사위를 세 번 던져서 발생할 수 있는 사건은 216 가지 경우가 존재합니다.\n"
     ]
    }
   ],
   "source": [
    "dice_set = {1, 2, 3, 4, 5, 6}\n",
    "dice_case03 = len(exp(dice_set, 3))\n",
    "\n",
    "print(f'주사위를 세 번 던져서 발생할 수 있는 사건은 {dice_case03} 가지 경우가 존재합니다.')"
   ]
  },
  {
   "cell_type": "markdown",
   "metadata": {},
   "source": [
    "## 2."
   ]
  },
  {
   "cell_type": "code",
   "execution_count": 88,
   "metadata": {},
   "outputs": [
    {
     "name": "stdout",
     "output_type": "stream",
     "text": [
      "주사위를 세 번 던져 나온 눈의 합이 10 이상인 경우는 135 가지입니다.\n"
     ]
    }
   ],
   "source": [
    "dice_case = exp(dice_set, 3)\n",
    "\n",
    "count = 0\n",
    "for case in dice_case:\n",
    "    if tuple_sum(case) >= 10:\n",
    "        count = count + 1\n",
    "        \n",
    "        \n",
    "print(f'주사위를 세 번 던져 나온 눈의 합이 10 이상인 경우는 {count} 가지입니다.')"
   ]
  },
  {
   "cell_type": "code",
   "execution_count": 94,
   "metadata": {},
   "outputs": [],
   "source": [
    "def prob_over(x):\n",
    "    dice = {1, 2, 3, 4, 5, 6}\n",
    "    dice_case = exp(dice, 3)\n",
    "    \n",
    "    total_case_number = len(dice_case)\n",
    "    \n",
    "    dice_sum = x\n",
    "    count = 0\n",
    "    for case in dice_case:\n",
    "        if tuple_sum(case) >= dice_sum:\n",
    "            count += 1\n",
    "                \n",
    "    prob = round(100 * count / total_case_number, 2)\n",
    "    print(f'눈의 합으로 {dice_sum} 이상을 얻을 확률 {prob} %')"
   ]
  },
  {
   "cell_type": "code",
   "execution_count": 95,
   "metadata": {},
   "outputs": [
    {
     "name": "stdout",
     "output_type": "stream",
     "text": [
      "눈의 합으로 3 이상을 얻을 확률 100.0 %\n",
      "눈의 합으로 4 이상을 얻을 확률 99.54 %\n",
      "눈의 합으로 5 이상을 얻을 확률 98.15 %\n",
      "눈의 합으로 6 이상을 얻을 확률 95.37 %\n",
      "눈의 합으로 7 이상을 얻을 확률 90.74 %\n",
      "눈의 합으로 8 이상을 얻을 확률 83.8 %\n",
      "눈의 합으로 9 이상을 얻을 확률 74.07 %\n",
      "눈의 합으로 10 이상을 얻을 확률 62.5 %\n",
      "눈의 합으로 11 이상을 얻을 확률 50.0 %\n",
      "눈의 합으로 12 이상을 얻을 확률 37.5 %\n",
      "눈의 합으로 13 이상을 얻을 확률 25.93 %\n",
      "눈의 합으로 14 이상을 얻을 확률 16.2 %\n",
      "눈의 합으로 15 이상을 얻을 확률 9.26 %\n",
      "눈의 합으로 16 이상을 얻을 확률 4.63 %\n",
      "눈의 합으로 17 이상을 얻을 확률 1.85 %\n",
      "눈의 합으로 18 이상을 얻을 확률 0.46 %\n"
     ]
    }
   ],
   "source": [
    "for x in range(3, 19):\n",
    "    prob_over(x)"
   ]
  }
 ],
 "metadata": {
  "kernelspec": {
   "display_name": "Python 3",
   "language": "python",
   "name": "python3"
  },
  "language_info": {
   "codemirror_mode": {
    "name": "ipython",
    "version": 3
   },
   "file_extension": ".py",
   "mimetype": "text/x-python",
   "name": "python",
   "nbconvert_exporter": "python",
   "pygments_lexer": "ipython3",
   "version": "3.8.5"
  }
 },
 "nbformat": 4,
 "nbformat_minor": 4
}
