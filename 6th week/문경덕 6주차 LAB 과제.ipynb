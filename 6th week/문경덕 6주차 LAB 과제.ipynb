{
 "cells": [
  {
   "cell_type": "markdown",
   "metadata": {},
   "source": [
    "# Lab 4.1 - 함수 정의와 호출"
   ]
  },
  {
   "cell_type": "markdown",
   "metadata": {},
   "source": [
    "## 1. [ 코드 4 - 1 ] 의 함수 호출문을 삭제하면 어떻게 되는가?"
   ]
  },
  {
   "cell_type": "code",
   "execution_count": 3,
   "metadata": {},
   "outputs": [],
   "source": [
    "def print_star():\n",
    "    print('**********')\n",
    "    \n",
    "# 함수 호출이 없으면 함수 정의만 된 상태로 Console 창에 아무것도 찍히지 않음"
   ]
  },
  {
   "cell_type": "markdown",
   "metadata": {},
   "source": [
    "## 2. [ 코드 4 - 2 ]를 수정하여 6줄의 별표를 출력해보시오. 이 때 함수 호출을 6회 하시오."
   ]
  },
  {
   "cell_type": "code",
   "execution_count": 5,
   "metadata": {},
   "outputs": [
    {
     "name": "stdout",
     "output_type": "stream",
     "text": [
      "***********\n",
      "***********\n",
      "***********\n",
      "***********\n",
      "***********\n",
      "***********\n"
     ]
    }
   ],
   "source": [
    "# Ans.\n",
    "\n",
    "def print_star():\n",
    "    print('***********')\n",
    "    \n",
    "\n",
    "for _ in range(6):\n",
    "    print_star()"
   ]
  },
  {
   "cell_type": "markdown",
   "metadata": {},
   "source": [
    "# Lab 4.2 - 함수 정의와 호출"
   ]
  },
  {
   "cell_type": "markdown",
   "metadata": {},
   "source": [
    "## 1. [ 코드 4 - 3 ]을 수정하여 함수 호출 두 번으로 10줄의 별표를 출력해보시오."
   ]
  },
  {
   "cell_type": "code",
   "execution_count": 6,
   "metadata": {},
   "outputs": [
    {
     "name": "stdout",
     "output_type": "stream",
     "text": [
      "**********\n",
      "**********\n",
      "**********\n",
      "**********\n",
      "**********\n",
      "**********\n",
      "**********\n",
      "**********\n",
      "**********\n",
      "**********\n"
     ]
    }
   ],
   "source": [
    "# Ans.\n",
    "\n",
    "def print_star3():\n",
    "    for _ in range(5):\n",
    "        print('**********')\n",
    "        \n",
    "        \n",
    "print_star3()\n",
    "print_star3()"
   ]
  },
  {
   "cell_type": "markdown",
   "metadata": {},
   "source": [
    "# Lab 4.3 - 함수 정의와 호출"
   ]
  },
  {
   "cell_type": "markdown",
   "metadata": {},
   "source": [
    "## 1. [ 코드 4 - 4 ]를 수정하여 해시마크 (#)를 한 줄 출력하는 print_hash() 함수를 추가로 구현하시오."
   ]
  },
  {
   "cell_type": "code",
   "execution_count": 7,
   "metadata": {},
   "outputs": [],
   "source": [
    "# Ans.\n",
    "\n",
    "def print_hash():\n",
    "    print('###########')"
   ]
  },
  {
   "cell_type": "markdown",
   "metadata": {},
   "source": [
    "## 2. print_star(), print_plus(), print_hash() 함수를 모두 이용하여 다음과 같은 출력이 나타나도록 함수를 호출하시오."
   ]
  },
  {
   "cell_type": "code",
   "execution_count": 9,
   "metadata": {},
   "outputs": [
    {
     "name": "stdout",
     "output_type": "stream",
     "text": [
      "###########\n",
      "***********\n",
      "++++++++++\n",
      "++++++++++\n",
      "***********\n",
      "###########\n"
     ]
    }
   ],
   "source": [
    "# Ans.\n",
    "\n",
    "def print_star():\n",
    "    print('***********')\n",
    "   \n",
    "\n",
    "\n",
    "def print_plus():\n",
    "    print('++++++++++')\n",
    "    \n",
    "    \n",
    "print_hash()\n",
    "print_star()\n",
    "print_plus()\n",
    "print_plus()\n",
    "print_star()\n",
    "print_hash()"
   ]
  },
  {
   "cell_type": "markdown",
   "metadata": {},
   "source": [
    "# Lab 4.4 - 다양한 별표와 패턴 출력"
   ]
  },
  {
   "cell_type": "markdown",
   "metadata": {},
   "source": [
    "## 1. [ 코드 4 - 5 ] 를 수정하여 별표 줄이 10개 출력되도록 인자를 변경하시오."
   ]
  },
  {
   "cell_type": "code",
   "execution_count": 11,
   "metadata": {},
   "outputs": [
    {
     "name": "stdout",
     "output_type": "stream",
     "text": [
      "**********\n",
      "**********\n",
      "**********\n",
      "**********\n",
      "**********\n",
      "**********\n",
      "**********\n",
      "**********\n",
      "**********\n",
      "**********\n"
     ]
    }
   ],
   "source": [
    "# Ans.\n",
    "\n",
    "def print_star(n):\n",
    "    for _ in range(n):\n",
    "        print('**********')\n",
    "        \n",
    "        \n",
    "print_star(10)"
   ]
  },
  {
   "cell_type": "markdown",
   "metadata": {},
   "source": [
    "## 2. [코드 4 - 5]를 수정하여 별표 (*) 대신 해시마크가 출력되도록 하시오."
   ]
  },
  {
   "cell_type": "code",
   "execution_count": 12,
   "metadata": {},
   "outputs": [
    {
     "name": "stdout",
     "output_type": "stream",
     "text": [
      "##########\n",
      "##########\n",
      "##########\n",
      "##########\n",
      "##########\n",
      "##########\n",
      "##########\n",
      "##########\n",
      "##########\n",
      "##########\n"
     ]
    }
   ],
   "source": [
    "# Ans.\n",
    "\n",
    "def print_hash(n):\n",
    "    for _ in range(n):\n",
    "        print('##########')\n",
    "        \n",
    "        \n",
    "print_hash(10)"
   ]
  },
  {
   "cell_type": "markdown",
   "metadata": {},
   "source": [
    "## 3. print_hash(6)을 호출하여 다음과 같은 출력이 나타나도록 하여라."
   ]
  },
  {
   "cell_type": "code",
   "execution_count": 13,
   "metadata": {},
   "outputs": [
    {
     "name": "stdout",
     "output_type": "stream",
     "text": [
      "##########\n",
      "##########\n",
      "##########\n",
      "##########\n",
      "##########\n",
      "##########\n"
     ]
    }
   ],
   "source": [
    "# Ans.\n",
    "\n",
    "print_hash(6)"
   ]
  },
  {
   "cell_type": "markdown",
   "metadata": {},
   "source": [
    "## 4. print_hash(6)을 호출하여 다음과 같은 출력이 나타나도록 하여라. 다음 화면과 같이 매번 해시가 출력될 때 앞 칸에 줄 번호를 0부터 표시하라"
   ]
  },
  {
   "cell_type": "code",
   "execution_count": 15,
   "metadata": {},
   "outputs": [
    {
     "name": "stdout",
     "output_type": "stream",
     "text": [
      " 0 ##########\n",
      " 1 ##########\n",
      " 2 ##########\n",
      " 3 ##########\n",
      " 4 ##########\n",
      " 5 ##########\n"
     ]
    }
   ],
   "source": [
    "# Ans.\n",
    "\n",
    "def print_hash(n):\n",
    "    for i in range(n):\n",
    "        print(f'{i:2d} ##########')\n",
    "        \n",
    "        \n",
    "print_hash(6)"
   ]
  },
  {
   "cell_type": "markdown",
   "metadata": {},
   "source": [
    "# Lab 4.5 - 두 수 연산을 수행하는 함수"
   ]
  },
  {
   "cell_type": "markdown",
   "metadata": {},
   "source": [
    "## 1. 두 개의 매개 변수 a, b를 받아서 출력하는 print_sub(a, b) 함수를 구현하여라. print_sum(10, 20)을 호출한 결과 다음과 같은 출력이 나타나도록 하여라."
   ]
  },
  {
   "cell_type": "code",
   "execution_count": 17,
   "metadata": {},
   "outputs": [
    {
     "name": "stdout",
     "output_type": "stream",
     "text": [
      "10과 20의 차이는 10 입니다.\n",
      "10과 20의 합은 30 입니다.\n"
     ]
    }
   ],
   "source": [
    "# Ans.\n",
    "\n",
    "def print_sub(a, b):\n",
    "    print(f'{a}과 {b}의 차이는 {abs(a - b)} 입니다.')\n",
    "    \n",
    "    \n",
    "print_sub(10, 20)\n",
    "\n",
    "\n",
    "def print_sum(a, b):\n",
    "    print(f'{a}과 {b}의 합은 {a + b} 입니다.')\n",
    "    \n",
    "\n",
    "print_sum(10, 20)"
   ]
  },
  {
   "cell_type": "markdown",
   "metadata": {},
   "source": [
    "## 2. 두 개의 매개 변수 a, b를 받아서 두 수의 곱을 구하여 출력하는 print_mult(a, b) 함수를 구현하여라."
   ]
  },
  {
   "cell_type": "code",
   "execution_count": 19,
   "metadata": {},
   "outputs": [
    {
     "name": "stdout",
     "output_type": "stream",
     "text": [
      "10과 20의 곱은 200 입니다.\n"
     ]
    }
   ],
   "source": [
    "# Ans.\n",
    "\n",
    "def print_mult(a, b):\n",
    "    print(f'{a}과 {b}의 곱은 {a * b} 입니다.')\n",
    "    \n",
    "\n",
    "print_mult(10, 20)"
   ]
  },
  {
   "cell_type": "markdown",
   "metadata": {},
   "source": [
    "# Lab 4.6 - 함수의 사용"
   ]
  },
  {
   "cell_type": "markdown",
   "metadata": {},
   "source": [
    "## 1. 다음 2차 방정식의 근을 [ 코드 4 - 10 ]의 함수를 사용하여 출력하여라."
   ]
  },
  {
   "cell_type": "code",
   "execution_count": 22,
   "metadata": {},
   "outputs": [
    {
     "name": "stdout",
     "output_type": "stream",
     "text": [
      "1x^2 + 4x + -21의 근은 3.0, -7.0입니다.\n",
      "1x^2 + -6x + 8의 근은 4.0, 2.0입니다.\n"
     ]
    }
   ],
   "source": [
    "# Ans.\n",
    "\n",
    "import math\n",
    "\n",
    "def find_root(a, b, c):\n",
    "    root1 = (-b + math.sqrt(b * b - 4 * a * c)) / 2 * a\n",
    "    root2 = (-b - math.sqrt(b * b - 4 * a * c)) / 2 * a\n",
    "    print(f'{a}x^2 + {b}x + {c}의 근은 {root1}, {root2}입니다.')\n",
    "    \n",
    "    \n",
    "find_root(1, 4, -21)\n",
    "find_root(1, -6, 8)"
   ]
  },
  {
   "cell_type": "markdown",
   "metadata": {},
   "source": [
    "## 2. 삼각형의 면적을 구하기 위하여 밑변과 높이를 사용하려고 한다. 두 개의 매개 변수 width, height를 받아서 삼각형의 면적을 출력하는 함수 print_area(width, height)를 구현하여라."
   ]
  },
  {
   "cell_type": "code",
   "execution_count": 24,
   "metadata": {},
   "outputs": [
    {
     "name": "stdout",
     "output_type": "stream",
     "text": [
      "밑변 10, 높이 20인 삼각형의 면적은 : 100.0\n"
     ]
    }
   ],
   "source": [
    "# Ans.\n",
    "\n",
    "def print_area(width, height):\n",
    "    print(f'밑변 {width}, 높이 {height}인 삼각형의 면적은 : {width * height / 2}')\n",
    "    \n",
    "    \n",
    "print_area(10, 20)"
   ]
  },
  {
   "cell_type": "markdown",
   "metadata": {},
   "source": [
    "# Lab 4.7 - 원의 면적과 둘레를 반환하는 함수"
   ]
  },
  {
   "cell_type": "markdown",
   "metadata": {},
   "source": [
    "## 1. 원의 면적과 둘레를 구하기 위하여 원의 반지름을 사용하려고 한다. 이 때 사용할 circle_area_circum(radius) 함수는 다음과 같이 반지름(radius) 10을 입력으로 받아서 면적과 둘레의 두 값을 반환하도록 구현하여라."
   ]
  },
  {
   "cell_type": "code",
   "execution_count": 29,
   "metadata": {},
   "outputs": [
    {
     "name": "stdout",
     "output_type": "stream",
     "text": [
      "radius = 10\n",
      "반지름 10인 원의 면적은 314.0, 원의 둘레는 62.8\n"
     ]
    }
   ],
   "source": [
    "# Ans.\n",
    "\n",
    "def circle_area_circum(radius):\n",
    "    area = radius * radius * 3.14\n",
    "    circum = radius * 2 * 3.14\n",
    "    \n",
    "    return area, circum\n",
    "\n",
    "\n",
    "radius = int(input('radius = '))\n",
    "area, circum = circle_area_circum(radius)\n",
    "print(f'반지름 {radius}인 원의 면적은 {area}, 원의 둘레는 {circum:.1f}')"
   ]
  },
  {
   "cell_type": "markdown",
   "metadata": {},
   "source": [
    "# Lab 4.8 - 다수의 결과를 반환하는 함수 만들기"
   ]
  },
  {
   "cell_type": "markdown",
   "metadata": {},
   "source": [
    "## 1. 어떤 정수 n과 m을 입력하면, n의 배수 m 개를 반환하는 multiplies(n, m) 함수를 구현하고 다음과 같이 결과를 출력하여라."
   ]
  },
  {
   "cell_type": "code",
   "execution_count": 37,
   "metadata": {},
   "outputs": [
    {
     "name": "stdout",
     "output_type": "stream",
     "text": [
      "3 6 9 12\n",
      "2 4 6 8 10\n"
     ]
    }
   ],
   "source": [
    "# Ans.\n",
    "\n",
    "def multiplies(n, m):\n",
    "    return tuple(n + i * n for i in range(m))\n",
    "    \n",
    "\n",
    "r1, r2, r3, r4 = multiplies(3, 4)\n",
    "print(r1, r2, r3, r4)\n",
    "\n",
    "r1, r2, r3, r4, r5 = multiplies(2, 5)\n",
    "print(r1, r2, r3, r4, r5)"
   ]
  },
  {
   "cell_type": "markdown",
   "metadata": {},
   "source": [
    "# Lab 4.9 - 키워드 인자"
   ]
  },
  {
   "cell_type": "markdown",
   "metadata": {},
   "source": [
    "## 1. 다음과 같이 성(last name)과 이름(first name), 존칭(honorifics)을 매개변수로 받아서 출력하는 함수 print_name 이 있다."
   ]
  },
  {
   "cell_type": "code",
   "execution_count": 38,
   "metadata": {},
   "outputs": [],
   "source": [
    "def print_name(honorifics, first_name, last_name):\n",
    "    print(honorifics, first_name, last_name)"
   ]
  },
  {
   "cell_type": "code",
   "execution_count": 40,
   "metadata": {},
   "outputs": [
    {
     "name": "stdout",
     "output_type": "stream",
     "text": [
      "Dr. Gildong Hong\n",
      "Gildong Hong Dr.\n"
     ]
    }
   ],
   "source": [
    "# Ans. (a)\n",
    "print_name(first_name ='Gildong', last_name='Hong', honorifics = 'Dr.')\n",
    "\n",
    "# Ans. (b)\n",
    "print_name('Gildong', 'Hong', 'Dr.')"
   ]
  },
  {
   "cell_type": "markdown",
   "metadata": {},
   "source": [
    "# Lab 4.10 - 가변 인자의 활용"
   ]
  },
  {
   "cell_type": "markdown",
   "metadata": {},
   "source": [
    "## 1. 가변 인자를 사용하는 print_sum() 함수를 수정하여 인자들을 튜플 형식으로 출력한 후 모든 값들의 합과 평균을 다음과 같이 출력하시오."
   ]
  },
  {
   "cell_type": "code",
   "execution_count": 45,
   "metadata": {},
   "outputs": [
    {
     "name": "stdout",
     "output_type": "stream",
     "text": [
      "3 개의 인자 (tuple(numbers))\n",
      "합계 : 60, 평균 : 20.0\n",
      "5 개의 인자 (tuple(numbers))\n",
      "합계 : 150, 평균 : 30.0\n"
     ]
    }
   ],
   "source": [
    "# Ans.\n",
    "\n",
    "def print_sum(*numbers):\n",
    "    print(f'{len(numbers)} 개의 인자 (tuple(numbers))')\n",
    "    print(f'합계 : {sum(numbers)}, 평균 : {sum(numbers) / len(numbers)}')\n",
    "    \n",
    "    \n",
    "print_sum(10, 20, 30)\n",
    "print_sum(10, 20, 30, 40, 50)"
   ]
  },
  {
   "cell_type": "markdown",
   "metadata": {},
   "source": [
    "## 2. 가변 인자를 사용하는 min_nums() 함수를 구현하시오."
   ]
  },
  {
   "cell_type": "code",
   "execution_count": 46,
   "metadata": {},
   "outputs": [
    {
     "name": "stdout",
     "output_type": "stream",
     "text": [
      "최솟값은 10\n"
     ]
    }
   ],
   "source": [
    "# Ans.\n",
    "\n",
    "def min_nums(*numbers):\n",
    "    print(f'최솟값은 {min(numbers)}')\n",
    "    \n",
    "\n",
    "min_nums(20, 40, 50, 10)"
   ]
  },
  {
   "cell_type": "markdown",
   "metadata": {},
   "source": [
    "# Lab 4.11 - format() 메소드의 활용"
   ]
  },
  {
   "cell_type": "markdown",
   "metadata": {},
   "source": [
    "## 1. 위의 코드를 수정하여 이름, 나이, 직업, 사는 곳 까지 다음과 같이 화면에 출력하고자 한다."
   ]
  },
  {
   "cell_type": "code",
   "execution_count": 47,
   "metadata": {},
   "outputs": [
    {
     "name": "stdout",
     "output_type": "stream",
     "text": [
      "당신의 이름을 입력해주세요 : 김철수\n",
      "나이를 입력해주세요 : 21\n",
      "직업을 입력해주세요 : 학생\n",
      "사는 곳을 입력해주세요 : 창원시\n",
      "당신의 이름은 김철수, 나이는 21살, 직업은 학생, 사는 곳은 창원시 입니다.\n"
     ]
    }
   ],
   "source": [
    "# Ans.\n",
    "def introduce():\n",
    "    name = input('당신의 이름을 입력해주세요 : ')\n",
    "    age = input('나이를 입력해주세요 : ')\n",
    "    job = input('직업을 입력해주세요 : ')\n",
    "    habitat = input('사는 곳을 입력해주세요 : ')\n",
    "    \n",
    "    print(f'당신의 이름은 {name}, 나이는 {age}살, 직업은 {job}, 사는 곳은 {habitat} 입니다.')\n",
    "    \n",
    "    \n",
    "introduce()"
   ]
  },
  {
   "cell_type": "markdown",
   "metadata": {},
   "source": [
    "## 2. format() 메소드를 사용하지 말고 출력하라."
   ]
  },
  {
   "cell_type": "code",
   "execution_count": 48,
   "metadata": {},
   "outputs": [
    {
     "name": "stdout",
     "output_type": "stream",
     "text": [
      "당신의 이름을 입력해주세요 : 김철수\n",
      "나이를 입력해주세요 : 21\n",
      "직업을 입력해주세요 : 학생\n",
      "사는 곳을 입력해주세요 : 창원시\n",
      "당신의 이름은 김철수 나이는 21 살, 직업은 학생 , 사는 곳은 창원시 입니다.\n"
     ]
    }
   ],
   "source": [
    "# Ans.\n",
    "def introduce():\n",
    "    name = input('당신의 이름을 입력해주세요 : ')\n",
    "    age = input('나이를 입력해주세요 : ')\n",
    "    job = input('직업을 입력해주세요 : ')\n",
    "    habitat = input('사는 곳을 입력해주세요 : ')\n",
    "    \n",
    "    print('당신의 이름은',  name, '나이는', age, '살, 직업은', job, ', 사는 곳은', habitat, '입니다.')\n",
    "    \n",
    "    \n",
    "introduce()"
   ]
  },
  {
   "cell_type": "markdown",
   "metadata": {},
   "source": [
    "# Lab 4.12 - 문자열의 여러 메소드 활용"
   ]
  },
  {
   "cell_type": "markdown",
   "metadata": {},
   "source": [
    "## 1. join() 메소드를 사용하여 'ABCD' 문자열을 'A_B_C_D'와 같이 출력하라."
   ]
  },
  {
   "cell_type": "code",
   "execution_count": 49,
   "metadata": {},
   "outputs": [
    {
     "name": "stdout",
     "output_type": "stream",
     "text": [
      "A_B_C_D\n"
     ]
    }
   ],
   "source": [
    "# Ans.\n",
    "\n",
    "string = 'ABCD'\n",
    "\n",
    "print('_'.join(string))"
   ]
  },
  {
   "cell_type": "markdown",
   "metadata": {},
   "source": [
    "## 2. 'My favorite thing is monsters.' 라는 문자열 s에 replace() 메소드를 적용하여 'My Favorite thing is cartoons.'로 수정된 t 문자열을 얻도록 하여라."
   ]
  },
  {
   "cell_type": "code",
   "execution_count": 51,
   "metadata": {},
   "outputs": [
    {
     "name": "stdout",
     "output_type": "stream",
     "text": [
      "수정 전 문자열 s : My favorite thing is monsters.\n",
      "수정 후 문자열 t : My favorite thing is cartoons.\n"
     ]
    }
   ],
   "source": [
    "# Ans.\n",
    "\n",
    "s = 'My favorite thing is monsters.'\n",
    "print(f'수정 전 문자열 s : {s}')\n",
    "t = s.replace('monsters', 'cartoons')\n",
    "print(f'수정 후 문자열 t : {t}')"
   ]
  }
 ],
 "metadata": {
  "kernelspec": {
   "display_name": "Python 3",
   "language": "python",
   "name": "python3"
  },
  "language_info": {
   "codemirror_mode": {
    "name": "ipython",
    "version": 3
   },
   "file_extension": ".py",
   "mimetype": "text/x-python",
   "name": "python",
   "nbconvert_exporter": "python",
   "pygments_lexer": "ipython3",
   "version": "3.8.5"
  }
 },
 "nbformat": 4,
 "nbformat_minor": 4
}
