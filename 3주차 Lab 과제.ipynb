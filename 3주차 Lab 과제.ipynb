{
 "cells": [
  {
   "cell_type": "markdown",
   "metadata": {},
   "source": [
    "# Lab 3.1 : if 문의 사용법"
   ]
  },
  {
   "cell_type": "markdown",
   "metadata": {},
   "source": [
    "## 1."
   ]
  },
  {
   "cell_type": "code",
   "execution_count": 37,
   "metadata": {},
   "outputs": [
    {
     "name": "stdout",
     "output_type": "stream",
     "text": [
      "800\n",
      "game_score 800\n"
     ]
    }
   ],
   "source": [
    "game_score = int(input())\n",
    "\n",
    "print('game_score', game_score)\n",
    "if game_score >= 1000:\n",
    "    print('당신은 고수입니다')"
   ]
  },
  {
   "cell_type": "code",
   "execution_count": 38,
   "metadata": {},
   "outputs": [
    {
     "name": "stdout",
     "output_type": "stream",
     "text": [
      "1300\n",
      "game_score 1300\n",
      "당신은 고수입니다\n"
     ]
    }
   ],
   "source": [
    "game_score = int(input())\n",
    "\n",
    "print('game_score', game_score)\n",
    "if game_score >= 1000:\n",
    "    print('당신은 고수입니다')"
   ]
  },
  {
   "cell_type": "markdown",
   "metadata": {},
   "source": [
    "## 2."
   ]
  },
  {
   "cell_type": "code",
   "execution_count": 41,
   "metadata": {},
   "outputs": [
    {
     "name": "stdout",
     "output_type": "stream",
     "text": [
      "num_a = 100, num_b = 200\n"
     ]
    }
   ],
   "source": [
    "num_a, num_b = 100, 200\n",
    "print(f'num_a = {num_a}, num_b = {num_b}')\n",
    "\n",
    "if num_a == num_b:\n",
    "    print('두 값이 일치합니다')"
   ]
  },
  {
   "cell_type": "code",
   "execution_count": 42,
   "metadata": {},
   "outputs": [
    {
     "name": "stdout",
     "output_type": "stream",
     "text": [
      "num_a = 300, num_b = 300\n",
      "두 값이 일치합니다\n"
     ]
    }
   ],
   "source": [
    "num_a, num_b = 300, 300\n",
    "print(f'num_a = {num_a}, num_b = {num_b}')\n",
    "\n",
    "if num_a == num_b:\n",
    "    print('두 값이 일치합니다')"
   ]
  },
  {
   "cell_type": "markdown",
   "metadata": {},
   "source": [
    "# Lab 3.2 : 변수와 if 조건식 사용하기"
   ]
  },
  {
   "cell_type": "markdown",
   "metadata": {},
   "source": [
    "## 1. "
   ]
  },
  {
   "cell_type": "code",
   "execution_count": 44,
   "metadata": {},
   "outputs": [
    {
     "name": "stdout",
     "output_type": "stream",
     "text": [
      "정수를 입력하세요 : 50\n",
      "n = 50\n",
      "50은(는) 짝수입니다.\n"
     ]
    }
   ],
   "source": [
    "n = int(input('정수를 입력하세요 : '))\n",
    "\n",
    "print(f'n = {n}')\n",
    "if n % 2 == 0:\n",
    "    print(f'{n}은(는) 짝수입니다.')"
   ]
  },
  {
   "cell_type": "code",
   "execution_count": 45,
   "metadata": {},
   "outputs": [
    {
     "name": "stdout",
     "output_type": "stream",
     "text": [
      "정수를 입력하세요 : 75\n",
      "n = 75\n"
     ]
    }
   ],
   "source": [
    "n = int(input('정수를 입력하세요 : '))\n",
    "\n",
    "print(f'n = {n}')\n",
    "if n % 2 == 0:\n",
    "    print(f'{n}은(는) 짝수입니다.')"
   ]
  },
  {
   "cell_type": "markdown",
   "metadata": {},
   "source": [
    "## 2."
   ]
  },
  {
   "cell_type": "code",
   "execution_count": 46,
   "metadata": {},
   "outputs": [
    {
     "name": "stdout",
     "output_type": "stream",
     "text": [
      "정수를 입력하세요 : 50\n",
      "x = 50\n",
      "50은(는) 자연수입니다.\n"
     ]
    }
   ],
   "source": [
    "x = int(input('정수를 입력하세요 : '))\n",
    "\n",
    "print(f'x = {x}')\n",
    "if x > 0:\n",
    "    print(f'{x}은(는) 자연수입니다.')"
   ]
  },
  {
   "cell_type": "code",
   "execution_count": 47,
   "metadata": {},
   "outputs": [
    {
     "name": "stdout",
     "output_type": "stream",
     "text": [
      "정수를 입력하세요 : -10\n",
      "x = -10\n"
     ]
    }
   ],
   "source": [
    "x = int(input('정수를 입력하세요 : '))\n",
    "\n",
    "print(f'x = {x}')\n",
    "if x > 0:\n",
    "    print(f'{x}은(는) 자연수입니다.')"
   ]
  },
  {
   "cell_type": "markdown",
   "metadata": {},
   "source": [
    "# Lab 3.3 : if 조건문의 응용"
   ]
  },
  {
   "cell_type": "markdown",
   "metadata": {},
   "source": [
    "## 1. "
   ]
  },
  {
   "cell_type": "code",
   "execution_count": 49,
   "metadata": {},
   "outputs": [
    {
     "name": "stdout",
     "output_type": "stream",
     "text": [
      "게임점수를 입력하시오 : 800\n",
      "game_score = 800\n",
      "입문자입니다.\n"
     ]
    }
   ],
   "source": [
    "game_score = int(input('게임점수를 입력하시오 : '))\n",
    "print(f'game_score = {game_score}')\n",
    "\n",
    "if game_score >= 1000:\n",
    "    print('고수입니다')\n",
    "else:\n",
    "    print('입문자입니다.')"
   ]
  },
  {
   "cell_type": "code",
   "execution_count": 50,
   "metadata": {},
   "outputs": [
    {
     "name": "stdout",
     "output_type": "stream",
     "text": [
      "게임점수를 입력하시오 : 1300\n",
      "game_score = 1300\n",
      "고수입니다\n"
     ]
    }
   ],
   "source": [
    "game_score = int(input('게임점수를 입력하시오 : '))\n",
    "print(f'game_score = {game_score}')\n",
    "\n",
    "if game_score >= 1000:\n",
    "    print('고수입니다')\n",
    "else:\n",
    "    print('입문자입니다.')"
   ]
  },
  {
   "cell_type": "markdown",
   "metadata": {},
   "source": [
    "## 2."
   ]
  },
  {
   "cell_type": "code",
   "execution_count": 51,
   "metadata": {},
   "outputs": [
    {
     "name": "stdout",
     "output_type": "stream",
     "text": [
      "한 정수를 입력하시오 : 100\n",
      "다른 정수를 입력하시오 : 200\n",
      "두 값이 일치하지 않습니다.\n"
     ]
    }
   ],
   "source": [
    "a = int(input('한 정수를 입력하시오 : '))\n",
    "b = int(input('다른 정수를 입력하시오 : '))\n",
    "\n",
    "if a == b:\n",
    "    print('두 값이 일치합니다.')\n",
    "else:\n",
    "    print('두 값이 일치하지 않습니다.')"
   ]
  },
  {
   "cell_type": "code",
   "execution_count": 52,
   "metadata": {},
   "outputs": [
    {
     "name": "stdout",
     "output_type": "stream",
     "text": [
      "한 정수를 입력하시오 : 300\n",
      "다른 정수를 입력하시오 : 300\n",
      "두 값이 일치합니다.\n"
     ]
    }
   ],
   "source": [
    "a = int(input('한 정수를 입력하시오 : '))\n",
    "b = int(input('다른 정수를 입력하시오 : '))\n",
    "\n",
    "if a == b:\n",
    "    print('두 값이 일치합니다.')\n",
    "else:\n",
    "    print('두 값이 일치하지 않습니다.')"
   ]
  },
  {
   "cell_type": "markdown",
   "metadata": {},
   "source": [
    "## 3. 1)"
   ]
  },
  {
   "cell_type": "code",
   "execution_count": 53,
   "metadata": {},
   "outputs": [
    {
     "name": "stdout",
     "output_type": "stream",
     "text": [
      "당신은 성인인가요(성인이면 1, 미성년이면 0) : 0\n",
      "당신은 미성년자입니다.\n"
     ]
    }
   ],
   "source": [
    "age = int(input('당신은 성인인가요(성인이면 1, 미성년이면 0) : '))\n",
    "if age == 0:\n",
    "    print('당신은 미성년자입니다.')"
   ]
  },
  {
   "cell_type": "markdown",
   "metadata": {},
   "source": [
    "## 3. 2)"
   ]
  },
  {
   "cell_type": "code",
   "execution_count": 55,
   "metadata": {},
   "outputs": [
    {
     "name": "stdout",
     "output_type": "stream",
     "text": [
      "당신은 성인인가요(성인이면 1, 미성년이면 0) : 1\n",
      "결혼을 하셨나요(기혼이면 1, 미혼이면 0) : 1\n",
      "당신은 결혼한 성인입니다.\n"
     ]
    }
   ],
   "source": [
    "age = int(input('당신은 성인인가요(성인이면 1, 미성년이면 0) : '))\n",
    "if age == 1:\n",
    "    marry = int(input('결혼을 하셨나요(기혼이면 1, 미혼이면 0) : '))\n",
    "    \n",
    "    if marry:\n",
    "        print('당신은 결혼한 성인입니다.')\n",
    "    else:\n",
    "        print('당신은 결혼하지 않은 성인입니다.')"
   ]
  },
  {
   "cell_type": "code",
   "execution_count": 56,
   "metadata": {},
   "outputs": [
    {
     "name": "stdout",
     "output_type": "stream",
     "text": [
      "당신은 성인인가요(성인이면 1, 미성년이면 0) : 1\n",
      "결혼을 하셨나요(기혼이면 1, 미혼이면 0) : 0\n",
      "당신은 결혼하지 않은 성인입니다.\n"
     ]
    }
   ],
   "source": [
    "age = int(input('당신은 성인인가요(성인이면 1, 미성년이면 0) : '))\n",
    "if age == 1:\n",
    "    marry = int(input('결혼을 하셨나요(기혼이면 1, 미혼이면 0) : '))\n",
    "    \n",
    "    if marry:\n",
    "        print('당신은 결혼한 성인입니다.')\n",
    "    else:\n",
    "        print('당신은 결혼하지 않은 성인입니다.')"
   ]
  },
  {
   "cell_type": "markdown",
   "metadata": {},
   "source": [
    "# Lab 3.4 : 복합 조건식의 이해"
   ]
  },
  {
   "cell_type": "markdown",
   "metadata": {},
   "source": [
    "## 1."
   ]
  },
  {
   "cell_type": "code",
   "execution_count": 62,
   "metadata": {},
   "outputs": [
    {
     "name": "stdout",
     "output_type": "stream",
     "text": [
      "True\n"
     ]
    }
   ],
   "source": [
    "num = 2\n",
    "if 1 <= num  and num <= 10:\n",
    "    print(True)"
   ]
  },
  {
   "cell_type": "markdown",
   "metadata": {},
   "source": [
    "## 2."
   ]
  },
  {
   "cell_type": "code",
   "execution_count": 61,
   "metadata": {},
   "outputs": [],
   "source": [
    "age = 10\n",
    "\n",
    "if 10 < age  and age < 19:\n",
    "    print('청소년입니다.')"
   ]
  },
  {
   "cell_type": "code",
   "execution_count": 60,
   "metadata": {},
   "outputs": [
    {
     "name": "stdout",
     "output_type": "stream",
     "text": [
      "청소년입니다.\n"
     ]
    }
   ],
   "source": [
    "age = 12\n",
    "\n",
    "if 10 < age  and age < 19:\n",
    "    print('청소년입니다.')"
   ]
  },
  {
   "cell_type": "markdown",
   "metadata": {},
   "source": [
    "# Lab 3.5 : if-elif-else 문을 사용한 다중 조건식"
   ]
  },
  {
   "cell_type": "markdown",
   "metadata": {},
   "source": [
    "## 1."
   ]
  },
  {
   "cell_type": "code",
   "execution_count": 63,
   "metadata": {},
   "outputs": [
    {
     "name": "stdout",
     "output_type": "stream",
     "text": [
      "자동차의 속도를 입력하세요(단위 : km/h) : 13\n",
      "저속\n"
     ]
    }
   ],
   "source": [
    "speed = int(input('자동차의 속도를 입력하세요(단위 : km/h) : '))\n",
    "\n",
    "if speed >= 100:\n",
    "    print('고속')\n",
    "elif 60 <= speed and speed < 100:\n",
    "    print('중속')\n",
    "else:\n",
    "    print('저속')"
   ]
  },
  {
   "cell_type": "code",
   "execution_count": 64,
   "metadata": {},
   "outputs": [
    {
     "name": "stdout",
     "output_type": "stream",
     "text": [
      "자동차의 속도를 입력하세요(단위 : km/h) : 130\n",
      "고속\n"
     ]
    }
   ],
   "source": [
    "speed = int(input('자동차의 속도를 입력하세요(단위 : km/h) : '))\n",
    "\n",
    "if speed >= 100:\n",
    "    print('고속')\n",
    "elif 60 <= speed and speed < 100:\n",
    "    print('중속')\n",
    "else:\n",
    "    print('저속')"
   ]
  },
  {
   "cell_type": "markdown",
   "metadata": {},
   "source": [
    "# Lab 3.6 : 반복문을 이용해서 다음 코드를 작성해보자"
   ]
  },
  {
   "cell_type": "markdown",
   "metadata": {},
   "source": [
    "## 1."
   ]
  },
  {
   "cell_type": "code",
   "execution_count": 66,
   "metadata": {},
   "outputs": [
    {
     "name": "stdout",
     "output_type": "stream",
     "text": [
      "Hello, Python!\n",
      "Hello, Python!\n",
      "Hello, Python!\n",
      "Hello, Python!\n",
      "Hello, Python!\n"
     ]
    }
   ],
   "source": [
    "for _ in range(5):\n",
    "    print('Hello, Python!')"
   ]
  },
  {
   "cell_type": "markdown",
   "metadata": {},
   "source": [
    "## 2."
   ]
  },
  {
   "cell_type": "code",
   "execution_count": 67,
   "metadata": {},
   "outputs": [
    {
     "name": "stdout",
     "output_type": "stream",
     "text": [
      "0\n",
      "1\n",
      "2\n",
      "3\n",
      "4\n"
     ]
    }
   ],
   "source": [
    "for i in range(5):\n",
    "    print(i)"
   ]
  },
  {
   "cell_type": "markdown",
   "metadata": {},
   "source": [
    "# Lab 3.7 : range() 함수의 응용"
   ]
  },
  {
   "cell_type": "markdown",
   "metadata": {},
   "source": [
    "## 1."
   ]
  },
  {
   "cell_type": "code",
   "execution_count": 71,
   "metadata": {},
   "outputs": [
    {
     "name": "stdout",
     "output_type": "stream",
     "text": [
      "[1, 2, 3, 4, 5, 6, 7, 8, 9, 10, 11, 12, 13, 14, 15, 16, 17, 18, 19, 20, 21, 22, 23, 24, 25, 26, 27, 28, 29, 30, 31, 32, 33, 34, 35, 36, 37, 38, 39, 40, 41, 42, 43, 44, 45, 46, 47, 48, 49, 50, 51, 52, 53, 54, 55, 56, 57, 58, 59, 60, 61, 62, 63, 64, 65, 66, 67, 68, 69, 70, 71, 72, 73, 74, 75, 76, 77, 78, 79, 80, 81, 82, 83, 84, 85, 86, 87, 88, 89, 90, 91, 92, 93, 94, 95, 96, 97, 98, 99, 100]\n"
     ]
    }
   ],
   "source": [
    "a = list()\n",
    "\n",
    "for i in range(1, 101):\n",
    "    a.append(i)\n",
    "    \n",
    "print(a)"
   ]
  },
  {
   "cell_type": "markdown",
   "metadata": {},
   "source": [
    "## 2."
   ]
  },
  {
   "cell_type": "code",
   "execution_count": 72,
   "metadata": {},
   "outputs": [
    {
     "name": "stdout",
     "output_type": "stream",
     "text": [
      "[2, 4, 6, 8, 10, 12, 14, 16, 18, 20, 22, 24, 26, 28, 30, 32, 34, 36, 38, 40, 42, 44, 46, 48, 50, 52, 54, 56, 58, 60, 62, 64, 66, 68, 70, 72, 74, 76, 78, 80, 82, 84, 86, 88, 90, 92, 94, 96, 98, 100]\n"
     ]
    }
   ],
   "source": [
    "a = list()\n",
    "\n",
    "for i in range(1, 101):\n",
    "    if i % 2 == 0:\n",
    "        a.append(i)\n",
    "    \n",
    "print(a)"
   ]
  },
  {
   "cell_type": "markdown",
   "metadata": {},
   "source": [
    "## 3."
   ]
  },
  {
   "cell_type": "code",
   "execution_count": 74,
   "metadata": {},
   "outputs": [
    {
     "name": "stdout",
     "output_type": "stream",
     "text": [
      "[1, 3, 5, 7, 9, 11, 13, 15, 17, 19, 21, 23, 25, 27, 29, 31, 33, 35, 37, 39, 41, 43, 45, 47, 49, 51, 53, 55, 57, 59, 61, 63, 65, 67, 69, 71, 73, 75, 77, 79, 81, 83, 85, 87, 89, 91, 93, 95, 97, 99]\n"
     ]
    }
   ],
   "source": [
    "a = list()\n",
    "\n",
    "for i in range(1, 101):\n",
    "    if i % 2:\n",
    "        a.append(i)\n",
    "    \n",
    "print(a)"
   ]
  },
  {
   "cell_type": "markdown",
   "metadata": {},
   "source": [
    "## 4."
   ]
  },
  {
   "cell_type": "code",
   "execution_count": 77,
   "metadata": {},
   "outputs": [
    {
     "name": "stdout",
     "output_type": "stream",
     "text": [
      "[-1, -2, -3, -4, -5, -6, -7, -8, -9, -10, -11, -12, -13, -14, -15, -16, -17, -18, -19, -20, -21, -22, -23, -24, -25, -26, -27, -28, -29, -30, -31, -32, -33, -34, -35, -36, -37, -38, -39, -40, -41, -42, -43, -44, -45, -46, -47, -48, -49, -50, -51, -52, -53, -54, -55, -56, -57, -58, -59, -60, -61, -62, -63, -64, -65, -66, -67, -68, -69, -70, -71, -72, -73, -74, -75, -76, -77, -78, -79, -80, -81, -82, -83, -84, -85, -86, -87, -88, -89, -90, -91, -92, -93, -94, -95, -96, -97, -98, -99]\n"
     ]
    }
   ],
   "source": [
    "a = list()\n",
    "\n",
    "for i in range(-1, -100, -1):\n",
    "    a.append(i)\n",
    "    \n",
    "print(a)"
   ]
  },
  {
   "cell_type": "markdown",
   "metadata": {},
   "source": [
    "# Lab 3.8 : 누적 덧셈의 응용"
   ]
  },
  {
   "cell_type": "markdown",
   "metadata": {},
   "source": [
    "## 1."
   ]
  },
  {
   "cell_type": "code",
   "execution_count": 79,
   "metadata": {},
   "outputs": [
    {
     "name": "stdout",
     "output_type": "stream",
     "text": [
      "5050\n"
     ]
    }
   ],
   "source": [
    "integer_sum = 0\n",
    "for i in range(101):\n",
    "    integer_sum += i\n",
    "    \n",
    "print(integer_sum)"
   ]
  },
  {
   "cell_type": "markdown",
   "metadata": {},
   "source": [
    "## 2."
   ]
  },
  {
   "cell_type": "code",
   "execution_count": 83,
   "metadata": {},
   "outputs": [
    {
     "name": "stdout",
     "output_type": "stream",
     "text": [
      "2550\n"
     ]
    }
   ],
   "source": [
    "integer_sum = 0\n",
    "for i in range(0, 101, 2):\n",
    "    integer_sum += i\n",
    "    \n",
    "print(integer_sum)"
   ]
  },
  {
   "cell_type": "markdown",
   "metadata": {},
   "source": [
    "## 3."
   ]
  },
  {
   "cell_type": "code",
   "execution_count": 84,
   "metadata": {},
   "outputs": [
    {
     "name": "stdout",
     "output_type": "stream",
     "text": [
      "2500\n"
     ]
    }
   ],
   "source": [
    "integer_sum = 0\n",
    "for i in range(1, 100, 2):\n",
    "    integer_sum += i\n",
    "    \n",
    "print(integer_sum)"
   ]
  },
  {
   "cell_type": "markdown",
   "metadata": {},
   "source": [
    "# Lab 3.9 : 패턴 출력 응용"
   ]
  },
  {
   "cell_type": "code",
   "execution_count": 89,
   "metadata": {},
   "outputs": [
    {
     "name": "stdout",
     "output_type": "stream",
     "text": [
      "      #\n",
      "     #\n",
      "    #\n",
      "   #\n",
      "  #\n",
      " #\n",
      "#\n"
     ]
    }
   ],
   "source": [
    "for i in range(7, 0, -1):\n",
    "    for j in range(1, 8):\n",
    "        if i == j:\n",
    "            break\n",
    "        print(' ', end = '')\n",
    "        \n",
    "    print('#')\n",
    "        "
   ]
  }
 ],
 "metadata": {
  "kernelspec": {
   "display_name": "Python 3",
   "language": "python",
   "name": "python3"
  },
  "language_info": {
   "codemirror_mode": {
    "name": "ipython",
    "version": 3
   },
   "file_extension": ".py",
   "mimetype": "text/x-python",
   "name": "python",
   "nbconvert_exporter": "python",
   "pygments_lexer": "ipython3",
   "version": "3.8.5"
  }
 },
 "nbformat": 4,
 "nbformat_minor": 4
}
