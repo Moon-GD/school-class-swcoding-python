{
 "cells": [
  {
   "cell_type": "markdown",
   "metadata": {},
   "source": [
    "# Lab 1. "
   ]
  },
  {
   "cell_type": "code",
   "execution_count": 11,
   "metadata": {},
   "outputs": [
    {
     "name": "stdout",
     "output_type": "stream",
     "text": [
      "[0 1 2 3 4 5 6 7 8 9]\n",
      "[0 1 2 3 4 5 6 7 8 9]\n",
      "[0 2 4 6 8]\n",
      "c.shape = (5,)\n",
      "c.ndim = 1\n",
      "c.dtype = int32\n",
      "c.size = 5\n",
      "c.itemsize = 4\n"
     ]
    }
   ],
   "source": [
    "# 1.\n",
    "b = [0 ,1, 2, 3, 4, 5, 6, 7, 8, 9]\n",
    "a = np.array(b)\n",
    "print(a)\n",
    "\n",
    "# 2. \n",
    "b = [i for i in range(10)]\n",
    "a = np.array(b)\n",
    "print(a)\n",
    "\n",
    "# 3.\n",
    "b = [i for i in range(10) if i % 2 == 0]\n",
    "c = np.array(b)\n",
    "print(c)\n",
    "\n",
    "# 4.\n",
    "print(f'c.shape = {c.shape}')\n",
    "print(f'c.ndim = {c.ndim}')\n",
    "print(f'c.dtype = {c.dtype}')\n",
    "print(f'c.size = {c.size}')\n",
    "print(f'c.itemsize = {c.itemsize}')"
   ]
  },
  {
   "cell_type": "markdown",
   "metadata": {},
   "source": [
    "# Lab 2."
   ]
  },
  {
   "cell_type": "code",
   "execution_count": 28,
   "metadata": {},
   "outputs": [
    {
     "name": "stdout",
     "output_type": "stream",
     "text": [
      "a = np.array([23 45 67  7  2 30 34 82])\n",
      "최댓값 : 82\n",
      "최솟값 : 2\n",
      "평균 : 36.25\n",
      "b = [ 6 19 24 31 44 94 30 52 40 58]\n",
      "최댓값 : 94\n",
      "최솟값 : 6\n",
      "평균 : 39.8\n",
      "c = [23. 45. 67.  7.  2. 30. 34. 82.  6. 19. 24. 31. 44. 94. 30. 52. 40. 58.]\n"
     ]
    }
   ],
   "source": [
    "# 1. \n",
    "a = np.array([23, 45, 67, 7, 2, 30, 34, 82])\n",
    "print(f'a = np.array({a})')\n",
    "print(f'최댓값 : {a.max()}')\n",
    "print(f'최솟값 : {a.min()}')\n",
    "print(f'평균 : {a.mean()}')\n",
    "\n",
    "# 2.\n",
    "b = np.random.randint(0, 99, 10)\n",
    "print(f'b = {b}')\n",
    "print(f'최댓값 : {b.max()}')\n",
    "print(f'최솟값 : {b.min()}')\n",
    "print(f'평균 : {b.mean()}')\n",
    "\n",
    "# 3.\n",
    "c = np.array([])\n",
    "c = np.append(c, a)\n",
    "c = np.append(c, b)\n",
    "print(f'c = {c}')"
   ]
  },
  {
   "cell_type": "markdown",
   "metadata": {},
   "source": [
    "# Lab 3. "
   ]
  },
  {
   "cell_type": "code",
   "execution_count": 36,
   "metadata": {},
   "outputs": [
    {
     "name": "stdout",
     "output_type": "stream",
     "text": [
      "[[1 2 3]\n",
      " [4 5 6]\n",
      " [7 8 9]]\n",
      "[[2 2 2]\n",
      " [2 2 2]\n",
      " [2 2 2]]\n",
      "[[ 3  4  5]\n",
      " [ 6  7  8]\n",
      " [ 9 10 11]]\n",
      "[[-1  0  1]\n",
      " [ 2  3  4]\n",
      " [ 5  6  7]]\n",
      "[[ 2  4  6]\n",
      " [ 8 10 12]\n",
      " [14 16 18]]\n",
      "[[0.5 1.  1.5]\n",
      " [2.  2.5 3. ]\n",
      " [3.5 4.  4.5]]\n",
      "[[12 12 12]\n",
      " [30 30 30]\n",
      " [48 48 48]]\n",
      "[[ 1  4  9]\n",
      " [16 25 36]\n",
      " [49 64 81]]\n"
     ]
    }
   ],
   "source": [
    "# 1.\n",
    "a = np.arange(1, 10).reshape(3, 3)\n",
    "b = np.full((3, 3), 2)\n",
    "\n",
    "print(a)\n",
    "print(b)\n",
    "\n",
    "# 2.\n",
    "print(a + b)\n",
    "print(a - b)\n",
    "print(a * b)\n",
    "print(a / b)\n",
    "print(a @ b)\n",
    "print(a ** 2)"
   ]
  },
  {
   "cell_type": "markdown",
   "metadata": {},
   "source": [
    "# Lab 4."
   ]
  },
  {
   "cell_type": "code",
   "execution_count": 40,
   "metadata": {},
   "outputs": [
    {
     "name": "stdout",
     "output_type": "stream",
     "text": [
      "[[2 2 2]\n",
      " [2 2 2]\n",
      " [2 2 2]]\n",
      "[ 1  2  3  4  5  6  7  8  9 10 11 12]\n",
      "[ 0  3  6  9 12 15 18 21 24 27 30 33 36 39 42 45 48]\n",
      "[ 0.  5. 10. 15. 20.]\n"
     ]
    }
   ],
   "source": [
    "# 1.\n",
    "a1 = np.full((3, 3), 2)\n",
    "print(a1)\n",
    "\n",
    "# 2.\n",
    "a2 = np.arange(1, 13)\n",
    "print(a2)\n",
    "\n",
    "# 3.\n",
    "a3 = np.arange(0, 50, 3)\n",
    "print(a3)\n",
    "\n",
    "# 4.\n",
    "a4 = np.linspace(0, 20, 5)\n",
    "print(a4)"
   ]
  },
  {
   "cell_type": "markdown",
   "metadata": {},
   "source": [
    "# Lab 5."
   ]
  },
  {
   "cell_type": "code",
   "execution_count": 45,
   "metadata": {},
   "outputs": [
    {
     "name": "stdout",
     "output_type": "stream",
     "text": [
      "a1 = [[ 1  2  3  4  5  6]\n",
      " [ 7  8  9 10 11 12]]\n",
      "a2 = [[ 1  2  3  4  5  6  7  8  9 10]\n",
      " [11 12 13 14 15 16 17 18 19 20]\n",
      " [21 22 23 24 25 26 27 28 29 30]]\n",
      "a3 = [[ 1  2  3  4  5]\n",
      " [ 6  7  8  9 10]\n",
      " [11 12 13 14 15]\n",
      " [16 17 18 19 20]\n",
      " [21 22 23 24 25]\n",
      " [26 27 28 29 30]]\n",
      "a4 = [[ 1  6 11 16 21 26]\n",
      " [ 2  7 12 17 22 27]\n",
      " [ 3  8 13 18 23 28]\n",
      " [ 4  9 14 19 24 29]\n",
      " [ 5 10 15 20 25 30]]\n"
     ]
    }
   ],
   "source": [
    "# 1.\n",
    "a1 = np.arange(1, 13).reshape(2, 6)\n",
    "print(f'a1 = {a1}')\n",
    "\n",
    "# 2.\n",
    "a2 = np.arange(1, 31).reshape(3, 10)\n",
    "print(f'a2 = {a2}')\n",
    "\n",
    "# 3.\n",
    "a3 =a2.reshape(6, 5)\n",
    "print(f'a3 = {a3}')\n",
    "\n",
    "# 4.\n",
    "a4 = np.transpose(a3)\n",
    "print(f'a4 = {a4}')"
   ]
  },
  {
   "cell_type": "markdown",
   "metadata": {},
   "source": [
    "# Lab 6."
   ]
  },
  {
   "cell_type": "code",
   "execution_count": 49,
   "metadata": {},
   "outputs": [
    {
     "name": "stdout",
     "output_type": "stream",
     "text": [
      "a = [[69 73 99  1 88]\n",
      " [42 13 94 43 89]\n",
      " [96 46 80 13 34]]\n",
      "a의 열방향 최댓값 : [96 73 99 43 89]\n",
      "a의 열방향 최솟값 : [42 13 80  1 34]\n",
      "a의 열방향 평균 : [69.         44.         91.         19.         70.33333333]\n",
      "a의 행방향 최댓값 : [99 94 96]\n",
      "a의 행방향 최솟값 : [ 1 13 13]\n",
      "a의 행방향 평균 : [66.  56.2 53.8]\n"
     ]
    }
   ],
   "source": [
    "# 1.\n",
    "a = np.random.randint(1, 100, 15).reshape(3, 5)\n",
    "print(f'a = {a}')\n",
    "\n",
    "# 2.\n",
    "print(f'a의 열방향 최댓값 : {a.max(axis = 0)}')\n",
    "print(f'a의 열방향 최솟값 : {a.min(axis = 0)}')\n",
    "print(f'a의 열방향 평균 : {a.mean(axis = 0)}')\n",
    "\n",
    "# 3.\n",
    "print(f'a의 행방향 최댓값 : {a.max(axis = 1)}')\n",
    "print(f'a의 행방향 최솟값 : {a.min(axis = 1)}')\n",
    "print(f'a의 행방향 평균 : {a.mean(axis = 1)}')"
   ]
  },
  {
   "cell_type": "markdown",
   "metadata": {},
   "source": [
    "# Lab 7."
   ]
  },
  {
   "cell_type": "code",
   "execution_count": 57,
   "metadata": {},
   "outputs": [
    {
     "name": "stdout",
     "output_type": "stream",
     "text": [
      "a = [ 1  2  3  4  5  6  7  8  9 10]\n",
      "b = [2 4 6 8]\n",
      "b = [ 6  7  8  9 10]\n",
      "c = [ 7  8  9 10]\n",
      "d = [1 2 3]\n",
      "e = [1 3 5 7 9]\n",
      "f = [10  8  6  4  2]\n"
     ]
    }
   ],
   "source": [
    "# 1.\n",
    "a = np.arange(1, 11)\n",
    "b = a[1:9:2]\n",
    "print(f'a = {a}')\n",
    "print(f'b = {b}')\n",
    "\n",
    "# 2.\n",
    "b = a[5:]\n",
    "print(f'b = {b}')\n",
    "\n",
    "c = a[6:]\n",
    "print(f'c = {c}')\n",
    "\n",
    "d = a[:3]\n",
    "print(f'd = {d}')\n",
    "\n",
    "e = a[::2]\n",
    "print(f'e = {e}')\n",
    "\n",
    "f = a[1::2][::-1]\n",
    "print(f'f = {f}')"
   ]
  },
  {
   "cell_type": "markdown",
   "metadata": {},
   "source": [
    "# Lab 8."
   ]
  },
  {
   "cell_type": "code",
   "execution_count": 72,
   "metadata": {},
   "outputs": [
    {
     "name": "stdout",
     "output_type": "stream",
     "text": [
      "index    element\n",
      "(0, 0, 0)  0\n",
      "(0, 0, 1)  1\n",
      "(0, 1, 0)  2\n",
      "(0, 1, 1)  3\n",
      "(0, 2, 0)  4\n",
      "(0, 2, 1)  5\n",
      "(1, 0, 0)  6\n",
      "(1, 0, 1)  7\n",
      "(1, 1, 0)  8\n",
      "(1, 1, 1)  9\n",
      "(1, 2, 0)  10\n",
      "(1, 2, 1)  11\n",
      "(2, 0, 0)  12\n",
      "(2, 0, 1)  13\n",
      "(2, 1, 0)  14\n",
      "(2, 1, 1)  15\n",
      "(2, 2, 0)  16\n",
      "(2, 2, 1)  17\n",
      "(3, 0, 0)  18\n",
      "(3, 0, 1)  19\n",
      "(3, 1, 0)  20\n",
      "(3, 1, 1)  21\n",
      "(3, 2, 0)  22\n",
      "(3, 2, 1)  23\n"
     ]
    }
   ],
   "source": [
    "# 1.\n",
    "a = np.arange(24).reshape(4, 3, 2)\n",
    "\n",
    "print('index    element')\n",
    "for x in range(4):\n",
    "    for y in range(3):\n",
    "        for z in range(2):\n",
    "            print(f'{x, y, z}  {a[x][y][z]}')"
   ]
  },
  {
   "cell_type": "code",
   "execution_count": 77,
   "metadata": {},
   "outputs": [
    {
     "name": "stdout",
     "output_type": "stream",
     "text": [
      "[0 1 6 7]\n",
      "[ 0  1 14 15]\n",
      "[[ 0  1]\n",
      " [ 2  3]\n",
      " [ 4  5]\n",
      " [ 6  7]\n",
      " [ 8  9]\n",
      " [10 11]]\n",
      "[[ 0  1  6  7]\n",
      " [ 2  3  8  9]\n",
      " [ 4  5 10 11]]\n"
     ]
    }
   ],
   "source": [
    "# 2.\n",
    "print(np.concatenate((a[0, 0], a[1, 0]), axis=0))\n",
    "print(np.concatenate((a[0, 0], a[2, 1]), axis=0))\n",
    "print(np.concatenate((a[0], a[1]), axis=0))\n",
    "print(np.concatenate((a[0], a[1]), axis=1))"
   ]
  },
  {
   "cell_type": "markdown",
   "metadata": {},
   "source": [
    "# Lab 9."
   ]
  },
  {
   "cell_type": "code",
   "execution_count": 88,
   "metadata": {},
   "outputs": [
    {
     "name": "stdout",
     "output_type": "stream",
     "text": [
      "b = [ 1  5  9 13]\n",
      "c = [ 9 10 11]\n",
      "d = [[0 1]\n",
      " [4 5]]\n",
      "e = [[ 5  6]\n",
      " [ 9 10]]\n"
     ]
    }
   ],
   "source": [
    "# 1.\n",
    "a = np.arange(16).reshape(4, 4)\n",
    "b = a[:, 1]\n",
    "print(f'b = {b}')\n",
    "\n",
    "c = a[2, 1:]\n",
    "print(f'c = {c}')\n",
    "\n",
    "d = a[:2, :2]\n",
    "print(f'd = {d}')\n",
    "\n",
    "e = a[1:3, 1:3]\n",
    "print(f'e = {e}')"
   ]
  },
  {
   "cell_type": "code",
   "execution_count": 94,
   "metadata": {},
   "outputs": [
    {
     "name": "stdout",
     "output_type": "stream",
     "text": [
      "f = [0 1 2 4 5 6]\n",
      "g = [ 8  9 10 11 12 13 14 15]\n",
      "h = [ 5  6  7 13 14 15]\n"
     ]
    }
   ],
   "source": [
    "# 2.\n",
    "f = a[:2, :3].flatten()\n",
    "print(f'f = {f}')\n",
    "\n",
    "g = a[2:, ].flatten()\n",
    "print(f'g = {g}')\n",
    "\n",
    "h = a[(1, 3), 1:].flatten()\n",
    "print(f'h = {h}')"
   ]
  },
  {
   "cell_type": "markdown",
   "metadata": {},
   "source": [
    "# Lab 10."
   ]
  },
  {
   "cell_type": "code",
   "execution_count": 119,
   "metadata": {},
   "outputs": [
    {
     "name": "stdout",
     "output_type": "stream",
     "text": [
      "x = 1.0, y = 2.0, z = 3.0\n",
      "det(A) = -11.000000000000002\n",
      "-11.0\n"
     ]
    }
   ],
   "source": [
    "# 1.\n",
    "a = np.array([[1, 1, -1], [2, -1, 3], [1, 2, 1]])\n",
    "b = np.array([0, 9, 8])\n",
    "\n",
    "x, y, z = np.linalg.solve(a, b)\n",
    "print(f'x = {x}, y = {y}, z = {z}')\n",
    "\n",
    "# 2.\n",
    "A = np.array([[1, 1, -1], [2, -1, 3], [1, 2, 1]], dtype='int32')\n",
    "print(f'det(A) = {np.linalg.det(A)}')\n",
    "\n",
    "# 3.\n",
    "first = 1 * np.linalg.det(A[1:, 1:])\n",
    "second = -2 * np.linalg.det(A[(0, 2), 1:])\n",
    "third = 1 * np.linalg.det(A[:2, 1:])\n",
    "\n",
    "print(first + second + third)"
   ]
  }
 ],
 "metadata": {
  "kernelspec": {
   "display_name": "Python 3",
   "language": "python",
   "name": "python3"
  },
  "language_info": {
   "codemirror_mode": {
    "name": "ipython",
    "version": 3
   },
   "file_extension": ".py",
   "mimetype": "text/x-python",
   "name": "python",
   "nbconvert_exporter": "python",
   "pygments_lexer": "ipython3",
   "version": "3.8.5"
  }
 },
 "nbformat": 4,
 "nbformat_minor": 4
}
