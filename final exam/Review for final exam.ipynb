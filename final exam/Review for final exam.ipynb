{
 "cells": [
  {
   "cell_type": "markdown",
   "metadata": {},
   "source": [
    "# Lab 8-1"
   ]
  },
  {
   "cell_type": "code",
   "execution_count": 3,
   "metadata": {},
   "outputs": [
    {
     "ename": "TypeError",
     "evalue": "unsupported operand type(s) for +: 'int' and 'str'",
     "output_type": "error",
     "traceback": [
      "\u001b[1;31m---------------------------------------------------------------------------\u001b[0m",
      "\u001b[1;31mTypeError\u001b[0m                                 Traceback (most recent call last)",
      "\u001b[1;32m<ipython-input-3-be06dc14d187>\u001b[0m in \u001b[0;36m<module>\u001b[1;34m\u001b[0m\n\u001b[0;32m      9\u001b[0m \u001b[1;33m\u001b[0m\u001b[0m\n\u001b[0;32m     10\u001b[0m \u001b[1;31m#\u001b[0m\u001b[1;33m\u001b[0m\u001b[1;33m\u001b[0m\u001b[1;33m\u001b[0m\u001b[0m\n\u001b[1;32m---> 11\u001b[1;33m \u001b[0ma\u001b[0m \u001b[1;33m=\u001b[0m \u001b[1;36m100\u001b[0m \u001b[1;33m+\u001b[0m \u001b[1;34m'200'\u001b[0m\u001b[1;33m\u001b[0m\u001b[1;33m\u001b[0m\u001b[0m\n\u001b[0m",
      "\u001b[1;31mTypeError\u001b[0m: unsupported operand type(s) for +: 'int' and 'str'"
     ]
    }
   ],
   "source": [
    "# 1.\n",
    "\n",
    "# IndexError\n",
    "#a = [10, 20, 30]\n",
    "# a[3]\n",
    "\n",
    "# ValueError\n",
    "# n = int('200%')\n",
    "\n",
    "# TypeError\n",
    "# a = 100 + '200'"
   ]
  },
  {
   "cell_type": "markdown",
   "metadata": {},
   "source": [
    "# Lab 8-2"
   ]
  },
  {
   "cell_type": "code",
   "execution_count": 9,
   "metadata": {},
   "outputs": [
    {
     "name": "stdout",
     "output_type": "stream",
     "text": [
      "0으로 나눌 수 없습니다\n",
      "정수 x를 입력하세요 : j\n",
      "잘못된 값이 입력되었습니다.\n",
      "No such file\n"
     ]
    }
   ],
   "source": [
    "# 1 - 1.\n",
    "\n",
    "try:\n",
    "    10 * (30 / 0)\n",
    "except ZeroDivisionError:\n",
    "    print('0으로 나눌 수 없습니다')\n",
    "    \n",
    "# 1 - 2.\n",
    "try:\n",
    "    x = int(input('정수 x를 입력하세요 : '))\n",
    "except ValueError:\n",
    "    print('잘못된 값이 입력되었습니다.')\n",
    "\n",
    "# 1 - 3.\n",
    "try:\n",
    "    import sys\n",
    "    \n",
    "    f = open(\"1234.txt\")\n",
    "    s = f.readline()\n",
    "except FileNotFoundError:\n",
    "    print('No such file')"
   ]
  },
  {
   "cell_type": "markdown",
   "metadata": {},
   "source": [
    "# Lab 8-3"
   ]
  },
  {
   "cell_type": "code",
   "execution_count": 12,
   "metadata": {},
   "outputs": [
    {
     "name": "stdout",
     "output_type": "stream",
     "text": [
      "a의 요소를 하나 선택하시오 : 1\n",
      "1은(는) 1번째 요소입니다.\n"
     ]
    }
   ],
   "source": [
    "# 1.\n",
    "a = [1, 2, 3, 4, 5]\n",
    "\n",
    "find_number = int(input('a의 요소를 하나 선택하시오 : '))\n",
    "print(f'{find_number}은(는) {a.index(find_number + 1)}번째 요소입니다.')"
   ]
  },
  {
   "cell_type": "code",
   "execution_count": 14,
   "metadata": {},
   "outputs": [
    {
     "name": "stdout",
     "output_type": "stream",
     "text": [
      "a의 요소를 하나 선택하시오 : 3\n",
      "3은(는) 3번째 요소입니다.\n"
     ]
    }
   ],
   "source": [
    "# 2.\n",
    "a = [1, 2, 3, 4, 5]\n",
    "\n",
    "try:\n",
    "    find_number = int(input('a의 요소를 하나 선택하시오 : '))\n",
    "except ValueError:\n",
    "    print('오류 : 입력 값이 정수나 실수가 아님')\n",
    "else:\n",
    "    print(f'{find_number}은(는) {a.index(find_number + 1)}번째 요소입니다.')"
   ]
  },
  {
   "cell_type": "markdown",
   "metadata": {},
   "source": [
    "# Lab 8-4"
   ]
  },
  {
   "cell_type": "code",
   "execution_count": 15,
   "metadata": {},
   "outputs": [],
   "source": [
    "# 1.\n",
    "file = open(\"numbers.txt\", \"w\")\n",
    "file.write(\"100\\n200\\n300\\n400\")\n",
    "file.close()"
   ]
  },
  {
   "cell_type": "code",
   "execution_count": 16,
   "metadata": {},
   "outputs": [],
   "source": [
    "# 2.\n",
    "content = \"\"\"Buddy, you're a boy, make a big noise\n",
    "Playing in the street, gonna be a big man someday\n",
    "You got moud on your face, you big disgrace\n",
    "Kicking your can all over the place, signin'\n",
    "We will, we will rock you\n",
    "We will, we will rock you\"\"\"\n",
    "\n",
    "file = open(\"we_will_rock.txt\", \"w\")\n",
    "file.write(content)\n",
    "file.close()"
   ]
  },
  {
   "cell_type": "markdown",
   "metadata": {},
   "source": [
    "# Lab 8-5"
   ]
  },
  {
   "cell_type": "code",
   "execution_count": 19,
   "metadata": {},
   "outputs": [
    {
     "name": "stdout",
     "output_type": "stream",
     "text": [
      "100\n",
      "200\n",
      "300\n",
      "400\n"
     ]
    }
   ],
   "source": [
    "# 1.\n",
    "file = open(\"numbers.txt\", \"r\")\n",
    "content = file.read().rstrip()\n",
    "print(content)\n",
    "file.close()"
   ]
  },
  {
   "cell_type": "code",
   "execution_count": 21,
   "metadata": {},
   "outputs": [
    {
     "name": "stdout",
     "output_type": "stream",
     "text": [
      "Buddy, you're a boy, make a big noise\n",
      "Playing in the street, gonna be a big man someday\n",
      "You got moud on your face, you big disgrace\n",
      "Kicking your can all over the place, signin'\n",
      "We will, we will rock you\n",
      "We will, we will rock you\n"
     ]
    }
   ],
   "source": [
    "# 2.\n",
    "file = open(\"we_will_rock.txt\", \"r\")\n",
    "content = file.read().rstrip()\n",
    "print(content)\n",
    "file.close()"
   ]
  },
  {
   "cell_type": "markdown",
   "metadata": {},
   "source": [
    "# Lab 8-6"
   ]
  },
  {
   "cell_type": "code",
   "execution_count": 23,
   "metadata": {},
   "outputs": [
    {
     "name": "stdout",
     "output_type": "stream",
     "text": [
      "입력할 파일의 이름 : we_will_rock.txt\n"
     ]
    }
   ],
   "source": [
    "# 1.\n",
    "filename = input('입력할 파일의 이름 : ')\n",
    "\n",
    "try:\n",
    "    file = open(filename, \"r\")\n",
    "except FileNotFoundError:\n",
    "    print(f'No such file {filename}')\n",
    "else:\n",
    "    content = file.read()\n",
    "    file.close()\n",
    "    content_upper = content.upper()\n",
    "    filename = filename[:-4] + '_upper.txt'\n",
    "    \n",
    "    new_file = open(filename, \"w\")\n",
    "    new_file.write(content_upper)\n",
    "    new_file.close()"
   ]
  },
  {
   "cell_type": "code",
   "execution_count": 37,
   "metadata": {},
   "outputs": [
    {
     "name": "stdout",
     "output_type": "stream",
     "text": [
      "파일 이름을 입력하세요 : we_will_rock.txt\n",
      "We will, we will rock you\n",
      "We will, we will rock you\n",
      "Kicking your can all over the place, signin'\n",
      "You got moud on your face, you big disgrace\n",
      "Playing in the street, gonna be a big man someday\n",
      "Buddy, you're a boy, make a big noise\n"
     ]
    }
   ],
   "source": [
    "# 2.\n",
    "filename = input('파일 이름을 입력하세요 : ')\n",
    "\n",
    "try:\n",
    "    file = open(filename, \"r\")\n",
    "except FileNotFoundError:\n",
    "    print('No such file {filename}')\n",
    "else:\n",
    "    contents = []\n",
    "    line = file.readline().rstrip()\n",
    "    while line:\n",
    "        contents.append(line)\n",
    "        line = file.readline().rstrip()\n",
    "        \n",
    "    contents = contents[::-1]\n",
    "    \n",
    "    for content in contents:\n",
    "        print(content)\n",
    "    \n",
    "    file.close()"
   ]
  },
  {
   "cell_type": "markdown",
   "metadata": {},
   "source": [
    "# Lab 9-1"
   ]
  },
  {
   "cell_type": "code",
   "execution_count": 43,
   "metadata": {},
   "outputs": [
    {
     "name": "stdout",
     "output_type": "stream",
     "text": [
      "100\n",
      "20000\n",
      "2.0\n",
      "40\n",
      "['__abs__', '__add__', '__and__', '__bool__', '__ceil__', '__class__', '__delattr__', '__dir__', '__divmod__', '__doc__', '__eq__', '__float__', '__floor__', '__floordiv__', '__format__', '__ge__', '__getattribute__', '__getnewargs__', '__gt__', '__hash__', '__index__', '__init__', '__init_subclass__', '__int__', '__invert__', '__le__', '__lshift__', '__lt__', '__mod__', '__mul__', '__ne__', '__neg__', '__new__', '__or__', '__pos__', '__pow__', '__radd__', '__rand__', '__rdivmod__', '__reduce__', '__reduce_ex__', '__repr__', '__rfloordiv__', '__rlshift__', '__rmod__', '__rmul__', '__ror__', '__round__', '__rpow__', '__rrshift__', '__rshift__', '__rsub__', '__rtruediv__', '__rxor__', '__setattr__', '__sizeof__', '__str__', '__sub__', '__subclasshook__', '__truediv__', '__trunc__', '__xor__', 'as_integer_ratio', 'bit_length', 'conjugate', 'denominator', 'from_bytes', 'imag', 'numerator', 'real', 'to_bytes']\n",
      "['__add__', '__class__', '__contains__', '__delattr__', '__delitem__', '__dir__', '__doc__', '__eq__', '__format__', '__ge__', '__getattribute__', '__getitem__', '__gt__', '__hash__', '__iadd__', '__imul__', '__init__', '__init_subclass__', '__iter__', '__le__', '__len__', '__lt__', '__mul__', '__ne__', '__new__', '__reduce__', '__reduce_ex__', '__repr__', '__reversed__', '__rmul__', '__setattr__', '__setitem__', '__sizeof__', '__str__', '__subclasshook__', 'append', 'clear', 'copy', 'count', 'extend', 'index', 'insert', 'pop', 'remove', 'reverse', 'sort']\n"
     ]
    }
   ],
   "source": [
    "# 1.\n",
    "print((200).__sub__(100))\n",
    "print((200).__mul__(100))\n",
    "print((200).__truediv__(100))\n",
    "\n",
    "# 2.\n",
    "print([10, 20, 30, 40].pop())\n",
    "\n",
    "# 4.\n",
    "print(dir(int))\n",
    "print(dir(list))"
   ]
  },
  {
   "cell_type": "markdown",
   "metadata": {},
   "source": [
    "# Lab 9-4"
   ]
  },
  {
   "cell_type": "code",
   "execution_count": 46,
   "metadata": {},
   "outputs": [
    {
     "name": "stdout",
     "output_type": "stream",
     "text": [
      "멍멍~~\n"
     ]
    }
   ],
   "source": [
    "class Dog:\n",
    "    def bark(self):\n",
    "        print('멍멍~~')\n",
    "        \n",
    "dog = Dog()\n",
    "dog.bark()"
   ]
  },
  {
   "cell_type": "code",
   "execution_count": 50,
   "metadata": {},
   "outputs": [
    {
     "name": "stdout",
     "output_type": "stream",
     "text": [
      "멍멍~~\n"
     ]
    }
   ],
   "source": [
    "class Dog:\n",
    "    def __init__(self, name):\n",
    "        self.name = name\n",
    "        \n",
    "    def bark(self):\n",
    "        print(\"멍멍~~\")\n",
    "        \n",
    "        \n",
    "dog = Dog(\"Jindo\")\n",
    "dog.bark()"
   ]
  },
  {
   "cell_type": "code",
   "execution_count": 52,
   "metadata": {},
   "outputs": [
    {
     "name": "stdout",
     "output_type": "stream",
     "text": [
      "Dog(name = Jindo)\n"
     ]
    }
   ],
   "source": [
    "class Dog:\n",
    "    def __init__(self, name):\n",
    "        self.name = name\n",
    "        \n",
    "    def bark(self):\n",
    "        print(\"멍멍~\")\n",
    "        \n",
    "    def __str__(self):\n",
    "        return f\"Dog(name = {self.name})\"\n",
    "    \n",
    "dog = Dog(\"Jindo\")\n",
    "print(dog)"
   ]
  },
  {
   "cell_type": "markdown",
   "metadata": {},
   "source": [
    "# Lab 9-7"
   ]
  },
  {
   "cell_type": "code",
   "execution_count": 53,
   "metadata": {},
   "outputs": [
    {
     "name": "stdout",
     "output_type": "stream",
     "text": [
      "same\n"
     ]
    }
   ],
   "source": [
    "n = 100\n",
    "m = 100\n",
    "\n",
    "if n is m:\n",
    "    print('same')\n",
    "else:\n",
    "    print('no')"
   ]
  },
  {
   "cell_type": "markdown",
   "metadata": {},
   "source": [
    "# Lab 9-8."
   ]
  },
  {
   "cell_type": "code",
   "execution_count": 56,
   "metadata": {},
   "outputs": [
    {
     "name": "stdout",
     "output_type": "stream",
     "text": [
      "vector pos : (300, 800)\n",
      "vector pos : (3.0, 2.0)\n"
     ]
    }
   ],
   "source": [
    "# 1.\n",
    "class vector_2d():\n",
    "    def __init__(self, x, y):\n",
    "        self.x = x\n",
    "        self.y = y\n",
    "\n",
    "    def __str__(self):\n",
    "        return f'vector pos : ({self.x}, {self.y})'\n",
    "        \n",
    "    def __truediv__(self, other):\n",
    "        return vector_2d(self.x / other.x, self.y / other.y)\n",
    "    \n",
    "    def __mul__(self, other):\n",
    "        return vector_2d(self.x * other.x, self.y * other.y)\n",
    "    \n",
    "vec1 = vector_2d(30, 40)\n",
    "vec2 = vector_2d(10, 20)\n",
    "\n",
    "print(vec1 * vec2)\n",
    "print(vec1 / vec2)"
   ]
  },
  {
   "cell_type": "code",
   "execution_count": 58,
   "metadata": {},
   "outputs": [
    {
     "name": "stdout",
     "output_type": "stream",
     "text": [
      "-vector pos : (-30, -40)\n"
     ]
    }
   ],
   "source": [
    "# 2.\n",
    "class vector_2d():\n",
    "    def __init__(self, x, y):\n",
    "        self.x = x\n",
    "        self.y = y\n",
    "\n",
    "    def __str__(self):\n",
    "        if self.x > 0 and self.y > 0:\n",
    "            return f'vector pos : ({self.x}, {self.y})'\n",
    "        elif self.x < 0 and self.y < 0:\n",
    "            return f'-vector pos : ({self.x}, {self.y})'\n",
    "        \n",
    "    def __truediv__(self, other):\n",
    "        return vector_2d(self.x / other.x, self.y / other.y)\n",
    "    \n",
    "    def __mul__(self, other):\n",
    "        return vector_2d(self.x * other.x, self.y * other.y)\n",
    "    \n",
    "    def __neg__(self):\n",
    "        return vector_2d(-self.x, -self.y)\n",
    "    \n",
    "vec1 = vector_2d(30, 40)\n",
    "vec2 = vector_2d(10, 20)\n",
    "\n",
    "print(-vec1)"
   ]
  },
  {
   "cell_type": "markdown",
   "metadata": {},
   "source": [
    "# Lab 9-9."
   ]
  },
  {
   "cell_type": "code",
   "execution_count": 60,
   "metadata": {},
   "outputs": [
    {
     "name": "stdout",
     "output_type": "stream",
     "text": [
      "v1 > v2 = True\n",
      "v1 >= v2 = True\n",
      "v1 < v2 = False\n",
      "v1 <= v2 = False\n"
     ]
    }
   ],
   "source": [
    "class vector:\n",
    "    def __init__(self, x, y):\n",
    "        self.x = x\n",
    "        self.y = y\n",
    "        \n",
    "    def __gt__(self, other):\n",
    "        return self.x > other.x\n",
    "    \n",
    "    def __ge__(self, other):\n",
    "        return self.x >= other.x\n",
    "    \n",
    "    def __lt__(self, other):\n",
    "        return self.x < other.x\n",
    "    \n",
    "    def __le__(self, other):\n",
    "        return self.x <= other.x\n",
    "    \n",
    "    def __str__(self):\n",
    "        return f'vector pos : ({self.x}, {self.y})'\n",
    "    \n",
    "    \n",
    "v1 = vector(30, 40)\n",
    "v2 = vector(10, 20)\n",
    "\n",
    "print(f'v1 > v2 = {v1 > v2}')\n",
    "print(f'v1 >= v2 = {v2 >= v2}')\n",
    "print(f'v1 < v2 = {v1 < v2}')\n",
    "print(f'v1 <= v2 = {v1 <= v2}')"
   ]
  },
  {
   "cell_type": "markdown",
   "metadata": {},
   "source": [
    "# Lab 9-10."
   ]
  },
  {
   "cell_type": "code",
   "execution_count": 61,
   "metadata": {},
   "outputs": [
    {
     "name": "stdout",
     "output_type": "stream",
     "text": [
      "{'width': 100, 'height': 200}\n",
      "100\n"
     ]
    }
   ],
   "source": [
    "# 1.\n",
    "class Rect:\n",
    "    def __init__(self, width, height):\n",
    "        self.width = width\n",
    "        self.height = height\n",
    "        \n",
    "r1 = Rect(100, 200)\n",
    "print(r1.__dict__)\n",
    "print(r1.__dict__['width'])"
   ]
  },
  {
   "cell_type": "code",
   "execution_count": 62,
   "metadata": {},
   "outputs": [
    {
     "name": "stdout",
     "output_type": "stream",
     "text": [
      "{'_Rect__width': 100, '_Rect__height': 200}\n",
      "100\n"
     ]
    }
   ],
   "source": [
    "# 2.\n",
    "class Rect:\n",
    "    def __init__(self, width, height):\n",
    "        self.__width = width\n",
    "        self.__height = height\n",
    "        \n",
    "r1 = Rect(100, 200)\n",
    "print(r1.__dict__)\n",
    "print(r1.__dict__['_Rect__width'])"
   ]
  },
  {
   "cell_type": "markdown",
   "metadata": {},
   "source": [
    "# Lab 10-1"
   ]
  },
  {
   "cell_type": "code",
   "execution_count": 63,
   "metadata": {},
   "outputs": [
    {
     "name": "stdout",
     "output_type": "stream",
     "text": [
      "100\n"
     ]
    }
   ],
   "source": [
    "# 1.\n",
    "# 생략\n",
    "\n",
    "# 2.\n",
    "sub = lambda x, y : x - y\n",
    "print(sub(200, 100))"
   ]
  },
  {
   "cell_type": "markdown",
   "metadata": {},
   "source": [
    "# Lab 10-2"
   ]
  },
  {
   "cell_type": "code",
   "execution_count": 66,
   "metadata": {},
   "outputs": [
    {
     "name": "stdout",
     "output_type": "stream",
     "text": [
      "[2, 4, 6, 8, 10]\n",
      "[1, 3, 5, 7, 9]\n"
     ]
    }
   ],
   "source": [
    "# 1.\n",
    "n_list = [i for i in range(1, 11)]\n",
    "\n",
    "even_list = []\n",
    "for i in filter(lambda x : x % 2 == 0, n_list):\n",
    "    even_list.append(i)\n",
    "    \n",
    "print(even_list)\n",
    "\n",
    "# 2.\n",
    "n_list = [i for i in range(1, 11)]\n",
    "\n",
    "odd_list = []\n",
    "\n",
    "for i in filter(lambda x : x % 2, n_list):\n",
    "    odd_list.append(i)\n",
    "    \n",
    "print(odd_list)"
   ]
  },
  {
   "cell_type": "markdown",
   "metadata": {},
   "source": [
    "# Lab 10-3"
   ]
  },
  {
   "cell_type": "code",
   "execution_count": 67,
   "metadata": {},
   "outputs": [
    {
     "name": "stdout",
     "output_type": "stream",
     "text": [
      "['A', 'B', 'C', 'D']\n"
     ]
    }
   ],
   "source": [
    "# 1.\n",
    "a_list = ['a', 'b', 'c', 'd']\n",
    "\n",
    "upper_a_list = list(map(lambda x : x.upper(), a_list))\n",
    "print(upper_a_list)"
   ]
  },
  {
   "cell_type": "code",
   "execution_count": 68,
   "metadata": {},
   "outputs": [
    {
     "name": "stdout",
     "output_type": "stream",
     "text": [
      "[20, 40, 60]\n",
      "[30, 60, 90]\n"
     ]
    }
   ],
   "source": [
    "# 2.\n",
    "n_list = [10, 20, 30]\n",
    "\n",
    "twice = list(map(lambda x : x * 2, n_list))\n",
    "triple = list(map(lambda x : x * 3, n_list))\n",
    "\n",
    "print(twice)\n",
    "print(triple)"
   ]
  },
  {
   "cell_type": "markdown",
   "metadata": {},
   "source": [
    "# Lab 10-4"
   ]
  },
  {
   "cell_type": "code",
   "execution_count": 70,
   "metadata": {},
   "outputs": [
    {
     "name": "stdout",
     "output_type": "stream",
     "text": [
      "1에서 100까지의 합 : 5050\n"
     ]
    }
   ],
   "source": [
    "# 1.\n",
    "from functools import reduce\n",
    "\n",
    "numbers = [i for i in range(1, 101)]\n",
    "\n",
    "print(f'1에서 100까지의 합 : {reduce(lambda x, y : x + y, numbers)}')"
   ]
  },
  {
   "cell_type": "code",
   "execution_count": 71,
   "metadata": {},
   "outputs": [
    {
     "name": "stdout",
     "output_type": "stream",
     "text": [
      "10! = 3628800\n"
     ]
    }
   ],
   "source": [
    "# 2.\n",
    "from functools import reduce\n",
    "\n",
    "print(f'10! = {reduce(lambda x, y : x * y, [i for i in range(1, 11)])}')"
   ]
  },
  {
   "cell_type": "markdown",
   "metadata": {},
   "source": [
    "# Lab 10-6"
   ]
  },
  {
   "cell_type": "code",
   "execution_count": 74,
   "metadata": {},
   "outputs": [
    {
     "name": "stdout",
     "output_type": "stream",
     "text": [
      "[1, 8, 27, 64, 125, 216, 343]\n",
      "['1', '2', '3', '4']\n"
     ]
    }
   ],
   "source": [
    "# 1.\n",
    "cubic = [i ** 3 for i in range(1, 11) if i ** 3 < 500]\n",
    "print(cubic)\n",
    "\n",
    "# 2.\n",
    "st = \"Hello 1234 Python\"\n",
    "digit = [c for c in st if c.isdigit()]\n",
    "print(digit)"
   ]
  },
  {
   "cell_type": "markdown",
   "metadata": {},
   "source": [
    "# Lab 11-1"
   ]
  },
  {
   "cell_type": "code",
   "execution_count": 78,
   "metadata": {},
   "outputs": [
    {
     "name": "stdout",
     "output_type": "stream",
     "text": [
      "[0 1 2 3 4 5 6 7 8 9]\n",
      "(10,)\n",
      "1\n",
      "int32\n",
      "10\n",
      "4\n"
     ]
    }
   ],
   "source": [
    "# 1.\n",
    "import numpy as np\n",
    "\n",
    "a = np.array([i for i in range(10)])\n",
    "print(a)\n",
    "\n",
    "# 4.\n",
    "print(a.shape)\n",
    "print(a.ndim)\n",
    "print(a.dtype)\n",
    "print(a.size)\n",
    "print(a.itemsize)"
   ]
  },
  {
   "cell_type": "markdown",
   "metadata": {},
   "source": [
    "# Lab 11-2"
   ]
  },
  {
   "cell_type": "code",
   "execution_count": 88,
   "metadata": {},
   "outputs": [
    {
     "name": "stdout",
     "output_type": "stream",
     "text": [
      "최댓값 : 82\n",
      "최솟값 : 2\n",
      "평균값 : 36.25\n",
      "최댓값 : 88\n",
      "최솟값 : 2\n",
      "평균값 : 38.6\n",
      "[23 45 67  7  2 30 34 82]\n"
     ]
    }
   ],
   "source": [
    "# 1.\n",
    "sample = [23, 45, 67, 7, 2, 30, 34, 82]\n",
    "a = np.array(sample)\n",
    "\n",
    "print(f'최댓값 : {a.max()}')\n",
    "print(f'최솟값 : {a.min()}')\n",
    "print(f'평균값 : {a.mean()}')\n",
    "\n",
    "# 2.\n",
    "b = np.random.randint(0, 99, size = 10)\n",
    "print(f'최댓값 : {b.max()}')\n",
    "print(f'최솟값 : {b.min()}')\n",
    "print(f'평균값 : {b.mean()}')\n",
    "\n",
    "# 3.\n",
    "np.append(a, b)\n",
    "c = np.array(a)\n",
    "c.flatten()\n",
    "print(c)"
   ]
  },
  {
   "cell_type": "markdown",
   "metadata": {},
   "source": [
    "# Lab 11-3"
   ]
  },
  {
   "cell_type": "code",
   "execution_count": 90,
   "metadata": {},
   "outputs": [
    {
     "name": "stdout",
     "output_type": "stream",
     "text": [
      "[[1 2 3]\n",
      " [4 5 6]\n",
      " [7 8 9]]\n",
      "[[2 2 2]\n",
      " [2 2 2]\n",
      " [2 2 2]]\n"
     ]
    }
   ],
   "source": [
    "# 1.\n",
    "A = np.array([i for i in range(1, 10)]).reshape(3, 3)\n",
    "B = np.array([2 for _ in range(9)]).reshape(3, 3)\n",
    "\n",
    "print(A)\n",
    "print(B)"
   ]
  },
  {
   "cell_type": "code",
   "execution_count": 92,
   "metadata": {},
   "outputs": [
    {
     "name": "stdout",
     "output_type": "stream",
     "text": [
      "[[ 3  4  5]\n",
      " [ 6  7  8]\n",
      " [ 9 10 11]]\n",
      "[[-1  0  1]\n",
      " [ 2  3  4]\n",
      " [ 5  6  7]]\n",
      "[[ 2  4  6]\n",
      " [ 8 10 12]\n",
      " [14 16 18]]\n",
      "[[0.5 1.  1.5]\n",
      " [2.  2.5 3. ]\n",
      " [3.5 4.  4.5]]\n",
      "[[12 12 12]\n",
      " [30 30 30]\n",
      " [48 48 48]]\n",
      "[[ 1  4  9]\n",
      " [16 25 36]\n",
      " [49 64 81]]\n"
     ]
    }
   ],
   "source": [
    "# 2.\n",
    "print(A + B)\n",
    "print(A - B)\n",
    "print(A * B)\n",
    "print(A / B)\n",
    "print(A @ B)\n",
    "print(A ** 2)"
   ]
  },
  {
   "cell_type": "markdown",
   "metadata": {},
   "source": [
    "# Lab 11-4"
   ]
  },
  {
   "cell_type": "code",
   "execution_count": 97,
   "metadata": {},
   "outputs": [
    {
     "name": "stdout",
     "output_type": "stream",
     "text": [
      "[[2 2 2]\n",
      " [2 2 2]\n",
      " [2 2 2]]\n",
      "[ 1  2  3  4  5  6  7  8  9 10 11 12]\n",
      "[ 3  6  9 12 15 18 21 24 27 30 33 36 39 42 45 48]\n",
      "[ 0.  5. 10. 15. 20.]\n"
     ]
    }
   ],
   "source": [
    "# 1.\n",
    "a1 = np.full((3, 3), 2)\n",
    "print(a1)\n",
    "\n",
    "# 2.\n",
    "a2 = np.array([i for i in range(1, 13)])\n",
    "print(a2)\n",
    "\n",
    "# 3.\n",
    "a3 = np.array([i for i in range(3, 50, 3)])\n",
    "print(a3)\n",
    "\n",
    "# 4.\n",
    "a4 = np.linspace(0, 20, 5)\n",
    "print(a4)"
   ]
  },
  {
   "cell_type": "markdown",
   "metadata": {},
   "source": [
    "# Lab 11-5"
   ]
  },
  {
   "cell_type": "code",
   "execution_count": 99,
   "metadata": {},
   "outputs": [
    {
     "name": "stdout",
     "output_type": "stream",
     "text": [
      "[[ 1  2  3  4  5  6]\n",
      " [ 7  8  9 10 11 12]]\n",
      "[[ 1  2  3  4  5  6  7  8  9 10]\n",
      " [11 12 13 14 15 16 17 18 19 20]\n",
      " [21 22 23 24 25 26 27 28 29 30]]\n",
      "[[ 1  2  3  4  5]\n",
      " [ 6  7  8  9 10]\n",
      " [11 12 13 14 15]\n",
      " [16 17 18 19 20]\n",
      " [21 22 23 24 25]\n",
      " [26 27 28 29 30]]\n",
      "[[ 1  6 11 16 21 26]\n",
      " [ 2  7 12 17 22 27]\n",
      " [ 3  8 13 18 23 28]\n",
      " [ 4  9 14 19 24 29]\n",
      " [ 5 10 15 20 25 30]]\n"
     ]
    }
   ],
   "source": [
    "# 1.\n",
    "a1 = np.array([i for i in range(1, 13)])\n",
    "a1 = a1.reshape(2, 6)\n",
    "print(a1)\n",
    "\n",
    "# 2.\n",
    "a2 = np.array([i for i in range(1, 31)])\n",
    "a2 = a2.reshape(3, 10)\n",
    "print(a2)\n",
    "\n",
    "# 3.\n",
    "a3 = a2.reshape(6, 5)\n",
    "print(a3)\n",
    "\n",
    "# 4.\n",
    "a4 = np.transpose(a3)\n",
    "print(a4)"
   ]
  },
  {
   "cell_type": "markdown",
   "metadata": {},
   "source": [
    "# Lab 11-6"
   ]
  },
  {
   "cell_type": "code",
   "execution_count": 108,
   "metadata": {},
   "outputs": [
    {
     "name": "stdout",
     "output_type": "stream",
     "text": [
      "[[73 37  4 63 76]\n",
      " [32 46 57 11 43]\n",
      " [90 54 13 39 90]]\n",
      "a의 열방향 최댓값 : [90 54 57 63 90]\n",
      "a의 열방향 최솟값 : [32 37  4 11 43]\n",
      "a의 열방향 평균 : [65.         45.66666667 24.66666667 37.66666667 69.66666667]\n",
      "a의 행방향 최댓값 : [76 57 90]\n",
      "a의 행방향 최솟값 : [ 4 11 13]\n",
      "a의 행방향 평균 : [50.6 37.8 57.2]\n"
     ]
    }
   ],
   "source": [
    "# 1.\n",
    "a = np.random.randint(1, 100, size = 15)\n",
    "a = a.reshape(3, 5)\n",
    "print(a)\n",
    "\n",
    "# 2.\n",
    "print(f'a의 열방향 최댓값 : {a.max(axis = 0)}')\n",
    "print(f'a의 열방향 최솟값 : {a.min(axis = 0)}')\n",
    "print(f'a의 열방향 평균 : {a.mean(axis = 0)}')\n",
    "\n",
    "# 3.\n",
    "print(f'a의 행방향 최댓값 : {a.max(axis = 1)}')\n",
    "print(f'a의 행방향 최솟값 : {a.min(axis = 1)}')\n",
    "print(f'a의 행방향 평균 : {a.mean(axis = 1)}')"
   ]
  },
  {
   "cell_type": "markdown",
   "metadata": {},
   "source": [
    "# Lab 11-7"
   ]
  },
  {
   "cell_type": "code",
   "execution_count": 117,
   "metadata": {},
   "outputs": [
    {
     "name": "stdout",
     "output_type": "stream",
     "text": [
      "[2 4 6 8]\n",
      "[ 6  7  8  9 10]\n",
      "[ 7  8  9 10]\n",
      "[1 2 3]\n",
      "[1 3 5 7 9]\n",
      "[10  8  6  4  2]\n"
     ]
    }
   ],
   "source": [
    "# 1.\n",
    "a = np.array([i for i in range(1, 11)])\n",
    "b = a[1:-1:2]\n",
    "print(b)\n",
    "\n",
    "# 2.\n",
    "b = a[5:]\n",
    "print(b)\n",
    "\n",
    "c = a[6:]\n",
    "print(c)\n",
    "\n",
    "d = a[:3]\n",
    "print(d)\n",
    "\n",
    "e = a[0::2]\n",
    "print(e)\n",
    "\n",
    "f = a[-1::-2]\n",
    "print(f)"
   ]
  },
  {
   "cell_type": "markdown",
   "metadata": {},
   "source": [
    "# Lab 11-8"
   ]
  },
  {
   "cell_type": "code",
   "execution_count": 118,
   "metadata": {},
   "outputs": [
    {
     "name": "stdout",
     "output_type": "stream",
     "text": [
      "[[[ 0  1]\n",
      "  [ 2  3]\n",
      "  [ 4  5]]\n",
      "\n",
      " [[ 6  7]\n",
      "  [ 8  9]\n",
      "  [10 11]]\n",
      "\n",
      " [[12 13]\n",
      "  [14 15]\n",
      "  [16 17]]\n",
      "\n",
      " [[18 19]\n",
      "  [20 21]\n",
      "  [22 23]]]\n"
     ]
    }
   ],
   "source": [
    "# 1.\n",
    "a = np.array([i for i in range(24)]).reshape(4, 3, 2)\n",
    "print(a)"
   ]
  },
  {
   "cell_type": "code",
   "execution_count": 129,
   "metadata": {},
   "outputs": [
    {
     "name": "stdout",
     "output_type": "stream",
     "text": [
      "[0 1 6 7]\n",
      "[ 0  1 14 15]\n",
      "[[ 0  1]\n",
      " [ 2  3]\n",
      " [ 4  5]\n",
      " [ 6  7]\n",
      " [ 8  9]\n",
      " [10 11]]\n",
      "[[ 0  1  6  7]\n",
      " [ 2  3  8  9]\n",
      " [ 4  5 10 11]]\n"
     ]
    }
   ],
   "source": [
    "# 2.\n",
    "a1 = np.concatenate((a[0][0], a[1][0]), axis=0)\n",
    "print(a1)\n",
    "\n",
    "a2 = np.concatenate((a[0][0], a[2][1]), axis=0)\n",
    "print(a2)\n",
    "\n",
    "a3 = np.concatenate((a[0], a[1]), axis=0)\n",
    "print(a3)\n",
    "\n",
    "a4 = np.concatenate((a[0], a[1]), axis=1)\n",
    "print(a4)"
   ]
  },
  {
   "cell_type": "markdown",
   "metadata": {},
   "source": [
    "# Lab 11-9"
   ]
  },
  {
   "cell_type": "code",
   "execution_count": 137,
   "metadata": {},
   "outputs": [
    {
     "name": "stdout",
     "output_type": "stream",
     "text": [
      "[ 1  5  9 13]\n",
      "[ 9 10 11]\n",
      "[[0 1]\n",
      " [4 5]]\n",
      "[[ 5  6]\n",
      " [ 9 10]]\n"
     ]
    }
   ],
   "source": [
    "# 1.\n",
    "a = np.array([i for i in range(16)]).reshape(4, 4)\n",
    "\n",
    "b = a[:, 1]\n",
    "print(b)\n",
    "\n",
    "c = a[2, 1:]\n",
    "print(c)\n",
    "\n",
    "d = a[:2, :2]\n",
    "print(d)\n",
    "\n",
    "e = a[1:3, 1:3]\n",
    "print(e)"
   ]
  },
  {
   "cell_type": "code",
   "execution_count": 139,
   "metadata": {},
   "outputs": [
    {
     "name": "stdout",
     "output_type": "stream",
     "text": [
      "[0 1 2 4 5 6]\n",
      "[ 8  9 10 11 12 13 14 15]\n",
      "[ 5  6  7 13 14 15]\n"
     ]
    }
   ],
   "source": [
    "# 2.\n",
    "f = a[:2, :3].flatten()\n",
    "print(f)\n",
    "\n",
    "g = a[2:, :].flatten()\n",
    "print(g)\n",
    "\n",
    "h = a[1::2, 1:].flatten()\n",
    "print(h)"
   ]
  },
  {
   "cell_type": "markdown",
   "metadata": {},
   "source": [
    "# Lab 11-10"
   ]
  },
  {
   "cell_type": "code",
   "execution_count": 144,
   "metadata": {},
   "outputs": [
    {
     "name": "stdout",
     "output_type": "stream",
     "text": [
      "x = 1.0, y = 2.0, z = 3.0\n",
      "det(A) = -11.000000000000002\n"
     ]
    }
   ],
   "source": [
    "# 1. \n",
    "A = np.array([\n",
    "    [1, 1, -1],\n",
    "    [2, -1, 3],\n",
    "    [1, 2, 1]\n",
    "])\n",
    "\n",
    "B = np.array([\n",
    "    [0],\n",
    "    [9],\n",
    "    [8]\n",
    "])\n",
    "\n",
    "sols = np.linalg.solve(A, B)\n",
    "\n",
    "print(f'x = {sols[0][0]}, y = {sols[1][0]}, z = {sols[2][0]}')\n",
    "\n",
    "# 2.\n",
    "detA = np.linalg.det(A)\n",
    "print(f'det(A) = {detA}')"
   ]
  },
  {
   "cell_type": "code",
   "execution_count": null,
   "metadata": {},
   "outputs": [],
   "source": []
  }
 ],
 "metadata": {
  "kernelspec": {
   "display_name": "Python 3",
   "language": "python",
   "name": "python3"
  },
  "language_info": {
   "codemirror_mode": {
    "name": "ipython",
    "version": 3
   },
   "file_extension": ".py",
   "mimetype": "text/x-python",
   "name": "python",
   "nbconvert_exporter": "python",
   "pygments_lexer": "ipython3",
   "version": "3.8.5"
  }
 },
 "nbformat": 4,
 "nbformat_minor": 4
}
